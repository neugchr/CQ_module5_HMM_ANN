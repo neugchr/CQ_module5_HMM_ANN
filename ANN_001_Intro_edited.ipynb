{
 "cells": [
  {
   "cell_type": "markdown",
   "metadata": {
    "id": "QWLkHVhlhPMi"
   },
   "source": [
    "# What is Machine Learning (AI)\n",
    "\n",
    "**A problem:** \n",
    "How do we recognize (label) images? Can we write a program to do the same?\n",
    "\n",
    "<div>\n",
    "   <img src=\"https://github.com/thomasmanke/ABS/raw/main/figures/Sherlock.png\",  width=\"500\">\n",
    "</div>\n",
    "\n",
    "> “The principal difficulty ... lay in the fact of there being too much evidence. What was vital was overlaid and hidden by what was irrelevant. Of all the facts which were presented to us we had to pick just those which we deemed to be essential, and then piece them together in their order, so as to reconstruct this very remarkable chain of events.\"  Sherlock Holmes (The Naval treaty, 1893)\n",
    "\n",
    "\n",
    "- Classical Programming: Rules (f) +  Data (X) --> Answers (Y)   \n",
    "- Machine Learning: Answers (Y) + Data (X) --> Rules (f)\n",
    "\n",
    "**Quiz (5 min):**  A simpler challenge: Find the rule $y = f(x, \\beta)$ for x and y below"
   ]
  },
  {
   "cell_type": "code",
   "execution_count": 1,
   "metadata": {
    "executionInfo": {
     "elapsed": 4,
     "status": "ok",
     "timestamp": 1655290727389,
     "user": {
      "displayName": "Thomas Manke",
      "userId": "17591636328965298454"
     },
     "user_tz": -120
    },
    "id": "m4FRmTu9h2rY"
   },
   "outputs": [],
   "source": [
    "import numpy as np\n",
    "import matplotlib.pyplot as plt\n",
    "\n",
    "x = np.array([-1,  0, 1, 2, 3, 4])     # Data\n",
    "y = np.array([-3, -1, 1, 3, 5, 7])     # Answer"
   ]
  },
  {
   "cell_type": "markdown",
   "metadata": {
    "id": "NRsKghWmL4Db"
   },
   "source": [
    "*Notice*: a more realistic scenario would allow for errors: $y = f(x, \\beta) + \\epsilon$"
   ]
  },
  {
   "cell_type": "markdown",
   "metadata": {
    "id": "sGzIe4HGuIcD"
   },
   "source": [
    "## The linear regression way (Gauss 1809)"
   ]
  },
  {
   "cell_type": "markdown",
   "metadata": {
    "id": "dXAmE91gw7Pq"
   },
   "source": [
    "$$f(X, \\beta) = \\beta_0  + \\beta_1 x$$\n",
    "\n",
    "**Ordinary Least-squares fit**: analytical\n",
    "\n",
    "$$\\underset{\\beta}{\\mbox{argmin}} || y - f(X,\\beta)||^2 \\longrightarrow (\\beta_0, \\beta_1)=(-1,2)$$\n",
    "\n",
    "**Predictions**: for two new values $(x=10, -40)$\n"
   ]
  },
  {
   "cell_type": "code",
   "execution_count": 2,
   "metadata": {
    "colab": {
     "base_uri": "https://localhost:8080/"
    },
    "executionInfo": {
     "elapsed": 249,
     "status": "ok",
     "timestamp": 1655237210980,
     "user": {
      "displayName": "Thomas Manke",
      "userId": "17591636328965298454"
     },
     "user_tz": -120
    },
    "id": "9QmuzRHhGMAy",
    "outputId": "6c72a1d8-a794-478f-c931-fffd06b82e13"
   },
   "outputs": [
    {
     "name": "stdout",
     "output_type": "stream",
     "text": [
      "predictions:  [ 10 -40] -> [ 19. -81.]\n"
     ]
    }
   ],
   "source": [
    "x_new = np.array([10, -40])\n",
    "y_new = -1 + 2.0*np.array(x_new)\n",
    "print('predictions: ', x_new, \"->\", y_new)"
   ]
  },
  {
   "cell_type": "markdown",
   "metadata": {
    "id": "yaggfmQKJl3T"
   },
   "source": [
    "## The Python way (sklearn: 2013)"
   ]
  },
  {
   "cell_type": "markdown",
   "metadata": {
    "id": "PiGqmvso1TwA"
   },
   "source": [
    "The modeling steps:\n",
    "- define the data\n",
    "- define the model\n",
    "- fit\n",
    "- evaluate\n",
    "- predict\n",
    "\n"
   ]
  },
  {
   "cell_type": "code",
   "execution_count": 5,
   "metadata": {
    "colab": {
     "base_uri": "https://localhost:8080/"
    },
    "executionInfo": {
     "elapsed": 1280,
     "status": "ok",
     "timestamp": 1655235362282,
     "user": {
      "displayName": "Thomas Manke",
      "userId": "17591636328965298454"
     },
     "user_tz": -120
    },
    "id": "fw9O6o5hujWc",
    "outputId": "aca4b573-5599-4f43-d521-de6a6202e94d"
   },
   "outputs": [
    {
     "name": "stdout",
     "output_type": "stream",
     "text": [
      "Fitted Parameters        -1.0 [2.]\n",
      "Mean Squared Error:      0.0\n",
      "predictions:    [ 19. -81. 599.]\n"
     ]
    }
   ],
   "source": [
    "from sklearn import linear_model\n",
    "from sklearn.metrics import mean_squared_error\n",
    "\n",
    "lm = linear_model.LinearRegression()  # define model\n",
    "xr = x.reshape(-1,1)                  # define data (+restructuring for specific tool) \n",
    "\n",
    "lm.fit(xr, y)                         # fit c.f. R: lm(Y ~ X)\n",
    "\n",
    "# report fit\n",
    "print('Fitted Parameters       ', lm.intercept_, lm.coef_)\n",
    "\n",
    "yp = lm.predict(xr)                   # prediction\n",
    "MSE= mean_squared_error(y, yp)        # evaluate fit. other scores: R2=lm.score(xr, y)\n",
    "\n",
    "print('Mean Squared Error:     ', MSE)\n",
    "\n",
    "# predict y for some new x\n",
    "x_new=np.array([10, -40, 300])\n",
    "y_new = lm.predict(x_new.reshape(-1,1))\n",
    "\n",
    "print('predictions:   ', y_new)"
   ]
  },
  {
   "cell_type": "markdown",
   "metadata": {
    "id": "vNNHxhXDiyts"
   },
   "source": [
    "## The Tensorflow/Keras way (2022)"
   ]
  },
  {
   "cell_type": "code",
   "execution_count": 15,
   "metadata": {
    "colab": {
     "base_uri": "https://localhost:8080/"
    },
    "executionInfo": {
     "elapsed": 3329,
     "status": "ok",
     "timestamp": 1655246319857,
     "user": {
      "displayName": "Thomas Manke",
      "userId": "17591636328965298454"
     },
     "user_tz": -120
    },
    "id": "khzmpiGe-r4v",
    "outputId": "9f1e47b5-9c44-4612-e1b9-97c9cbba4bc1"
   },
   "outputs": [
    {
     "name": "stdout",
     "output_type": "stream",
     "text": [
      "tf version: 2.4.1\n",
      "Fitted Parameters              [<tf.Variable 'dense_8/kernel:0' shape=(1, 1) dtype=float32, numpy=array([[1.9999982]], dtype=float32)>, <tf.Variable 'dense_8/bias:0' shape=(1,) dtype=float32, numpy=array([-0.99999595], dtype=float32)>]\n",
      "Mean Squared Error (loss):     1.0603666382447141e-11\n",
      "WARNING:tensorflow:8 out of the last 8 calls to <function Model.make_predict_function.<locals>.predict_function at 0x7efbbee4bb80> triggered tf.function retracing. Tracing is expensive and the excessive number of tracings could be due to (1) creating @tf.function repeatedly in a loop, (2) passing tensors with different shapes, (3) passing Python objects instead of tensors. For (1), please define your @tf.function outside of the loop. For (2), @tf.function has experimental_relax_shapes=True option that relaxes argument shapes that can avoid unnecessary retracing. For (3), please refer to https://www.tensorflow.org/guide/function#controlling_retracing and https://www.tensorflow.org/api_docs/python/tf/function for  more details.\n",
      "analytical:  [ 19. -81.]\n",
      "numerical:   [[ 18.999987]\n",
      " [-80.99992 ]]\n"
     ]
    }
   ],
   "source": [
    "import tensorflow as tf\n",
    "print('tf version:',tf.__version__)\n",
    "\n",
    "# define model - the \"black box\"\n",
    "model = tf.keras.Sequential()\n",
    "model.add( tf.keras.layers.Dense(units=1, input_shape=[1]) )\n",
    "\n",
    "# define optimization and loss\n",
    "model.compile(optimizer='sgd', loss='mean_squared_error') \n",
    "\n",
    "# fit model ###\n",
    "fit_history = model.fit(x,y, epochs=5000, verbose=0)       \n",
    "\n",
    " # report fit ####\n",
    "print('Fitted Parameters             ', model.trainable_variables)\n",
    "print('Mean Squared Error (loss):    ', fit_history.history['loss'][-1])\n",
    "\n",
    "# make predictions ####\n",
    "x_new = [ 10.0 , -40.0 ]\n",
    "y_new = model.predict(x_new)\n",
    "y_ana = -1 + 2.0*np.array(x_new)\n",
    "\n",
    "print('analytical: ', y_ana)\n",
    "print('numerical:  ', y_new)"
   ]
  },
  {
   "cell_type": "markdown",
   "metadata": {
    "id": "HZT1fEhzfSGA"
   },
   "source": [
    "## Don't Panic !"
   ]
  },
  {
   "cell_type": "markdown",
   "metadata": {
    "id": "DnsEs8DpPfdF"
   },
   "source": [
    "**Notice**:\n",
    "- tensorflow supports generic **modeling steps**: define model, define loss function, fit model, predict.\n",
    "- the most cryptic (and the most flexible!) part is the definition of the \"black box\". We will spend much more time with this - so don't panic.\n",
    "- There are many **alternative frameworks**: pyTorch, Caffe2, ...\n",
    "In this course we use the high-level API *Keras* rather than Tensorflow directly.\n",
    "- tensorflow has **new data structures** that need to get used to: e.g. fitted_parameters\n",
    "- tensorflow model predictions appear less accurate (and slower) for this task of linear regression. This is because they have been obtained from an **iterative approach** (epcohs). In contrast, sklearn:LinearRegression() uses fast analytical tools (specific for linear regression) under the hood.\n",
    "- Tthe tensorflow approach is more generic and extends to much more complex models\n",
    "- The iteration can be monitored by the loss function (MSE) to assess convergence\n"
   ]
  },
  {
   "cell_type": "code",
   "execution_count": null,
   "metadata": {
    "colab": {
     "base_uri": "https://localhost:8080/",
     "height": 295
    },
    "executionInfo": {
     "elapsed": 270,
     "status": "ok",
     "timestamp": 1655244215084,
     "user": {
      "displayName": "Thomas Manke",
      "userId": "17591636328965298454"
     },
     "user_tz": -120
    },
    "id": "NvKFj5KgPBnU",
    "outputId": "6e93493c-d3d4-439e-8b71-4c210e19e343"
   },
   "outputs": [
    {
     "data": {
      "image/png": "[encoded data removed]",
      "text/plain": [
       "<Figure size 432x288 with 1 Axes>"
      ]
     },
     "metadata": {
      "needs_background": "light"
     },
     "output_type": "display_data"
    }
   ],
   "source": [
    "plt.figure()\n",
    "plt.plot(fit_history.history['loss'][1:])\n",
    "plt.title('model loss')\n",
    "plt.ylabel('loss')\n",
    "plt.xlabel('epoch')\n",
    "plt.show()"
   ]
  },
  {
   "cell_type": "markdown",
   "metadata": {
    "id": "JeSaeiWePEfJ"
   },
   "source": [
    "## Task (15 min): Play with the new toy !\n",
    "\n",
    "- The model is fitted iteratively (iterations = epochs) to reduce some loss function (here: *mean_squared error* MSE).\n",
    "\n",
    "- Change the number of epochs and/or the new data points $x\\_new$. Observe the different results.\n",
    "\n",
    "- You may also activate the verbose function to see some progress reporting"
   ]
  },
  {
   "cell_type": "markdown",
   "metadata": {
    "id": "niXss-KSfvRS"
   },
   "source": [
    "# Linear Regression as a Neural Network"
   ]
  },
  {
   "cell_type": "markdown",
   "metadata": {
    "id": "H0IZ-XFBG8_b"
   },
   "source": [
    "<div>\n",
    "   <img src=\"https://github.com/thomasmanke/ABS/raw/main/figures/ANN_LinearRegression.jpg\",  width=\"1000\">\n",
    "</div>\n"
   ]
  },
  {
   "cell_type": "markdown",
   "metadata": {
    "id": "Du6PhKRW1PYn"
   },
   "source": [
    "# Group Task (40 min): Fit Iris Data with tensorflow"
   ]
  },
  {
   "cell_type": "markdown",
   "metadata": {
    "id": "RqW1lj54ld0e"
   },
   "source": [
    "Follow the above example to fit a more realistic data set to a linear model.\n",
    "\n",
    "- **Explore** the Iris data set: iris.data. What are the variables? See also here: [wikipedia link](https://en.wikipedia.org/wiki/Iris_flower_data_set)\n",
    "- **Fitting:** Implement a linear fit making use of the tensorflow approach as shown above\n",
    "- **Convergence:** Plot the loss (MSE) check if it has been reduced over the fitting epochs: $\\to$ plot fit_history.history['loss'] \n",
    "- **Parameters:** Check the slope (weight) and intersect (bias): $\\to$ model.layers[0].get_weights()\n",
    "- **Predictions:** use the model to obtain the predicted values yp $\\to$ model.predict()\n",
    "- **Plot** the fitted regression line over the scatter plot\n",
    "\n",
    "- if time allows: feel free to repeat the above analysis for other variables from the Iris data set"
   ]
  },
  {
   "cell_type": "code",
   "execution_count": 29,
   "metadata": {
    "colab": {
     "base_uri": "https://localhost:8080/",
     "height": 279
    },
    "executionInfo": {
     "elapsed": 351,
     "status": "ok",
     "timestamp": 1655246077470,
     "user": {
      "displayName": "Thomas Manke",
      "userId": "17591636328965298454"
     },
     "user_tz": -120
    },
    "id": "zPwAE_Th9mT3",
    "outputId": "e728c087-27ed-40e1-fc59-d54dfa4b2e05"
   },
   "outputs": [
    {
     "data": {
      "text/plain": [
       "(150, 2)"
      ]
     },
     "execution_count": 29,
     "metadata": {},
     "output_type": "execute_result"
    }
   ],
   "source": [
    "import matplotlib.pyplot as plt\n",
    "from sklearn import datasets\n",
    "\n",
    "iris = datasets.load_iris() \n",
    "ix, iy = 2,3  # you might want to chose different columns\n",
    "#x = iris.data[:,ix]  \n",
    "x = iris.data[:,[0,2]]\n",
    "y = iris.data[:,iy]  \n",
    "\n",
    "#pet_l = iris.data[:,2]\n",
    "#pet_w = iris.data[:,3]\n",
    "\n",
    "#sep_l = iris.data[:,0]\n",
    "#sep_w = iris.data[:,1]\n",
    "\n",
    "x.shape\n",
    "\n",
    "#plt.scatter(x, y)\n",
    "#plt.xlabel(iris.feature_names[ix])\n",
    "#plt.ylabel(iris.feature_names[iy])\n",
    "#plt.show()\n",
    "\n",
    "\n",
    "#plt.scatter(sep_l, sep_w)\n",
    "#plt.xlabel(iris.feature_names[0])\n",
    "#plt.ylabel(iris.feature_names[1])\n",
    "#plt.show()"
   ]
  },
  {
   "cell_type": "markdown",
   "metadata": {
    "id": "qcZG0UYlmET1"
   },
   "source": [
    "Complete the work below:\n"
   ]
  },
  {
   "cell_type": "code",
   "execution_count": 33,
   "metadata": {
    "id": "pO21NqTdE2E3"
   },
   "outputs": [
    {
     "name": "stdout",
     "output_type": "stream",
     "text": [
      "WARNING:tensorflow:Model was constructed with shape (None, 150, 2) for input KerasTensor(type_spec=TensorSpec(shape=(None, 150, 2), dtype=tf.float32, name='dense_14_input'), name='dense_14_input', description=\"created by layer 'dense_14_input'\"), but it was called on an input with incompatible shape (None, 2).\n",
      "WARNING:tensorflow:Model was constructed with shape (None, 150, 2) for input KerasTensor(type_spec=TensorSpec(shape=(None, 150, 2), dtype=tf.float32, name='dense_14_input'), name='dense_14_input', description=\"created by layer 'dense_14_input'\"), but it was called on an input with incompatible shape (None, 2).\n",
      "Fitted Parameters              [<tf.Variable 'dense_14/kernel:0' shape=(2, 1) dtype=float32, numpy=\n",
      "array([[-3.2961764e-04],\n",
      "       [ 4.2176676e-01]], dtype=float32)>, <tf.Variable 'dense_14/bias:0' shape=(1,) dtype=float32, numpy=array([-0.34783304], dtype=float32)>]\n",
      "Mean Squared Error (loss):     0.044733695685863495\n",
      "WARNING:tensorflow:Model was constructed with shape (None, 150, 2) for input KerasTensor(type_spec=TensorSpec(shape=(None, 150, 2), dtype=tf.float32, name='dense_14_input'), name='dense_14_input', description=\"created by layer 'dense_14_input'\"), but it was called on an input with incompatible shape (None, 2).\n",
      "WARNING:tensorflow:10 out of the last 10 calls to <function Model.make_predict_function.<locals>.predict_function at 0x7efbaa4ba940> triggered tf.function retracing. Tracing is expensive and the excessive number of tracings could be due to (1) creating @tf.function repeatedly in a loop, (2) passing tensors with different shapes, (3) passing Python objects instead of tensors. For (1), please define your @tf.function outside of the loop. For (2), @tf.function has experimental_relax_shapes=True option that relaxes argument shapes that can avoid unnecessary retracing. For (3), please refer to https://www.tensorflow.org/guide/function#controlling_retracing and https://www.tensorflow.org/api_docs/python/tf/function for  more details.\n",
      "numerical:   [[0.91664314]]\n"
     ]
    }
   ],
   "source": [
    "# define model, compile, fit\n",
    "\n",
    "model = tf.keras.Sequential()     # neurons are in sequentioal order\n",
    "model.add( tf.keras.layers.Dense(units=1, input_shape=x.shape) )\n",
    "\n",
    "# define optimization and loss\n",
    "model.compile(optimizer='sgd', loss='mean_squared_error')\n",
    "\n",
    "# fit model ###\n",
    "fit_history = model.fit(x,y, epochs=50, verbose=0)       \n",
    "\n",
    " # report fit ####\n",
    "print('Fitted Parameters             ', model.trainable_variables)\n",
    "print('Mean Squared Error (loss):    ', fit_history.history['loss'][-1])\n",
    "\n",
    "# make predictions ####\n",
    "x_new = [ [2.5, 3] ]\n",
    "y_new = model.predict(x_new)\n",
    "#y_ana = -1 + 2.0*np.array(x_new)\n",
    "\n",
    "#print('analytical: ', y_ana)\n",
    "print('numerical:  ', y_new)\n"
   ]
  },
  {
   "cell_type": "code",
   "execution_count": null,
   "metadata": {
    "id": "g7N0LPGGJkyf"
   },
   "outputs": [],
   "source": [
    "# model summary\n",
    "\n",
    "# diagnostics: plot loss, inspect fitted parameters, predict\n",
    "\n"
   ]
  },
  {
   "cell_type": "markdown",
   "metadata": {
    "id": "3j8QkKRIEuMJ"
   },
   "source": [
    "**Warnings:**\n",
    "\n",
    "- Models are ignorant:  What is the Petal.Width for Petal.Length = -1cm ?\n",
    "- Assessments of predicted performance should invoke some left out data (test set)\n",
    "- Models are not necessarily causal"
   ]
  }
 ],
 "metadata": {
  "colab": {
   "authorship_tag": "ABX9TyPUD9rjykeNO4VTGFwDFfbB",
   "collapsed_sections": [],
   "name": "ANN_001_Intro.ipynb",
   "provenance": []
  },
  "kernelspec": {
   "display_name": "Python 3 (ipykernel)",
   "language": "python",
   "name": "python3"
  },
  "language_info": {
   "codemirror_mode": {
    "name": "ipython",
    "version": 3
   },
   "file_extension": ".py",
   "mimetype": "text/x-python",
   "name": "python",
   "nbconvert_exporter": "python",
   "pygments_lexer": "ipython3",
   "version": "3.9.5"
  }
 },
 "nbformat": 4,
 "nbformat_minor": 4
}
