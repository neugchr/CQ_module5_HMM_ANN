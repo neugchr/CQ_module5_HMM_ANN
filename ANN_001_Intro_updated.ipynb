{
 "cells": [
  {
   "cell_type": "markdown",
   "metadata": {
    "id": "QWLkHVhlhPMi"
   },
   "source": [
    "# What is Machine Learning (AI)\n",
    "\n",
    "**A problem:** \n",
    "How do we recognize (label) images? Can we write a program to do the same?\n",
    "\n",
    "<div>\n",
    "   <img src=\"https://github.com/thomasmanke/ABS/raw/main/figures/Sherlock.png\",  width=\"500\">\n",
    "</div>\n",
    "\n",
    "> “The principal difficulty ... lay in the fact of there being too much evidence. What was vital was overlaid and hidden by what was irrelevant. Of all the facts which were presented to us we had to pick just those which we deemed to be essential, and then piece them together in their order, so as to reconstruct this very remarkable chain of events.\"  Sherlock Holmes (The Naval treaty, 1893)\n",
    "\n",
    "\n",
    "- Classical Programming: Rules (f) +  Data (X) --> Answers (Y)   \n",
    "- Machine Learning: Answers (Y) + Data (X) --> Rules (f)\n",
    "\n",
    "**Quiz (5 min):**  A simpler challenge: Find the rule $y = f(x, \\beta)$ for x and y below"
   ]
  },
  {
   "cell_type": "code",
   "execution_count": 1,
   "metadata": {
    "executionInfo": {
     "elapsed": 443,
     "status": "ok",
     "timestamp": 1655303303726,
     "user": {
      "displayName": "Thomas Manke",
      "userId": "17591636328965298454"
     },
     "user_tz": -120
    },
    "id": "m4FRmTu9h2rY"
   },
   "outputs": [],
   "source": [
    "import numpy as np\n",
    "import matplotlib.pyplot as plt\n",
    "\n",
    "x = np.array([-1,  0, 1, 2, 3, 4])     # Data\n",
    "y = np.array([-3, -1, 1, 3, 5, 7])     # Answer"
   ]
  },
  {
   "cell_type": "markdown",
   "metadata": {
    "id": "NRsKghWmL4Db"
   },
   "source": [
    "*Notice*: a more realistic scenario would allow for errors: $y = f(x, \\beta) + \\epsilon$"
   ]
  },
  {
   "cell_type": "markdown",
   "metadata": {
    "id": "sGzIe4HGuIcD"
   },
   "source": [
    "## The linear regression way (Gauss 1809)"
   ]
  },
  {
   "cell_type": "markdown",
   "metadata": {
    "id": "dXAmE91gw7Pq"
   },
   "source": [
    "$$f(X, \\beta) = \\beta_0  + \\beta_1 x$$\n",
    "\n",
    "**Ordinary Least-squares fit**: analytical\n",
    "\n",
    "$$\\underset{\\beta}{\\mbox{argmin}} || y - f(X,\\beta)||^2 \\longrightarrow (\\beta_0, \\beta_1)=(-1,2)$$\n",
    "\n",
    "**Predictions**: for two new values $(x=10, -40)$\n"
   ]
  },
  {
   "cell_type": "code",
   "execution_count": 2,
   "metadata": {
    "colab": {
     "base_uri": "https://localhost:8080/"
    },
    "executionInfo": {
     "elapsed": 365,
     "status": "ok",
     "timestamp": 1655300693811,
     "user": {
      "displayName": "Thomas Manke",
      "userId": "17591636328965298454"
     },
     "user_tz": -120
    },
    "id": "9QmuzRHhGMAy",
    "outputId": "0df6f458-cd92-4f91-8483-ad63b079b282"
   },
   "outputs": [
    {
     "name": "stdout",
     "output_type": "stream",
     "text": [
      "predictions:  [ 10 -40] -> [ 19. -81.]\n"
     ]
    }
   ],
   "source": [
    "x_new = np.array([10, -40])\n",
    "y_new = -1 + 2.0*np.array(x_new)\n",
    "print('predictions: ', x_new, \"->\", y_new)"
   ]
  },
  {
   "cell_type": "markdown",
   "metadata": {
    "id": "yaggfmQKJl3T"
   },
   "source": [
    "## The Python way (sklearn: 2013)"
   ]
  },
  {
   "cell_type": "markdown",
   "metadata": {
    "id": "PiGqmvso1TwA"
   },
   "source": [
    "The modeling steps:\n",
    "- define the data\n",
    "- define the model\n",
    "- fit\n",
    "- evaluate\n",
    "- predict\n",
    "\n"
   ]
  },
  {
   "cell_type": "code",
   "execution_count": 3,
   "metadata": {
    "colab": {
     "base_uri": "https://localhost:8080/"
    },
    "executionInfo": {
     "elapsed": 878,
     "status": "ok",
     "timestamp": 1655300709578,
     "user": {
      "displayName": "Thomas Manke",
      "userId": "17591636328965298454"
     },
     "user_tz": -120
    },
    "id": "fw9O6o5hujWc",
    "outputId": "65b18eef-984a-451d-e2f5-e2ca9113ab76"
   },
   "outputs": [
    {
     "name": "stdout",
     "output_type": "stream",
     "text": [
      "Fitted Parameters        -1.0 [2.]\n",
      "Mean Squared Error:      0.0\n",
      "predictions:    [ 19. -81.]\n"
     ]
    }
   ],
   "source": [
    "from sklearn import linear_model\n",
    "from sklearn.metrics import mean_squared_error\n",
    "\n",
    "lm = linear_model.LinearRegression()  # define model\n",
    "xr = x.reshape(-1,1)                  # define data (+restructuring for specific tool) \n",
    "\n",
    "lm.fit(xr, y)                         # fit c.f. R: lm(Y ~ X)\n",
    "\n",
    "# report fit\n",
    "print('Fitted Parameters       ', lm.intercept_, lm.coef_)\n",
    "\n",
    "yp = lm.predict(xr)                   # prediction\n",
    "MSE= mean_squared_error(y, yp)        # evaluate fit. other scores: R2=lm.score(xr, y)\n",
    "print('Mean Squared Error:     ', MSE)\n",
    "\n",
    "# predict y for some new x\n",
    "x_new=np.array([10, -40])\n",
    "y_new = lm.predict(x_new.reshape(-1,1))\n",
    "\n",
    "print('predictions:   ', y_new)"
   ]
  },
  {
   "cell_type": "markdown",
   "metadata": {
    "id": "vNNHxhXDiyts"
   },
   "source": [
    "## The Tensorflow/Keras way (2022)"
   ]
  },
  {
   "cell_type": "code",
   "execution_count": null,
   "metadata": {
    "colab": {
     "base_uri": "https://localhost:8080/"
    },
    "executionInfo": {
     "elapsed": 3,
     "status": "ok",
     "timestamp": 1655303243117,
     "user": {
      "displayName": "Thomas Manke",
      "userId": "17591636328965298454"
     },
     "user_tz": -120
    },
    "id": "vvEeNCOxqVdH",
    "outputId": "972fd92b-ffb2-4508-fdb3-91e5fb6bcb65"
   },
   "outputs": [],
   "source": []
  },
  {
   "cell_type": "code",
   "execution_count": 4,
   "metadata": {
    "colab": {
     "base_uri": "https://localhost:8080/"
    },
    "executionInfo": {
     "elapsed": 1227,
     "status": "ok",
     "timestamp": 1655303346032,
     "user": {
      "displayName": "Thomas Manke",
      "userId": "17591636328965298454"
     },
     "user_tz": -120
    },
    "id": "khzmpiGe-r4v",
    "outputId": "5c2eb818-ff98-487c-a91b-1f973af0ac96"
   },
   "outputs": [
    {
     "name": "stdout",
     "output_type": "stream",
     "text": [
      "tf version: 2.4.1\n"
     ]
    },
    {
     "name": "stderr",
     "output_type": "stream",
     "text": [
      "2022-06-16 10:22:36.936642: I tensorflow/compiler/jit/xla_cpu_device.cc:41] Not creating XLA devices, tf_xla_enable_xla_devices not set\n",
      "2022-06-16 10:22:36.939112: I tensorflow/core/platform/cpu_feature_guard.cc:142] This TensorFlow binary is optimized with oneAPI Deep Neural Network Library (oneDNN) to use the following CPU instructions in performance-critical operations:  SSE4.1 SSE4.2 AVX AVX2\n",
      "To enable them in other operations, rebuild TensorFlow with the appropriate compiler flags.\n",
      "2022-06-16 10:22:36.941243: I tensorflow/core/common_runtime/process_util.cc:146] Creating new thread pool with default inter op setting: 2. Tune using inter_op_parallelism_threads for best performance.\n",
      "2022-06-16 10:22:37.327845: I tensorflow/compiler/mlir/mlir_graph_optimization_pass.cc:116] None of the MLIR optimization passes are enabled (registered 2)\n",
      "2022-06-16 10:22:37.343740: I tensorflow/core/platform/profile_utils/cpu_utils.cc:112] CPU Frequency: 2711995000 Hz\n"
     ]
    },
    {
     "name": "stdout",
     "output_type": "stream",
     "text": [
      "Fitted Parameters              [<tf.Variable 'dense/kernel:0' shape=(1, 1) dtype=float32, numpy=array([[1.814552]], dtype=float32)>, <tf.Variable 'dense/bias:0' shape=(1,) dtype=float32, numpy=array([-0.42509162], dtype=float32)>]\n",
      "Mean Squared Error (loss):     0.19230961799621582\n",
      "analytical:  [ 19. -81.]\n",
      "numerical:   [[ 17.720428]\n",
      " [-73.00717 ]]\n"
     ]
    }
   ],
   "source": [
    "import tensorflow as tf\n",
    "print('tf version:',tf.__version__)\n",
    "\n",
    "# define model - the \"black box\"\n",
    "model = tf.keras.Sequential()\n",
    "model.add( tf.keras.layers.Dense(units=1, input_shape=[1]) )\n",
    "\n",
    "# define optimization and loss\n",
    "model.compile(optimizer='sgd', loss='mean_squared_error') \n",
    "\n",
    "# fit model ###\n",
    "fit_history = model.fit(x,y, epochs=100, verbose=0)       \n",
    "\n",
    " # report fit ####\n",
    "print('Fitted Parameters             ', model.trainable_variables)\n",
    "print('Mean Squared Error (loss):    ', fit_history.history['loss'][-1])\n",
    "\n",
    "# make predictions ####\n",
    "x_new = [ 10.0 , -40.0 ]\n",
    "y_new = model.predict(x_new)\n",
    "y_ana = -1 + 2.0*np.array(x_new)\n",
    "\n",
    "print('analytical: ', y_ana)\n",
    "print('numerical:  ', y_new)"
   ]
  },
  {
   "cell_type": "markdown",
   "metadata": {
    "id": "HZT1fEhzfSGA"
   },
   "source": [
    "## Don't Panic !"
   ]
  },
  {
   "cell_type": "markdown",
   "metadata": {
    "id": "DnsEs8DpPfdF"
   },
   "source": [
    "**Notice**:\n",
    "- tensorflow supports generic **modeling steps**: define model, define loss function, fit model, predict.\n",
    "- the most cryptic (and the most flexible!) part is the definition of the \"black box\". We will spend much more time with this - so don't panic.\n",
    "- There are many **alternative frameworks**: pyTorch, Caffe2, ...\n",
    "In this course we use the high-level API *Keras* rather than Tensorflow directly.\n",
    "- tensorflow has **new data structures** that need to get used to: e.g. fitted_parameters\n",
    "- tensorflow model predictions appear less accurate (and slower) for this task of linear regression. This is because they have been obtained from an **iterative approach** (epcohs). In contrast, sklearn:LinearRegression() uses fast analytical tools (specific for linear regression) under the hood.\n",
    "- Tthe tensorflow approach is more generic and extends to much more complex models\n",
    "- The iteration can be monitored by the loss function (MSE) to assess convergence\n"
   ]
  },
  {
   "cell_type": "code",
   "execution_count": 5,
   "metadata": {
    "colab": {
     "base_uri": "https://localhost:8080/",
     "height": 295
    },
    "executionInfo": {
     "elapsed": 467,
     "status": "ok",
     "timestamp": 1655300725756,
     "user": {
      "displayName": "Thomas Manke",
      "userId": "17591636328965298454"
     },
     "user_tz": -120
    },
    "id": "NvKFj5KgPBnU",
    "outputId": "78460124-311e-4d5d-d160-626b257bb0e9"
   },
   "outputs": [
    {
     "data": {
      "image/png": "[encoded data removed]",
      "text/plain": [
       "<Figure size 432x288 with 1 Axes>"
      ]
     },
     "metadata": {
      "needs_background": "light"
     },
     "output_type": "display_data"
    }
   ],
   "source": [
    "plt.figure()\n",
    "plt.plot(fit_history.history['loss'][1:])\n",
    "plt.title('model loss')\n",
    "plt.ylabel('loss')\n",
    "plt.xlabel('epoch')\n",
    "plt.show()"
   ]
  },
  {
   "cell_type": "markdown",
   "metadata": {
    "id": "JeSaeiWePEfJ"
   },
   "source": [
    "**Task (10 min):** Play with the new toy !\n",
    "\n",
    "- The model is fitted iteratively (iterations = epochs) to reduce some loss function (here: *mean_squared error* MSE).\n",
    "\n",
    "- Change the number of epochs and/or the new data points $x\\_new$. Observe the different results.\n",
    "\n",
    "- You may also activate the verbose function to see some progress reporting"
   ]
  },
  {
   "cell_type": "markdown",
   "metadata": {
    "id": "niXss-KSfvRS"
   },
   "source": [
    "# Linear Regression as a Neural Network"
   ]
  },
  {
   "cell_type": "markdown",
   "metadata": {
    "id": "H0IZ-XFBG8_b"
   },
   "source": [
    "[ image here ]"
   ]
  },
  {
   "cell_type": "markdown",
   "metadata": {
    "id": "Du6PhKRW1PYn"
   },
   "source": [
    "# Group Task (30 min): Fit Iris Data with tensorflow"
   ]
  },
  {
   "cell_type": "markdown",
   "metadata": {
    "id": "RqW1lj54ld0e"
   },
   "source": [
    "Follow the above example to fit a more realistic data set to a linear model.\n",
    "\n",
    "- Explore the Iris data set: iris.data. What are the variables? See also here: [wikipedia link](https://en.wikipedia.org/wiki/Iris_flower_data_set)\n",
    "- **Fitting:** Implement a linear fit making use of the tensorflow approach as shown above\n",
    "- **Convergence:** Plot the loss (MSE) check if it has been reduced over the fitting epochs: $\\to$ plot fit_history.history['loss'] \n",
    "- **Parameters:** Check the slope (weight) and intersect (bias): $\\to$ model.layers[0].get_weights()\n",
    "- **Predictions:** use the model to obtain the predicted values yp $\\to$ model.predict()\n",
    "- plot the fitted regression line over the scatter plot\n",
    "\n",
    "- if time allows: feel free to repeat the above analysis for other variables from the Iris data set"
   ]
  },
  {
   "cell_type": "code",
   "execution_count": 6,
   "metadata": {
    "colab": {
     "base_uri": "https://localhost:8080/",
     "height": 279
    },
    "executionInfo": {
     "elapsed": 456,
     "status": "ok",
     "timestamp": 1655313970623,
     "user": {
      "displayName": "Thomas Manke",
      "userId": "17591636328965298454"
     },
     "user_tz": -120
    },
    "id": "zPwAE_Th9mT3",
    "outputId": "ad4ac4a0-ff80-4544-91b8-0a2030c30ba2"
   },
   "outputs": [
    {
     "data": {
      "image/png": "[encoded data removed]",
      "text/plain": [
       "<Figure size 432x288 with 1 Axes>"
      ]
     },
     "metadata": {
      "needs_background": "light"
     },
     "output_type": "display_data"
    }
   ],
   "source": [
    "import matplotlib.pyplot as plt\n",
    "from sklearn import datasets\n",
    "\n",
    "iris = datasets.load_iris() \n",
    "ix, iy = 2,3                # you might want to chose different columns\n",
    "x = iris.data[:,ix]  \n",
    "y = iris.data[:,iy]  \n",
    "\n",
    "plt.scatter(x, y)\n",
    "plt.xlabel(iris.feature_names[ix])\n",
    "plt.ylabel(iris.feature_names[iy])\n",
    "plt.show()"
   ]
  },
  {
   "cell_type": "markdown",
   "metadata": {
    "id": "qcZG0UYlmET1"
   },
   "source": [
    "Implement a linear fit with tensorflow below.\n"
   ]
  },
  {
   "cell_type": "code",
   "execution_count": 7,
   "metadata": {
    "colab": {
     "base_uri": "https://localhost:8080/"
    },
    "executionInfo": {
     "elapsed": 1436,
     "status": "ok",
     "timestamp": 1655313977425,
     "user": {
      "displayName": "Thomas Manke",
      "userId": "17591636328965298454"
     },
     "user_tz": -120
    },
    "id": "pO21NqTdE2E3",
    "outputId": "f326beff-ae68-471e-c058-e8549c1bd95a"
   },
   "outputs": [
    {
     "name": "stdout",
     "output_type": "stream",
     "text": [
      "x.shape:  (150,)\n",
      "y.shape:  (150,)\n"
     ]
    }
   ],
   "source": [
    "# it's good practise to test your shapes frequently\n",
    "print('x.shape: ', x.shape)\n",
    "print('y.shape: ', y.shape)\n",
    "\n",
    "# It's good practise to name your models and layers\n",
    "model = tf.keras.Sequential(name='LM_model_01')\n",
    "model.add( tf.keras.layers.Dense(units=1, input_shape=(1,), name='1st_layer') )\n",
    "\n",
    "model.compile(optimizer='sgd', loss='mean_squared_error') \n",
    "\n",
    "fh = model.fit(x,y, epochs=100, verbose=0)       "
   ]
  },
  {
   "cell_type": "code",
   "execution_count": 8,
   "metadata": {
    "colab": {
     "base_uri": "https://localhost:8080/",
     "height": 566
    },
    "executionInfo": {
     "elapsed": 1032,
     "status": "ok",
     "timestamp": 1655313982669,
     "user": {
      "displayName": "Thomas Manke",
      "userId": "17591636328965298454"
     },
     "user_tz": -120
    },
    "id": "g7N0LPGGJkyf",
    "outputId": "9cc26cca-8a50-4b72-fa6f-5886dbb013c6"
   },
   "outputs": [
    {
     "data": {
      "image/png": "[encoded data removed]",
      "text/plain": [
       "<Figure size 432x288 with 1 Axes>"
      ]
     },
     "metadata": {
      "needs_background": "light"
     },
     "output_type": "display_data"
    },
    {
     "name": "stdout",
     "output_type": "stream",
     "text": [
      "Mean Squared Error (loss):     0.043759576976299286\n",
      "slope (weight):      0.39647356\n",
      "intersect (bias):    -0.28474224\n"
     ]
    },
    {
     "data": {
      "image/png": "[encoded data removed]",
      "text/plain": [
       "<Figure size 432x288 with 1 Axes>"
      ]
     },
     "metadata": {
      "needs_background": "light"
     },
     "output_type": "display_data"
    }
   ],
   "source": [
    "plt.plot(fh.history['loss'])\n",
    "plt.show()\n",
    "\n",
    "print('Mean Squared Error (loss):    ', fh.history['loss'][-1])\n",
    "\n",
    "#print('Fitted Parameters   ', model.trainable_variables)\n",
    "slope = model.layers[0].get_weights()[0][0][0]\n",
    "inter = model.layers[0].get_weights()[1][0]\n",
    "print('slope (weight):     ', slope)\n",
    "print('intersect (bias):   ', inter)\n",
    "\n",
    "yp = model.predict(x)\n",
    "# yp = inter + slope * x  # alternatively\n",
    "\n",
    "plt.scatter(x, y)\n",
    "plt.plot(x,yp)\n",
    "plt.show()"
   ]
  },
  {
   "cell_type": "markdown",
   "metadata": {
    "id": "3j8QkKRIEuMJ"
   },
   "source": [
    "**Warnings:**\n",
    "\n",
    "- Models are ignorant:  What is the Petal.Width for Petal.Length = -1cm ?\n",
    "- Assessments of predicted performance should invoke some left out data (test set)\n",
    "- Models are not necessarily causal"
   ]
  },
  {
   "cell_type": "markdown",
   "metadata": {
    "id": "6huUGTMf9qPC"
   },
   "source": [
    "# Shapes & Weights & Numpy "
   ]
  },
  {
   "cell_type": "markdown",
   "metadata": {
    "id": "2JFXOEVACHlu"
   },
   "source": [
    "Tensorflow stores many objects as \"tf.Variable\". They can be converted to numpy arrays: *.numpy()\n",
    "\n",
    "For the weights and biases there are convenience functions that return numpy arrays: layer.get_weights()\n",
    "\n",
    "To interprete the structure and shape of these weights remember:\n",
    "\n",
    "In general a neural network has\n",
    "- multiple layers\n",
    "- multiple neurons (=nodes=units) per layer\n",
    "- multiple input links (**weights**) per neuron + 1 bias per neuron\n",
    "\n",
    "Keeping track of shapes (of tensors) is in an important aspect of designing neural networks."
   ]
  },
  {
   "cell_type": "markdown",
   "metadata": {
    "id": "Zz4mQYAZVfdh"
   },
   "source": [
    "**Task (10 min):** \n",
    "\n",
    "Inspect the summary below - and explore the hierarchy of layers - neurons - weights. \n",
    "\n",
    "For our simple linear regression, extract the two parameters (slope and intersect) from the first (and only) layer"
   ]
  },
  {
   "cell_type": "code",
   "execution_count": 9,
   "metadata": {
    "colab": {
     "base_uri": "https://localhost:8080/"
    },
    "executionInfo": {
     "elapsed": 345,
     "status": "ok",
     "timestamp": 1655313997296,
     "user": {
      "displayName": "Thomas Manke",
      "userId": "17591636328965298454"
     },
     "user_tz": -120
    },
    "id": "mzy-KCWv99Sr",
    "outputId": "2f60052d-c4e7-4b5c-a76e-f4d3b878b7f9"
   },
   "outputs": [
    {
     "name": "stdout",
     "output_type": "stream",
     "text": [
      "layer.weights (list of tf-objects):      [<tf.Variable '1st_layer/kernel:0' shape=(1, 1) dtype=float32, numpy=array([[0.39647356]], dtype=float32)>, <tf.Variable '1st_layer/bias:0' shape=(1,) dtype=float32, numpy=array([-0.28474224], dtype=float32)>]\n",
      "layer.weights[0]: weights                <tf.Variable '1st_layer/kernel:0' shape=(1, 1) dtype=float32, numpy=array([[0.39647356]], dtype=float32)>\n",
      "layer.weights[1]: biases                 <tf.Variable '1st_layer/bias:0' shape=(1,) dtype=float32, numpy=array([-0.28474224], dtype=float32)>\n",
      "layer.bias:  the same                    <tf.Variable '1st_layer/bias:0' shape=(1,) dtype=float32, numpy=array([-0.28474224], dtype=float32)>\n",
      "layer.bias:  converted to numpy          [-0.28474224]\n",
      "\n",
      "\n",
      "Using get_weights() ....\n",
      "W (list of arrays):            [array([[0.39647356]], dtype=float32), array([-0.28474224], dtype=float32)]\n",
      "weights W[0] (numpy array):    (1, 1)\n",
      "bias    W[1] (numpy array):    (1,)\n",
      "node weights W[0][neuron] (array):  (1,) [0.39647356]\n",
      "node bias    W[1][neuron] (float):  () -0.28474224\n",
      "slope:     0.39647356\n",
      "intersect: -0.28474224\n"
     ]
    }
   ],
   "source": [
    "layer = model.layers[0]  # choose first layer - the only one in our simple case\n",
    "\n",
    "print('layer.weights (list of tf-objects):     ', layer.weights)\n",
    "print('layer.weights[0]: weights               ', layer.weights[0])\n",
    "print('layer.weights[1]: biases                ', layer.weights[1])\n",
    "# weights are slope and bias intercept in a linear model\n",
    "print('layer.bias:  the same                   ', layer.bias)\n",
    "print('layer.bias:  converted to numpy         ', layer.bias.numpy())\n",
    "\n",
    "print('\\n\\nUsing get_weights() ....')\n",
    "W = layer.get_weights()\n",
    "print('W (list of arrays):           ', W)\n",
    "print('weights W[0] (numpy array):   ', W[0].shape)\n",
    "print('bias    W[1] (numpy array):   ', W[1].shape)\n",
    "\n",
    "neuron = 0 # = node = unit\n",
    "print('node weights W[0][neuron] (array): ', W[0][neuron].shape, W[0][neuron])\n",
    "print('node bias    W[1][neuron] (float): ', W[1][neuron].shape, W[1][neuron])\n",
    "\n",
    "# Edit here\n",
    "slope = layer.get_weights()[0][0][0]  # weights - node 0 - weight 0\n",
    "inter = layer.get_weights()[1][0]     # bias    - node 0  (1 bias per node)\n",
    "print('slope:    ', slope)\n",
    "print('intersect:', inter )"
   ]
  },
  {
   "cell_type": "markdown",
   "metadata": {
    "id": "NThsQQfWNgx7"
   },
   "source": [
    "# Shapes & Extensions: Multivariate Inputs"
   ]
  },
  {
   "cell_type": "markdown",
   "metadata": {
    "id": "G60qaHVwOVes"
   },
   "source": [
    "When using higher dimensional objects keep good track of their shape.\n",
    "\n",
    "In particular we have to specify the shape of the input into the Neural Network.\n",
    "This is the shape of X **without** the sample dimension\n"
   ]
  },
  {
   "cell_type": "code",
   "execution_count": 10,
   "metadata": {
    "colab": {
     "base_uri": "https://localhost:8080/"
    },
    "executionInfo": {
     "elapsed": 385,
     "status": "ok",
     "timestamp": 1655317533907,
     "user": {
      "displayName": "Thomas Manke",
      "userId": "17591636328965298454"
     },
     "user_tz": -120
    },
    "id": "m5DvUvyLNoDI",
    "outputId": "5c9e9037-8232-4894-d7b0-91a6ae7e1ea9"
   },
   "outputs": [
    {
     "name": "stdout",
     "output_type": "stream",
     "text": [
      "X.shape:      (150, 2)\n",
      "input_shape:  (2,)\n",
      "\n",
      "Caution for 1-D inputs x. Need to reshape!\n",
      "x.shape:             (150,)\n",
      "x.shape (reshaped):  (150, 1)\n",
      "input_shape:         (1,)\n"
     ]
    }
   ],
   "source": [
    "ix = [0,1]\n",
    "X = iris.data[:,ix]         # My convention: use captial letters for higher dim inputs\n",
    "input_shape = X.shape[1:]   # TF convention: exclude element 0 (= #samples)\n",
    "\n",
    "print('X.shape:     ', X.shape)\n",
    "print('input_shape: ', input_shape)\n",
    "\n",
    "# input_shape can be used here:\n",
    "# model.add( tf.keras.layers.Dense(units=1, input_shape=input_shape) )\n",
    "\n",
    "# Warning !!! notice the anomaly for 1-dimensional inputs x\n",
    "print('\\nCaution for 1-D inputs x. Need to reshape!')\n",
    "ix = 0\n",
    "x = iris.data[:,ix]\n",
    "print('x.shape:            ', x.shape)\n",
    "x = x.reshape(-1,1)\n",
    "print('x.shape (reshaped): ', x.shape)\n",
    "input_shape = x.shape[1:]        \n",
    "print('input_shape:        ', input_shape)\n",
    "\n",
    "# Alternatively set input_shape=(1,) explicitly for 1-D x"
   ]
  },
  {
   "cell_type": "code",
   "execution_count": 11,
   "metadata": {
    "colab": {
     "base_uri": "https://localhost:8080/"
    },
    "executionInfo": {
     "elapsed": 1144,
     "status": "ok",
     "timestamp": 1655317417721,
     "user": {
      "displayName": "Thomas Manke",
      "userId": "17591636328965298454"
     },
     "user_tz": -120
    },
    "id": "y34hR5fPOACx",
    "outputId": "053c3a34-f0ad-4bb4-cd44-16382f3a7f7e"
   },
   "outputs": [
    {
     "name": "stdout",
     "output_type": "stream",
     "text": [
      "Xnew.shape:  (1, 2)\n",
      "prediction:  [[2.2740564]]\n"
     ]
    }
   ],
   "source": [
    "X = iris.data[:,[1,2]]\n",
    "y = iris.data[:,3]\n",
    "input_shape = X.shape[1:]   \n",
    "\n",
    "model = tf.keras.Sequential(name='LM_model_02')\n",
    "model.add( tf.keras.layers.Dense(units=1, input_shape=input_shape, name='1st_layer') )\n",
    "\n",
    "model.compile(optimizer='sgd', loss='mean_squared_error') \n",
    "\n",
    "fh = model.fit(X,y, epochs=100, verbose=0)   \n",
    "\n",
    "Xnew = np.array([-1, 5]).reshape(1,-1)   # bring to proper shape !\n",
    "print('Xnew.shape: ', Xnew.shape)\n",
    "print('prediction: ', model.predict(Xnew))"
   ]
  },
  {
   "cell_type": "markdown",
   "metadata": {
    "id": "4MoNrUXHNxXb"
   },
   "source": [
    "# Summarizing Model"
   ]
  },
  {
   "cell_type": "markdown",
   "metadata": {
    "id": "bNmdr2wxN0Ij"
   },
   "source": [
    "Frequently we would like to get an overview of the neural network with many layers and parameters"
   ]
  },
  {
   "cell_type": "code",
   "execution_count": 12,
   "metadata": {
    "colab": {
     "base_uri": "https://localhost:8080/"
    },
    "executionInfo": {
     "elapsed": 544,
     "status": "ok",
     "timestamp": 1655317555316,
     "user": {
      "displayName": "Thomas Manke",
      "userId": "17591636328965298454"
     },
     "user_tz": -120
    },
    "id": "MGyPpBC1NzvP",
    "outputId": "5695436e-21c2-4cc1-8d61-9ac54d2bebc3"
   },
   "outputs": [
    {
     "name": "stdout",
     "output_type": "stream",
     "text": [
      "Model: \"LM_model_02\"\n",
      "_________________________________________________________________\n",
      "Layer (type)                 Output Shape              Param #   \n",
      "=================================================================\n",
      "1st_layer (Dense)            (None, 1)                 3         \n",
      "=================================================================\n",
      "Total params: 3\n",
      "Trainable params: 3\n",
      "Non-trainable params: 0\n",
      "_________________________________________________________________\n"
     ]
    }
   ],
   "source": [
    "model.summary()"
   ]
  }
 ],
 "metadata": {
  "colab": {
   "authorship_tag": "ABX9TyPTp51sycEvvIdIdKBLcbAf",
   "collapsed_sections": [],
   "name": "ANN_001_Intro.ipynb",
   "provenance": []
  },
  "kernelspec": {
   "display_name": "Python 3 (ipykernel)",
   "language": "python",
   "name": "python3"
  },
  "language_info": {
   "codemirror_mode": {
    "name": "ipython",
    "version": 3
   },
   "file_extension": ".py",
   "mimetype": "text/x-python",
   "name": "python",
   "nbconvert_exporter": "python",
   "pygments_lexer": "ipython3",
   "version": "3.9.5"
  }
 },
 "nbformat": 4,
 "nbformat_minor": 4
}
