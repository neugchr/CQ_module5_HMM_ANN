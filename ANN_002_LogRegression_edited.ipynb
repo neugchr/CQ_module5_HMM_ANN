{
 "cells": [
  {
   "cell_type": "markdown",
   "metadata": {
    "id": "32m2d60uC27V"
   },
   "source": [
    "# Logistic Regression: Classification"
   ]
  },
  {
   "cell_type": "markdown",
   "metadata": {
    "id": "07opDa6KC9y2"
   },
   "source": [
    "<div>\n",
    "   <img src=\"https://github.com/thomasmanke/ABS/raw/main/figures/ANN_LogisticRegression.jpg\",  width=\"1000\">\n",
    "</div>"
   ]
  },
  {
   "cell_type": "code",
   "execution_count": 19,
   "metadata": {
    "id": "zPwAE_Th9mT3"
   },
   "outputs": [
    {
     "data": {
      "image/png": "[encoded data removed]",
      "text/plain": [
       "<Figure size 432x288 with 1 Axes>"
      ]
     },
     "metadata": {
      "needs_background": "light"
     },
     "output_type": "display_data"
    }
   ],
   "source": [
    "import numpy as np\n",
    "import matplotlib.pyplot as plt\n",
    "from sklearn import datasets\n",
    "import tensorflow as tf\n",
    "\n",
    "iris = datasets.load_iris() \n",
    "X = iris.data      # 4 features per sample\n",
    "y = iris.target    # species label\n",
    "\n",
    "plt.scatter(X[:,0], y, c=y)\n",
    "plt.xlabel(iris.feature_names[0])\n",
    "plt.ylabel('species label')\n",
    "plt.show()"
   ]
  },
  {
   "cell_type": "markdown",
   "metadata": {
    "id": "USYCUiFNFo6z"
   },
   "source": [
    "Now aim to predict a specific flower species (label y) from length measurements (data X)\n",
    "\n",
    "We can use the previous workflow for linear regression with only minor changes -- to turn it into a classification tool.\n",
    "\n",
    "1. allow for multidimensional features as input (e.g. all 4 length measurements)\n",
    "2. make probabilistic predictions y in [0,1]\n",
    "3. adjust the cost function\n"
   ]
  },
  {
   "cell_type": "markdown",
   "metadata": {
    "id": "RSEJX0TtzgOT"
   },
   "source": [
    "## Define the Data"
   ]
  },
  {
   "cell_type": "code",
   "execution_count": 20,
   "metadata": {
    "id": "XRtwic6FEQ_u"
   },
   "outputs": [
    {
     "name": "stdout",
     "output_type": "stream",
     "text": [
      "[0 0 0 0 0 0 0 0 0 0 0 0 0 0 0 0 0 0 0 0 0 0 0 0 0 0 0 0 0 0 0 0 0 0 0 0 0\n",
      " 0 0 0 0 0 0 0 0 0 0 0 0 0 1 1 1 1 1 1 1 1 1 1 1 1 1 1 1 1 1 1 1 1 1 1 1 1\n",
      " 1 1 1 1 1 1 1 1 1 1 1 1 1 1 1 1 1 1 1 1 1 1 1 1 1 1 2 2 2 2 2 2 2 2 2 2 2\n",
      " 2 2 2 2 2 2 2 2 2 2 2 2 2 2 2 2 2 2 2 2 2 2 2 2 2 2 2 2 2 2 2 2 2 2 2 2 2\n",
      " 2 2]\n",
      "[1 1 1 1 1 1 1 1 1 1 1 1 1 1 1 1 1 1 1 1 1 1 1 1 1 1 1 1 1 1 1 1 1 1 1 1 1\n",
      " 1 1 1 1 1 1 1 1 1 1 1 1 1 0 0 0 0 0 0 0 0 0 0 0 0 0 0 0 0 0 0 0 0 0 0 0 0\n",
      " 0 0 0 0 0 0 0 0 0 0 0 0 0 0 0 0 0 0 0 0 0 0 0 0 0 0 0 0 0 0 0 0 0 0 0 0 0\n",
      " 0 0 0 0 0 0 0 0 0 0 0 0 0 0 0 0 0 0 0 0 0 0 0 0 0 0 0 0 0 0 0 0 0 0 0 0 0\n",
      " 0 0]\n"
     ]
    }
   ],
   "source": [
    "# define data\n",
    "X = iris.data         # What is the shape of X? How many samples?\n",
    "y = (iris.target==0)  # What is iris.target? What is this equation ?\n",
    "y = y.astype(int)     # binarize y for class of choice # turn true/false into 1/0\n",
    "nc = 1                # number of classes\n",
    "\n",
    "input_shape = (1,)    # shape of X - without samples\n",
    "if (X.ndim > 1):\n",
    "  input_shape = X.shape[1:]\n",
    "\n",
    "print(iris.target)\n",
    "print(y)"
   ]
  },
  {
   "cell_type": "markdown",
   "metadata": {
    "id": "bSSZ4g8hzjTM"
   },
   "source": [
    "## Define the Model"
   ]
  },
  {
   "cell_type": "code",
   "execution_count": 21,
   "metadata": {
    "colab": {
     "base_uri": "https://localhost:8080/"
    },
    "executionInfo": {
     "elapsed": 186,
     "status": "ok",
     "timestamp": 1655332184902,
     "user": {
      "displayName": "Thomas Manke",
      "userId": "17591636328965298454"
     },
     "user_tz": -120
    },
    "id": "2nFHIE2yF0iI",
    "outputId": "c5be31b9-884b-4388-a71f-bc8c0e181180"
   },
   "outputs": [
    {
     "name": "stdout",
     "output_type": "stream",
     "text": [
      "input_shape:  (4,)\n",
      "X.shape:      (150, 4)\n",
      "y.shape:      (150,)\n",
      "classes:      1\n",
      "Model: \"my_log_model\"\n",
      "_________________________________________________________________\n",
      "Layer (type)                 Output Shape              Param #   \n",
      "=================================================================\n",
      "1st_layer (Dense)            (None, 1)                 5         \n",
      "=================================================================\n",
      "Total params: 5\n",
      "Trainable params: 5\n",
      "Non-trainable params: 0\n",
      "_________________________________________________________________\n"
     ]
    }
   ],
   "source": [
    "# check shapes frequently!\n",
    "print('input_shape: ', input_shape)\n",
    "print('X.shape:     ', X.shape)\n",
    "print('y.shape:     ', y.shape)\n",
    "print('classes:     ', nc)\n",
    "\n",
    "model = tf.keras.Sequential(name='my_log_model')\n",
    "model.add( tf.keras.layers.Dense(nc, input_shape = input_shape,\n",
    "                                 activation = 'sigmoid',\n",
    "                                 name='1st_layer'))\n",
    "\n",
    "# define optimizer and loss\n",
    "model.compile(optimizer='sgd', loss='binary_crossentropy', metrics=['binary_accuracy'])\n",
    "\n",
    "# see and understand the number of parameters\n",
    "model.summary()  "
   ]
  },
  {
   "cell_type": "markdown",
   "metadata": {
    "id": "possnoU470bW"
   },
   "source": [
    "Some definitions\n",
    "- known labels: $y_i \\in \\{0,1\\}$\n",
    "- predicted labels:  $\\hat y_i \\in [0,1]$\n",
    "- accuracy: fraction of true assignments\n",
    "- cross-entropy (per sample $i$)\n",
    "$$y_i \\log(\\hat y_i) + (1 - y_i) \\log(1-\\hat y_i) \\longrightarrow $$\n",
    "Average the above over all samples  $i$ \n",
    "\n",
    ". "
   ]
  },
  {
   "cell_type": "markdown",
   "metadata": {
    "id": "dp8QUhX5GY5W"
   },
   "source": [
    "## Inspecting the fit"
   ]
  },
  {
   "cell_type": "code",
   "execution_count": 22,
   "metadata": {
    "colab": {
     "base_uri": "https://localhost:8080/",
     "height": 265
    },
    "executionInfo": {
     "elapsed": 3421,
     "status": "ok",
     "timestamp": 1655332199162,
     "user": {
      "displayName": "Thomas Manke",
      "userId": "17591636328965298454"
     },
     "user_tz": -120
    },
    "id": "PzZUXnVZ2FNy",
    "outputId": "220c84b4-9fde-4dad-8883-a789929f04ba"
   },
   "outputs": [
    {
     "data": {
      "image/png": "[encoded data removed]",
      "text/plain": [
       "<Figure size 432x288 with 1 Axes>"
      ]
     },
     "metadata": {
      "needs_background": "light"
     },
     "output_type": "display_data"
    }
   ],
   "source": [
    "fh = model.fit(X, y, epochs=200, verbose=0)\n",
    "plt.plot(fh.history['loss'][1:])\n",
    "plt.plot(fh.history['binary_accuracy'][1:])\n",
    "plt.show()"
   ]
  },
  {
   "cell_type": "markdown",
   "metadata": {
    "id": "3h7DuP1EG5ze"
   },
   "source": [
    "**Notice**: If you run the above code cell repeatedly (without redefining the model), the fit the loss will continue to decrease."
   ]
  },
  {
   "cell_type": "markdown",
   "metadata": {
    "id": "KWNTqM4PhvgW"
   },
   "source": [
    "### Task (20 min): Evaluations, Predictions and Confusion"
   ]
  },
  {
   "cell_type": "markdown",
   "metadata": {
    "id": "8PAJbFpL4HSX"
   },
   "source": [
    "Understand the values and the shape of the predictions. \n",
    "Compare them to the observed label (use confusion matrix)"
   ]
  },
  {
   "cell_type": "code",
   "execution_count": 28,
   "metadata": {
    "colab": {
     "base_uri": "https://localhost:8080/"
    },
    "executionInfo": {
     "elapsed": 542,
     "status": "ok",
     "timestamp": 1655332205009,
     "user": {
      "displayName": "Thomas Manke",
      "userId": "17591636328965298454"
     },
     "user_tz": -120
    },
    "id": "VvbzJp3N3gB1",
    "outputId": "20db243d-117a-4f93-9fd0-0affb69fceed"
   },
   "outputs": [
    {
     "name": "stdout",
     "output_type": "stream",
     "text": [
      "5/5 [==============================] - 0s 6ms/step - loss: 0.0467 - binary_accuracy: 1.0000\n",
      "[loss, accuracy] =  [0.04670817032456398, 1.0]\n",
      "y.shape:   (150,)\n",
      "yp.shape:  (150, 1)\n",
      "y[45:55]:  [1 1 1 1 1 0 0 0 0 0]\n",
      "yp[45:55]:  [[0.89293456]\n",
      " [0.9468314 ]\n",
      " [0.91685474]\n",
      " [0.9516227 ]\n",
      " [0.9325575 ]\n",
      " [0.04906905]\n",
      " [0.04534587]\n",
      " [0.02912268]\n",
      " [0.03731605]\n",
      " [0.02840433]]\n"
     ]
    }
   ],
   "source": [
    "eval = model.evaluate(x=X, y=y)\n",
    "print('[loss, accuracy] = ', eval)\n",
    "\n",
    "x_predict = np.array([[16.0, 14.0, 5.1, 2.2],\n",
    "                      [-5,-3,-1.5,-0.5]])\n",
    "\n",
    "#yp = model.predict(x=x_predict)\n",
    "yp = model.predict(x=X)\n",
    "#print(f'yp{yp}')\n",
    "\n",
    "# Inspect and understand the values in yp and compare them to y\n",
    "print('y.shape:  ', y.shape)\n",
    "print('yp.shape: ', yp.shape)\n",
    "print('y[45:55]: ',  y[45:55])\n",
    "print('yp[45:55]: ', yp[45:55])\n"
   ]
  },
  {
   "cell_type": "markdown",
   "metadata": {
    "id": "eUF4vQVJLbIS"
   },
   "source": [
    "Run the code below and inspect the confusion matrix"
   ]
  },
  {
   "cell_type": "code",
   "execution_count": 27,
   "metadata": {
    "colab": {
     "base_uri": "https://localhost:8080/",
     "height": 295
    },
    "executionInfo": {
     "elapsed": 592,
     "status": "ok",
     "timestamp": 1655332209830,
     "user": {
      "displayName": "Thomas Manke",
      "userId": "17591636328965298454"
     },
     "user_tz": -120
    },
    "id": "PBV7iAIS80QA",
    "outputId": "9c05824a-d724-4139-8f27-bf2f4598948a"
   },
   "outputs": [
    {
     "data": {
      "image/png": "[encoded data removed]",
      "text/plain": [
       "<Figure size 432x288 with 2 Axes>"
      ]
     },
     "metadata": {
      "needs_background": "light"
     },
     "output_type": "display_data"
    }
   ],
   "source": [
    "from sklearn.metrics import confusion_matrix\n",
    "# my plot function for cm\n",
    "def plot_cm(mat):\n",
    "  classes = np.arange(cm.shape[0])\n",
    "  plt.imshow(mat, cmap=plt.cm.Blues)\n",
    "  for (j,i),label in np.ndenumerate(mat):\n",
    "    plt.text(i,j,np.round(label,2),ha='center',va='center')\n",
    "\n",
    "  plt.colorbar()\n",
    "  plt.title('Confusion Matrix')\n",
    "  plt.xlabel('True label')\n",
    "  plt.ylabel('Pred label')\n",
    "  plt.xticks(classes)\n",
    "  plt.yticks(classes)\n",
    "  plt.show()\n",
    "\n",
    "\n",
    "cm = confusion_matrix(yp>=0.5, y)\n",
    "plot_cm(cm)"
   ]
  },
  {
   "cell_type": "markdown",
   "metadata": {
    "id": "byBJcWcWPXVn"
   },
   "source": [
    "## Group Task (30 min): Repeat"
   ]
  },
  {
   "cell_type": "markdown",
   "metadata": {
    "id": "Dy1KH7O7Oke2"
   },
   "source": [
    "Change the code above to fit a model and predict another species. Track the fit performance (model loss) and report the final confusion analysis.\n",
    "\n",
    "What could you do to improve performance?"
   ]
  },
  {
   "cell_type": "code",
   "execution_count": 35,
   "metadata": {},
   "outputs": [
    {
     "name": "stdout",
     "output_type": "stream",
     "text": [
      "Model: \"my_log_model\"\n",
      "_________________________________________________________________\n",
      "Layer (type)                 Output Shape              Param #   \n",
      "=================================================================\n",
      "1st_layer (Dense)            (None, 1)                 5         \n",
      "=================================================================\n",
      "Total params: 5\n",
      "Trainable params: 5\n",
      "Non-trainable params: 0\n",
      "_________________________________________________________________\n"
     ]
    },
    {
     "data": {
      "image/png": "[encoded data removed]",
      "text/plain": [
       "<Figure size 432x288 with 1 Axes>"
      ]
     },
     "metadata": {
      "needs_background": "light"
     },
     "output_type": "display_data"
    },
    {
     "name": "stdout",
     "output_type": "stream",
     "text": [
      "5/5 [==============================] - 1s 15ms/step - loss: 0.2909 - binary_accuracy: 0.9467\n",
      "[loss, accuracy] =  [0.29086461663246155, 0.9466666579246521]\n"
     ]
    },
    {
     "data": {
      "image/png": "[encoded data removed]",
      "text/plain": [
       "<Figure size 432x288 with 2 Axes>"
      ]
     },
     "metadata": {
      "needs_background": "light"
     },
     "output_type": "display_data"
    }
   ],
   "source": [
    "y_2 = (iris.target==2)  # What is iris.target? What is this equation ?\n",
    "y_2 = y_2.astype(int)     # binarize y for class of choice # turn true/false into 1/0\n",
    "\n",
    "\n",
    "model_2 = tf.keras.Sequential(name='my_log_model')\n",
    "model_2.add( tf.keras.layers.Dense(nc, input_shape = input_shape,\n",
    "                                 activation = 'sigmoid',\n",
    "                                 name='1st_layer'))\n",
    "\n",
    "# define optimizer and loss\n",
    "model_2.compile(optimizer='sgd', loss='binary_crossentropy', metrics=['binary_accuracy'])\n",
    "\n",
    "# see and understand the number of parameters\n",
    "model_2.summary()\n",
    "\n",
    "fh_2 = model_2.fit(X, y_2, epochs=200, verbose=0)\n",
    "plt.plot(fh_2.history['loss'][1:])\n",
    "plt.plot(fh_2.history['binary_accuracy'][1:])\n",
    "plt.show()\n",
    "\n",
    "eval = model_2.evaluate(x=X, y=y_2)\n",
    "print('[loss, accuracy] = ', eval)\n",
    "\n",
    "x_predict = np.array([[16.0, 14.0, 5.1, 2.2],\n",
    "                      [-5,-3,-1.5,-0.5]])\n",
    "\n",
    "#yp = model.predict(x=x_predict)\n",
    "yp_2 = model_2.predict(x=X)\n",
    "#print(yp_2)\n",
    "\n",
    "cm = confusion_matrix(yp_2>=0.5, y_2)\n",
    "plot_cm(cm)"
   ]
  },
  {
   "cell_type": "markdown",
   "metadata": {
    "id": "clxUdE0fhnW-"
   },
   "source": [
    "# Predicting Multiple Classes"
   ]
  },
  {
   "cell_type": "markdown",
   "metadata": {
    "id": "44liskKoMGEy"
   },
   "source": [
    "<div>\n",
    "   <img src=\"https://github.com/thomasmanke/ABS/raw/main/figures/ANN_Softmax.jpg\",  width=\"1000\">\n",
    "</div>"
   ]
  },
  {
   "cell_type": "markdown",
   "metadata": {},
   "source": [
    "Notes: y1 and y2 are between 1 and 0 (from sigmoid function I think),\n",
    "       and then this gets normalized so that they all add up to one"
   ]
  },
  {
   "cell_type": "markdown",
   "metadata": {
    "id": "ccThC2CfpTzL"
   },
   "source": [
    "### Data"
   ]
  },
  {
   "cell_type": "code",
   "execution_count": 37,
   "metadata": {
    "id": "I480kSUKOt0r"
   },
   "outputs": [],
   "source": [
    "# define data\n",
    "X  = iris.data    # What is the shape of X? How many samples?\n",
    "y  = iris.target  # What is iris.target? What is this equation ?\n",
    "nc = 3            # number of classes\n",
    "\n",
    "input_shape = (1,)    # shape of X - without samples\n",
    "if (X.ndim > 1):\n",
    "  input_shape = X.shape[1:]"
   ]
  },
  {
   "cell_type": "markdown",
   "metadata": {
    "id": "WbTzhZkyKqNV"
   },
   "source": [
    "## Preliminaries"
   ]
  },
  {
   "cell_type": "markdown",
   "metadata": {
    "id": "lHVZj445KzYk"
   },
   "source": [
    "The following will be almost identical to logistic regression (predicting one class label) with only small changes"
   ]
  },
  {
   "cell_type": "markdown",
   "metadata": {
    "id": "PvL3BU0zhep0"
   },
   "source": [
    "### Softmax:  $z \\to \\hat y$"
   ]
  },
  {
   "cell_type": "markdown",
   "metadata": {
    "id": "FRGX_cDBgB_b"
   },
   "source": [
    "The softmax operation transforms a score vector (z) into a vector of probabilities ($\\hat y$):\n",
    "\n",
    "$$\\hat y_l = \\frac{\\exp(z_l)}{\\sum_k \\exp(z_k)}$$"
   ]
  },
  {
   "cell_type": "markdown",
   "metadata": {
    "id": "xb1o31Cng22L"
   },
   "source": [
    "Elements of $z$ are real number (with any sign), but this definition ensures that $\\hat y_l \\ge 0$ and $\\sum_l \\hat y_l = 1$"
   ]
  },
  {
   "cell_type": "markdown",
   "metadata": {
    "id": "B8I0vSNfiC2U"
   },
   "source": [
    "### Cross-Entropy Loss"
   ]
  },
  {
   "cell_type": "markdown",
   "metadata": {
    "id": "7sslfInyjX-o"
   },
   "source": [
    "For a given sample, we have the known annotations $y$ and the probabilistic predictions ($\\hat y)$ from the model.\n",
    "\n",
    "For $k$ categories both vectors a $k$-dimensional.\n",
    "You may think of the true label $y$ as \"one-hot encoded\" For example:\n",
    "\n",
    "$$y = (0,0,1,0,0,0)$$\n",
    "\n",
    "Where the $1$ denotes the true class label: the third out of six in this example.\n",
    "\n",
    "The loss for a given sample is defined as\n",
    "\n",
    "$$l(y, \\hat y)= - \\sum_l^k y_l \\log \\hat y_l$$\n",
    "\n",
    "Notice that this sum is non-zero only for a single term from the correct class (where $y_l=1$). Moreover, if the model prediction $\\hat y_l$ was certain for that class and that specific sample, then $l((y, \\hat y) = -\\log(\\hat y_l) = 0$. In general the loss will be larger than 0.\n",
    "\n",
    "The total loss will be the average over all samples losses."
   ]
  },
  {
   "cell_type": "markdown",
   "metadata": {
    "id": "UHSGGnAsp2G4"
   },
   "source": [
    "## Model"
   ]
  },
  {
   "cell_type": "code",
   "execution_count": 38,
   "metadata": {
    "colab": {
     "base_uri": "https://localhost:8080/"
    },
    "executionInfo": {
     "elapsed": 196,
     "status": "ok",
     "timestamp": 1655331489774,
     "user": {
      "displayName": "Thomas Manke",
      "userId": "17591636328965298454"
     },
     "user_tz": -120
    },
    "id": "FdML1pY5qL60",
    "outputId": "a08b7bd1-3a7b-423d-8c39-43e94f439900"
   },
   "outputs": [
    {
     "name": "stdout",
     "output_type": "stream",
     "text": [
      "input_shape:  (4,)\n",
      "X.shape:      (150, 4)\n",
      "y.shape:      (150,)\n",
      "classes:      3\n"
     ]
    }
   ],
   "source": [
    "print('input_shape: ', input_shape)\n",
    "print('X.shape:     ', X.shape)\n",
    "print('y.shape:     ', y.shape)\n",
    "print('classes:     ', nc)\n",
    "\n",
    "# keras has many predefined loss functions and metrics\n",
    "loss_name='sparse_categorical_crossentropy'   # for integer labels\n",
    "acc='sparse_categorical_accuracy'             # additional metrics to track\n",
    "\n",
    "model = tf.keras.Sequential(name='my_softmax_model')\n",
    "model.add( tf.keras.layers.Dense(nc, input_shape = input_shape,\n",
    "                                 activation = 'softmax',\n",
    "                                 name='1st_layer'))\n",
    "\n",
    "\n",
    "# define optimizer and loss\n",
    "model.compile(optimizer='sgd', loss=loss_name, metrics=[acc])\n",
    "\n",
    " "
   ]
  },
  {
   "cell_type": "markdown",
   "metadata": {
    "id": "LcFLYb-sy4DZ"
   },
   "source": [
    "## Group task (30 min): Fit and Evaluate the model"
   ]
  },
  {
   "cell_type": "markdown",
   "metadata": {
    "id": "snzePGrZddzk"
   },
   "source": [
    "- Summarize the model and understand the number of parameters\n",
    "- Inspect the fit history and evaluate the model: has it converged?\n",
    "- run a prediction: yp = model.predict(X). Understand the output.\n",
    "- How would you predict the label based on yp\n",
    "- Look at the corresponding confusion matrix"
   ]
  },
  {
   "cell_type": "code",
   "execution_count": 55,
   "metadata": {
    "id": "lGRKFEp6Tk20"
   },
   "outputs": [
    {
     "name": "stdout",
     "output_type": "stream",
     "text": [
      "Model: \"my_softmax_model\"\n",
      "_________________________________________________________________\n",
      "Layer (type)                 Output Shape              Param #   \n",
      "=================================================================\n",
      "1st_layer (Dense)            (None, 3)                 15        \n",
      "=================================================================\n",
      "Total params: 15\n",
      "Trainable params: 15\n",
      "Non-trainable params: 0\n",
      "_________________________________________________________________\n"
     ]
    },
    {
     "data": {
      "image/png": "[encoded data removed]",
      "text/plain": [
       "<Figure size 432x288 with 1 Axes>"
      ]
     },
     "metadata": {
      "needs_background": "light"
     },
     "output_type": "display_data"
    },
    {
     "name": "stdout",
     "output_type": "stream",
     "text": [
      "5/5 [==============================] - 0s 11ms/step - loss: 0.1138 - sparse_categorical_accuracy: 0.9867\n",
      "[loss, accuracy] =  [0.11381892114877701, 0.9866666793823242]\n",
      "species 1 species 2 species 3\n",
      "[[9.93418872e-01 6.58107968e-03 8.55872151e-10]\n",
      " [9.74344254e-01 2.56557055e-02 1.38366039e-08]\n",
      " [9.89093542e-01 1.09064672e-02 4.79794604e-09]\n",
      " [9.77130651e-01 2.28693970e-02 3.07310160e-08]\n",
      " [9.95175123e-01 4.82485862e-03 6.71877998e-10]\n",
      " [9.94751394e-01 5.24864998e-03 9.38862432e-10]\n",
      " [9.91908967e-01 8.09096266e-03 6.61159572e-09]\n",
      " [9.89125609e-01 1.08744269e-02 3.07329828e-09]\n",
      " [9.70111251e-01 2.98887100e-02 6.82980570e-08]\n",
      " [9.76529598e-01 2.34703962e-02 9.98456162e-09]\n",
      " [9.94862258e-01 5.13772992e-03 3.05382719e-10]\n",
      " [9.86823440e-01 1.31766237e-02 8.66528982e-09]\n",
      " [9.76196945e-01 2.38030199e-02 1.11377627e-08]\n",
      " [9.89862442e-01 1.01376073e-02 6.02281114e-09]\n",
      " [9.98841941e-01 1.15814537e-03 5.21338138e-12]\n",
      " [9.99167919e-01 8.32073856e-04 1.41186958e-11]\n",
      " [9.98032033e-01 1.96796097e-03 9.01803979e-11]\n",
      " [9.93076921e-01 6.92304131e-03 1.33520406e-09]\n",
      " [9.92837012e-01 7.16302963e-03 4.87417440e-10]\n",
      " [9.96237397e-01 3.76257417e-03 5.87908056e-10]\n",
      " [9.80446696e-01 1.95532944e-02 3.98394162e-09]\n",
      " [9.94735777e-01 5.26419980e-03 1.46574419e-09]\n",
      " [9.98368800e-01 1.63118995e-03 1.59472990e-10]\n",
      " [9.72161114e-01 2.78388988e-02 4.73479247e-08]\n",
      " [9.72823441e-01 2.71765403e-02 4.96326003e-08]\n",
      " [9.57670212e-01 4.23297472e-02 3.50560470e-08]\n",
      " [9.84667599e-01 1.53323421e-02 1.33951668e-08]\n",
      " [9.91380155e-01 8.61980859e-03 1.22465971e-09]\n",
      " [9.91029143e-01 8.97079892e-03 1.08955123e-09]\n",
      " [9.77450490e-01 2.25495044e-02 2.75487650e-08]\n",
      " [9.69440699e-01 3.05592977e-02 3.48668401e-08]\n",
      " [9.86678898e-01 1.33210970e-02 3.02121372e-09]\n",
      " [9.98519719e-01 1.48030161e-03 4.71138059e-11]\n",
      " [9.99011040e-01 9.88961430e-04 1.29751756e-11]\n",
      " [9.75331843e-01 2.46681869e-02 1.55626427e-08]\n",
      " [9.90769207e-01 9.23074782e-03 1.35633971e-09]\n",
      " [9.94288802e-01 5.71113639e-03 1.92813307e-10]\n",
      " [9.95530427e-01 4.46953578e-03 5.39992773e-10]\n",
      " [9.82230246e-01 1.77697558e-02 2.40411353e-08]\n",
      " [9.88843918e-01 1.11560542e-02 2.45047493e-09]\n",
      " [9.94716465e-01 5.28348936e-03 9.32750210e-10]\n",
      " [8.73376012e-01 1.26623243e-01 7.14186058e-07]\n",
      " [9.89899218e-01 1.01007707e-02 9.46456424e-09]\n",
      " [9.87215757e-01 1.27843190e-02 2.04423785e-08]\n",
      " [9.89477038e-01 1.05229840e-02 9.51832035e-09]\n",
      " [9.73708093e-01 2.62919329e-02 2.70560836e-08]\n",
      " [9.95430708e-01 4.56929626e-03 6.76705580e-10]\n",
      " [9.86443281e-01 1.35567663e-02 1.07857536e-08]\n",
      " [9.94992793e-01 5.00726653e-03 3.82941262e-10]\n",
      " [9.88683879e-01 1.13161663e-02 2.73398437e-09]\n",
      " [6.17277669e-03 9.78078067e-01 1.57491919e-02]\n",
      " [1.07443240e-02 9.37831283e-01 5.14244735e-02]\n",
      " [2.62654177e-03 9.29569304e-01 6.78042248e-02]\n",
      " [3.37615702e-03 8.10711384e-01 1.85912445e-01]\n",
      " [2.46248348e-03 8.86791825e-01 1.10745743e-01]\n",
      " [3.69698275e-03 7.64381647e-01 2.31921330e-01]\n",
      " [7.69943139e-03 8.46650124e-01 1.45650402e-01]\n",
      " [3.96025889e-02 9.37440991e-01 2.29564700e-02]\n",
      " [3.83391301e-03 9.60874379e-01 3.52916978e-02]\n",
      " [1.35982884e-02 7.90896714e-01 1.95504978e-01]\n",
      " [7.36922445e-03 9.20470834e-01 7.21599385e-02]\n",
      " [1.37865255e-02 8.96130741e-01 9.00827944e-02]\n",
      " [3.11798975e-03 9.73555088e-01 2.33269874e-02]\n",
      " [2.64945673e-03 7.85339594e-01 2.12010950e-01]\n",
      " [5.62622696e-02 9.29636478e-01 1.41012603e-02]\n",
      " [1.04489811e-02 9.75080848e-01 1.44701144e-02]\n",
      " [4.95854951e-03 6.23999178e-01 3.71042222e-01]\n",
      " [1.06817437e-02 9.67778683e-01 2.15395819e-02]\n",
      " [4.38527029e-04 6.36811197e-01 3.62750262e-01]\n",
      " [9.70415212e-03 9.52270269e-01 3.80255505e-02]\n",
      " [1.93988404e-03 3.62766773e-01 6.35293305e-01]\n",
      " [1.44201098e-02 9.66086328e-01 1.94935314e-02]\n",
      " [2.96511513e-04 5.00826359e-01 4.98877138e-01]\n",
      " [2.43912055e-03 8.69335353e-01 1.28225490e-01]\n",
      " [8.52904283e-03 9.70228612e-01 2.12423857e-02]\n",
      " [8.00875481e-03 9.69742239e-01 2.22489368e-02]\n",
      " [1.53093832e-03 9.26126957e-01 7.23420382e-02]\n",
      " [1.08802575e-03 6.89601064e-01 3.09310853e-01]\n",
      " [4.25050361e-03 7.89827943e-01 2.05921546e-01]\n",
      " [3.57430652e-02 9.59973872e-01 4.28308127e-03]\n",
      " [9.53042042e-03 9.48797405e-01 4.16721627e-02]\n",
      " [1.30672697e-02 9.66566920e-01 2.03657914e-02]\n",
      " [1.56607945e-02 9.60541964e-01 2.37972364e-02]\n",
      " [1.24189057e-04 1.88460842e-01 8.11415017e-01]\n",
      " [4.19930276e-03 5.01823485e-01 4.93977219e-01]\n",
      " [1.82056297e-02 8.50521266e-01 1.31273121e-01]\n",
      " [4.56601707e-03 9.38100040e-01 5.73339649e-02]\n",
      " [1.12948450e-03 8.92495573e-01 1.06374957e-01]\n",
      " [2.15469450e-02 9.15072024e-01 6.33809790e-02]\n",
      " [6.33119699e-03 8.57480586e-01 1.36188239e-01]\n",
      " [2.86020013e-03 7.39765286e-01 2.57374465e-01]\n",
      " [4.92917513e-03 8.57941389e-01 1.37129381e-01]\n",
      " [9.10551567e-03 9.51096356e-01 3.97981331e-02]\n",
      " [2.93390863e-02 9.48958278e-01 2.17026919e-02]\n",
      " [6.62733475e-03 8.49827230e-01 1.43545464e-01]\n",
      " [1.76458601e-02 9.34664130e-01 4.76899743e-02]\n",
      " [1.22000175e-02 9.05471861e-01 8.23281482e-02]\n",
      " [8.85434914e-03 9.56478238e-01 3.46673988e-02]\n",
      " [9.54368189e-02 8.98655474e-01 5.90771763e-03]\n",
      " [1.18660182e-02 9.16868508e-01 7.12655112e-02]\n",
      " [4.69027299e-07 2.00002780e-03 9.97999489e-01]\n",
      " [2.45590963e-05 4.12423648e-02 9.58733141e-01]\n",
      " [7.05595994e-06 5.56942523e-02 9.44298625e-01]\n",
      " [1.59425454e-05 5.58853634e-02 9.44098651e-01]\n",
      " [2.18869218e-06 1.21718580e-02 9.87825930e-01]\n",
      " [3.74317892e-07 1.88230295e-02 9.81176674e-01]\n",
      " [1.02088954e-04 4.96907271e-02 9.50207233e-01]\n",
      " [2.50156040e-06 6.35747984e-02 9.36422765e-01]\n",
      " [1.89566458e-06 3.78925130e-02 9.62105572e-01]\n",
      " [8.00754424e-06 2.33450383e-02 9.76646960e-01]\n",
      " [5.88308438e-04 2.97657847e-01 7.01753795e-01]\n",
      " [2.80231325e-05 8.98967460e-02 9.10075307e-01]\n",
      " [3.57341960e-05 9.75426212e-02 9.02421713e-01]\n",
      " [8.99622137e-06 2.14759633e-02 9.78515029e-01]\n",
      " [4.39611586e-06 7.15475576e-03 9.92840886e-01]\n",
      " [5.17815279e-05 4.86673526e-02 9.51280773e-01]\n",
      " [6.55090989e-05 1.41997486e-01 8.57936919e-01]\n",
      " [6.96362986e-06 4.89448644e-02 9.51048255e-01]\n",
      " [5.14818277e-09 1.93479040e-03 9.98065174e-01]\n",
      " [3.43182583e-05 1.61960855e-01 8.38004768e-01]\n",
      " [1.54338632e-05 4.41709049e-02 9.55813706e-01]\n",
      " [5.18342495e-05 3.99354883e-02 9.60012674e-01]\n",
      " [1.59326348e-07 1.77167524e-02 9.82283175e-01]\n",
      " [2.77075364e-04 3.07600617e-01 6.92122281e-01]\n",
      " [3.72738177e-05 6.87004328e-02 9.31262195e-01]\n",
      " [4.04247949e-05 2.02694044e-01 7.97265530e-01]\n",
      " [5.79674961e-04 3.68238121e-01 6.31182194e-01]\n",
      " [7.11089757e-04 3.17542046e-01 6.81746781e-01]\n",
      " [3.41531404e-06 1.90633610e-02 9.80933309e-01]\n",
      " [8.83163593e-05 4.33420986e-01 5.66490710e-01]\n",
      " [3.95253937e-06 8.82976577e-02 9.11698401e-01]\n",
      " [1.07120068e-04 3.42218459e-01 6.57674432e-01]\n",
      " [2.20215179e-06 1.29349669e-02 9.87062752e-01]\n",
      " [4.00168734e-04 4.68340814e-01 5.31259000e-01]\n",
      " [1.41451928e-05 9.06470343e-02 9.09338951e-01]\n",
      " [3.47409468e-06 5.80083653e-02 9.41988170e-01]\n",
      " [1.20885161e-05 1.37482816e-02 9.86239612e-01]\n",
      " [8.43867601e-05 1.33866757e-01 8.66048932e-01]\n",
      " [9.90206143e-04 3.36906791e-01 6.62102997e-01]\n",
      " [1.15629962e-04 1.90191329e-01 8.09693038e-01]\n",
      " [7.23606172e-06 2.15449613e-02 9.78447855e-01]\n",
      " [2.62687594e-04 2.28698194e-01 7.71039128e-01]\n",
      " [2.45590963e-05 4.12423648e-02 9.58733141e-01]\n",
      " [3.91367439e-06 1.78545862e-02 9.82141495e-01]\n",
      " [6.64663730e-06 1.50229568e-02 9.84970331e-01]\n",
      " [6.81144375e-05 9.59013849e-02 9.04030561e-01]\n",
      " [4.85657365e-05 1.28658593e-01 8.71292770e-01]\n",
      " [1.50649721e-04 1.72842428e-01 8.27006876e-01]\n",
      " [4.77874564e-05 3.07667535e-02 9.69185412e-01]\n",
      " [1.79672614e-04 1.24633335e-01 8.75187039e-01]]\n"
     ]
    }
   ],
   "source": [
    "#%%script echo edit before execution\n",
    "\n",
    "# see and understand the number of parameters\n",
    "model.summary()\n",
    "\n",
    "fh = model.fit(X, y, epochs=200, verbose=0)\n",
    "\n",
    "#print(fh.history)\n",
    "plt.plot(fh.history['loss'][1:])\n",
    "plt.plot(fh.history['sparse_categorical_accuracy'][1:])\n",
    "plt.show()\n",
    "\n",
    "eval = model.evaluate(x=X, y=y)\n",
    "print('[loss, accuracy] = ', eval)\n",
    "\n",
    "x_predict = np.array([[16.0, 14.0, 5.1, 2.2],\n",
    "                      [-5,-3,-1.5,-0.5]])\n",
    "\n",
    "#yp = model.predict(x=x_predict)\n",
    "yp = model.predict(x=X)\n",
    "yp1 = yp[:,0]\n",
    "yp2 = yp[:,1]\n",
    "yp3 = yp[:,2]\n",
    "\n",
    "print('species 1', 'species 2', 'species 3')\n",
    "print(yp)\n"
   ]
  },
  {
   "cell_type": "code",
   "execution_count": 63,
   "metadata": {},
   "outputs": [
    {
     "data": {
      "image/png": "[encoded data removed]",
      "text/plain": [
       "<Figure size 432x288 with 2 Axes>"
      ]
     },
     "metadata": {
      "needs_background": "light"
     },
     "output_type": "display_data"
    }
   ],
   "source": [
    "\n",
    "#cm = confusion_matrix(yp1>=0.5, y)\n",
    "#plot_cm(cm)\n",
    "\n",
    "y_label = np.argmax(yp, axis=1)\n",
    "cm = confusion_matrix(y_label, y)\n",
    "plot_cm(cm) \n",
    "#cm = confusion_matrix(yp>=0.5, y)\n"
   ]
  },
  {
   "cell_type": "markdown",
   "metadata": {
    "id": "PiFiOiwIuiax"
   },
   "source": [
    "# Computational Challenges: Propagation and Backpropagation"
   ]
  },
  {
   "cell_type": "markdown",
   "metadata": {
    "id": "6Gg1nIloxbAP"
   },
   "source": [
    "<div>\n",
    "   <img src=\"https://github.com/thomasmanke/ABS/raw/main/figures/ANN_ComputationalChallenges.jpg\",  width=\"1000\">\n",
    "</div>"
   ]
  }
 ],
 "metadata": {
  "colab": {
   "authorship_tag": "ABX9TyP0FbyMtk9yUKGpre2C2BnC",
   "collapsed_sections": [
    "WbTzhZkyKqNV"
   ],
   "name": "ANN_002_LogRegression.ipynb",
   "provenance": [],
   "toc_visible": true
  },
  "kernelspec": {
   "display_name": "Python 3 (ipykernel)",
   "language": "python",
   "name": "python3"
  },
  "language_info": {
   "codemirror_mode": {
    "name": "ipython",
    "version": 3
   },
   "file_extension": ".py",
   "mimetype": "text/x-python",
   "name": "python",
   "nbconvert_exporter": "python",
   "pygments_lexer": "ipython3",
   "version": "3.9.5"
  }
 },
 "nbformat": 4,
 "nbformat_minor": 4
}
