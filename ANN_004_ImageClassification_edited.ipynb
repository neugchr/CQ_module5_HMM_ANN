{
 "cells": [
  {
   "cell_type": "markdown",
   "metadata": {
    "id": "9eJVzsw3ovB_"
   },
   "source": [
    "# Image Classification\n",
    "\n"
   ]
  },
  {
   "cell_type": "markdown",
   "metadata": {
    "id": "fDLvMoIhtYRr"
   },
   "source": [
    "**Goal:** Given many images and their labels, learn a neural network to predict the label of a new image (c.f human learning)."
   ]
  },
  {
   "cell_type": "markdown",
   "metadata": {
    "id": "HsGfslxvhWMF"
   },
   "source": [
    "**Repetitions:**\n",
    "- Define Model & Optimization Strategy\n",
    "- Fit Model\n",
    "- Monitor Fitting\n",
    "- Evaluate Training \n",
    "\n",
    "**New items:**\n",
    "\n",
    "- Data Splitting: Train & Test\n",
    "- How to handle images: data structure\n",
    "\n",
    "- "
   ]
  },
  {
   "cell_type": "markdown",
   "metadata": {
    "id": "_5H1VxaENAex"
   },
   "source": [
    "# Get Libraries"
   ]
  },
  {
   "cell_type": "code",
   "execution_count": 1,
   "metadata": {
    "id": "Q40zhW1fNDoZ"
   },
   "outputs": [
    {
     "name": "stdout",
     "output_type": "stream",
     "text": [
      "tf-version:  2.4.1\n"
     ]
    }
   ],
   "source": [
    "import numpy as np\n",
    "import tensorflow as tf\n",
    "import matplotlib.pyplot as plt\n",
    "from sklearn.metrics import confusion_matrix\n",
    "print('tf-version: ', tf.__version__)\n",
    "\n",
    "# my plot function for confusion matrix\n",
    "def plot_cm(mat):\n",
    "  classes = np.arange(cm.shape[0])\n",
    "  plt.imshow(mat, cmap=plt.cm.Blues)\n",
    "  for (j,i),label in np.ndenumerate(mat):\n",
    "    plt.text(i,j,np.round(label,2),ha='center',va='center')\n",
    "\n",
    "  plt.colorbar()\n",
    "  plt.title('Confusion Matrix')\n",
    "  plt.xlabel('True label')\n",
    "  plt.ylabel('Pred label')\n",
    "  plt.xticks(classes)\n",
    "  plt.yticks(classes)\n",
    "  plt.show()"
   ]
  },
  {
   "cell_type": "markdown",
   "metadata": {
    "id": "gp6YGTDxLSTC"
   },
   "source": [
    "## Get Data"
   ]
  },
  {
   "cell_type": "markdown",
   "metadata": {
    "id": "MfdKyjkzNM1l"
   },
   "source": [
    "Many famous datasets can be found here:  https://www.tensorflow.org/datasets/catalog/overview\n",
    "\n",
    "They can be accessed easily using keras functionality.\n",
    "\n",
    "In the following we will focus on squared images of handwritten digits. They have also been annotated (labeled)."
   ]
  },
  {
   "cell_type": "code",
   "execution_count": 2,
   "metadata": {
    "id": "XBLF1bnLLUxX"
   },
   "outputs": [
    {
     "name": "stdout",
     "output_type": "stream",
     "text": [
      "Downloading data from https://storage.googleapis.com/tensorflow/tf-keras-datasets/mnist.npz\n",
      "11493376/11490434 [==============================] - 1s 0us/step\n"
     ]
    }
   ],
   "source": [
    "mnist = tf.keras.datasets.mnist\n",
    "(X_train, y_train), (X_test, y_test) = mnist.load_data()"
   ]
  },
  {
   "cell_type": "markdown",
   "metadata": {
    "id": "Vl38XgCSTqtV"
   },
   "source": [
    "### Test and Training Sets"
   ]
  },
  {
   "cell_type": "markdown",
   "metadata": {
    "id": "niN-HRCe1W0k"
   },
   "source": [
    "For models with many parameters there is a real danger of **overfitting**, i.e. learning the specifics of one set of samples rather than generalizable rules.\n",
    "\n",
    "For performance evaluation it is crucial to retain an independent (but representative) **test data set** that it is never used for fitting.  Using keras functionality, we loaded both training data and test data at the same time. If your data does not come split, you may have to do one of the following:"
   ]
  },
  {
   "cell_type": "code",
   "execution_count": null,
   "metadata": {
    "id": "SC51MsE22s8y"
   },
   "outputs": [],
   "source": [
    "%%script echo Suggestions for general (X,y). Do not run here\n",
    "fract = 0.80\n",
    "\n",
    "idx = numpy.random.permutation(X.shape[0]) # shuffle indices\n",
    "s = round(X.shape[0]*fract)                # split point\n",
    "train_idx, test_idx = idx[:s], idx[s:]\n",
    "X_train, X_test = X[train_idx,:], X[test_idx,:]\n",
    "# similar for labels\n",
    "\n",
    "# sklearn\n",
    "from sklearn.model_selection import train_test_split\n",
    "X_train, X_test, y_train, y_test = train_test_split(X, y, train_size = fract)\n",
    "\n",
    "# keep in mind that the test data set should be representative\n",
    "# See here for stratified partitioning\n",
    "https://scikit-learn.org/stable/modules/generated/sklearn.model_selection.StratifiedKFold.html"
   ]
  },
  {
   "cell_type": "markdown",
   "metadata": {
    "id": "4OzeFrperTvk"
   },
   "source": [
    "## Task (15 min): Data Inspection."
   ]
  },
  {
   "cell_type": "markdown",
   "metadata": {
    "id": "sQwoO6heEtdf"
   },
   "source": [
    "- Inspect the types and shapes of the newly defined objects: X_train, y_train, ...\n",
    "- Have a look at the data (array) of the 42nd training image and describe what you see\n",
    "- What is the maximal/minimal number in this image data?\n",
    "- Plot the image using plt.imshow. Use the argument cmap='Greys'\n",
    "- What is the label of this image?"
   ]
  },
  {
   "cell_type": "code",
   "execution_count": 16,
   "metadata": {
    "id": "U-l4iwhcEn_R"
   },
   "outputs": [
    {
     "name": "stdout",
     "output_type": "stream",
     "text": [
      "<module 'tensorflow.keras.datasets.mnist' from '/home/cq/miniconda3/lib/python3.9/site-packages/tensorflow/keras/datasets/mnist/__init__.py'>\n",
      "(60000, 28, 28)\n",
      "(60000,)\n",
      "[[  0   0   0   0   0   0   0   0   0   0   0   0   0   0   0   0   0   0\n",
      "    0   0   0   0   0   0   0   0   0   0]\n",
      " [  0   0   0   0   0   0   0   0   0   0   0   0   0   0   0   0   0   0\n",
      "    0   0   0   0   0   0   0   0   0   0]\n",
      " [  0   0   0   0   0   0   0   0   0   0   0   0   0   0   0   0   0   0\n",
      "    0   0   0   0   0   0   0   0   0   0]\n",
      " [  0   0   0   0   0   0   0   0   0   0   0   0   0   0   0   0   0   0\n",
      "    0   0   0   0   0   0   0   0   0   0]\n",
      " [  0   0   0   0   0   0   0   0   0   0   0   0   0   0   0   0   0   0\n",
      "    0   0   0   0   0   0   0   0   0   0]\n",
      " [  0   0   0   0   0   0   0   0   0   0   0   0   0   0   0   0   0   0\n",
      "    0   0  67 232  39   0   0   0   0   0]\n",
      " [  0   0   0   0  62  81   0   0   0   0   0   0   0   0   0   0   0   0\n",
      "    0   0 120 180  39   0   0   0   0   0]\n",
      " [  0   0   0   0 126 163   0   0   0   0   0   0   0   0   0   0   0   0\n",
      "    0   2 153 210  40   0   0   0   0   0]\n",
      " [  0   0   0   0 220 163   0   0   0   0   0   0   0   0   0   0   0   0\n",
      "    0  27 254 162   0   0   0   0   0   0]\n",
      " [  0   0   0   0 222 163   0   0   0   0   0   0   0   0   0   0   0   0\n",
      "    0 183 254 125   0   0   0   0   0   0]\n",
      " [  0   0   0  46 245 163   0   0   0   0   0   0   0   0   0   0   0   0\n",
      "    0 198 254  56   0   0   0   0   0   0]\n",
      " [  0   0   0 120 254 163   0   0   0   0   0   0   0   0   0   0   0   0\n",
      "   23 231 254  29   0   0   0   0   0   0]\n",
      " [  0   0   0 159 254 120   0   0   0   0   0   0   0   0   0   0   0   0\n",
      "  163 254 216  16   0   0   0   0   0   0]\n",
      " [  0   0   0 159 254  67   0   0   0   0   0   0   0   0   0  14  86 178\n",
      "  248 254  91   0   0   0   0   0   0   0]\n",
      " [  0   0   0 159 254  85   0   0   0  47  49 116 144 150 241 243 234 179\n",
      "  241 252  40   0   0   0   0   0   0   0]\n",
      " [  0   0   0 150 253 237 207 207 207 253 254 250 240 198 143  91  28   5\n",
      "  233 250   0   0   0   0   0   0   0   0]\n",
      " [  0   0   0   0 119 177 177 177 177 177  98  56   0   0   0   0   0 102\n",
      "  254 220   0   0   0   0   0   0   0   0]\n",
      " [  0   0   0   0   0   0   0   0   0   0   0   0   0   0   0   0   0 169\n",
      "  254 137   0   0   0   0   0   0   0   0]\n",
      " [  0   0   0   0   0   0   0   0   0   0   0   0   0   0   0   0   0 169\n",
      "  254  57   0   0   0   0   0   0   0   0]\n",
      " [  0   0   0   0   0   0   0   0   0   0   0   0   0   0   0   0   0 169\n",
      "  254  57   0   0   0   0   0   0   0   0]\n",
      " [  0   0   0   0   0   0   0   0   0   0   0   0   0   0   0   0   0 169\n",
      "  255  94   0   0   0   0   0   0   0   0]\n",
      " [  0   0   0   0   0   0   0   0   0   0   0   0   0   0   0   0   0 169\n",
      "  254  96   0   0   0   0   0   0   0   0]\n",
      " [  0   0   0   0   0   0   0   0   0   0   0   0   0   0   0   0   0 169\n",
      "  254 153   0   0   0   0   0   0   0   0]\n",
      " [  0   0   0   0   0   0   0   0   0   0   0   0   0   0   0   0   0 169\n",
      "  255 153   0   0   0   0   0   0   0   0]\n",
      " [  0   0   0   0   0   0   0   0   0   0   0   0   0   0   0   0   0  96\n",
      "  254 153   0   0   0   0   0   0   0   0]\n",
      " [  0   0   0   0   0   0   0   0   0   0   0   0   0   0   0   0   0   0\n",
      "    0   0   0   0   0   0   0   0   0   0]\n",
      " [  0   0   0   0   0   0   0   0   0   0   0   0   0   0   0   0   0   0\n",
      "    0   0   0   0   0   0   0   0   0   0]\n",
      " [  0   0   0   0   0   0   0   0   0   0   0   0   0   0   0   0   0   0\n",
      "    0   0   0   0   0   0   0   0   0   0]]\n",
      "[5 0 4 ... 5 6 8]\n",
      "9\n"
     ]
    },
    {
     "data": {
      "text/plain": [
       "<matplotlib.image.AxesImage at 0x7fcf91716af0>"
      ]
     },
     "execution_count": 16,
     "metadata": {},
     "output_type": "execute_result"
    },
    {
     "data": {
      "image/png": "[encoded data removed]",
      "text/plain": [
       "<Figure size 432x288 with 1 Axes>"
      ]
     },
     "metadata": {
      "needs_background": "light"
     },
     "output_type": "display_data"
    }
   ],
   "source": [
    "#%%script echo edit here\n",
    "print(mnist)\n",
    "print(X_train.shape)\n",
    "print(y_train.shape)\n",
    "print(X_train[2,])\n",
    "print(y_train[:,])\n",
    "print(max(y_train[:,]))\n",
    "plt.imshow(X_train[2,:], cmap='Greys')"
   ]
  },
  {
   "cell_type": "markdown",
   "metadata": {
    "id": "RevDcT1gtv6D"
   },
   "source": [
    "## Data Normalization"
   ]
  },
  {
   "cell_type": "markdown",
   "metadata": {
    "id": "TQZ4lerVLSj5"
   },
   "source": [
    "**Alert:** Usually many more steps are involved in preparing data for analysis:\n",
    "reading, reformating, filtering, shuffeling, transformation, normalization. This can take up a significant amount of time. \n",
    "\n",
    "Here we rely on a highly standardize data set and will only use normalization for illustration. It is important to do so consistently for both training and test data."
   ]
  },
  {
   "cell_type": "code",
   "execution_count": 17,
   "metadata": {
    "id": "hHIX2rOEty47"
   },
   "outputs": [],
   "source": [
    "# Run this code cell only once !!!\n",
    "run_once=False\n",
    "if not run_once:\n",
    "    X_train = X_train / 255.0\n",
    "    X_test  = X_test  / 255.0\n",
    "    run_once=True"
   ]
  },
  {
   "cell_type": "markdown",
   "metadata": {
    "id": "jItEAEZvq2XI"
   },
   "source": [
    "## Flattening"
   ]
  },
  {
   "cell_type": "markdown",
   "metadata": {
    "id": "DF4unoFdQTi8"
   },
   "source": [
    "A common procedure to process images is to first \"flatten\" them to a vector. This step will ultimately be done inside the neural network.\n",
    "The line below just illustrates the behaviour for a specific image:"
   ]
  },
  {
   "cell_type": "code",
   "execution_count": 18,
   "metadata": {
    "id": "OvmRU-rXPvWO"
   },
   "outputs": [
    {
     "name": "stdout",
     "output_type": "stream",
     "text": [
      "original:   (28, 28)\n",
      "flattened:  (784,)\n"
     ]
    }
   ],
   "source": [
    "print('original:  ', X_train[42,:].shape)\n",
    "print('flattened: ', X_train[42,:].flatten().shape)"
   ]
  },
  {
   "cell_type": "markdown",
   "metadata": {
    "id": "hhcdiYS6yiC6"
   },
   "source": [
    "## Dimensional Reduction"
   ]
  },
  {
   "cell_type": "markdown",
   "metadata": {
    "id": "0hAwH6InLkwf"
   },
   "source": [
    "**Quiz:** What's the dimensionality of an image? (=How many features does one sample have?)\n",
    "\n",
    "There are various ways to project high-dimensional data to lower dimensions  - mostly for data exploration and visualization. Below I use PCA."
   ]
  },
  {
   "cell_type": "code",
   "execution_count": 19,
   "metadata": {
    "id": "OQUPfZQwEd23"
   },
   "outputs": [
    {
     "name": "stdout",
     "output_type": "stream",
     "text": [
      "Scores:  (500, 2)\n"
     ]
    },
    {
     "data": {
      "image/png": "[encoded data removed]",
      "text/plain": [
       "<Figure size 432x288 with 2 Axes>"
      ]
     },
     "metadata": {
      "needs_background": "light"
     },
     "output_type": "display_data"
    }
   ],
   "source": [
    "from sklearn.decomposition import PCA\n",
    "\n",
    "ns = X_train.shape[0] # total number of samples\n",
    "nr = 500              # random number of subsamples\n",
    "idx=np.random.choice(ns, nr, replace=False)\n",
    "X_sub = X_train[idx,:].reshape(nr,-1)  # flatten each of the nr images\n",
    "X_pca = PCA(n_components = 2).fit_transform(X_sub)\n",
    "print('Scores: ',X_pca.shape)\n",
    "\n",
    "cm = plt.get_cmap('tab10')\n",
    "plt.scatter( X_pca[:,0], X_pca[:,1] , c=y_train[idx], cmap=cm)\n",
    "plt.title('PCA')\n",
    "plt.colorbar()\n",
    "plt.show()"
   ]
  },
  {
   "cell_type": "markdown",
   "metadata": {
    "id": "Jzwa-fBVzvVG"
   },
   "source": [
    "## Define and Compile Neural Network Model\n",
    "\n",
    "New Elements\n",
    "- Relu Activation: Rectified Linear Unit (search for simple non-linearity)\n",
    "- Adam Optimizer: don't get stuck in sharp local minima $\\to$ adaptive learning rates (100k citations !)"
   ]
  },
  {
   "cell_type": "code",
   "execution_count": 20,
   "metadata": {
    "id": "tSL6sIocq6AF"
   },
   "outputs": [
    {
     "name": "stdout",
     "output_type": "stream",
     "text": [
      "X_train.shape:      (60000, 28, 28)\n",
      "input_shape:        (28, 28)\n",
      "number of classes:  10\n"
     ]
    },
    {
     "name": "stderr",
     "output_type": "stream",
     "text": [
      "2022-06-17 11:41:38.464020: I tensorflow/compiler/jit/xla_cpu_device.cc:41] Not creating XLA devices, tf_xla_enable_xla_devices not set\n",
      "2022-06-17 11:41:38.465137: I tensorflow/core/platform/cpu_feature_guard.cc:142] This TensorFlow binary is optimized with oneAPI Deep Neural Network Library (oneDNN) to use the following CPU instructions in performance-critical operations:  SSE4.1 SSE4.2 AVX AVX2\n",
      "To enable them in other operations, rebuild TensorFlow with the appropriate compiler flags.\n",
      "2022-06-17 11:41:38.465624: I tensorflow/core/common_runtime/process_util.cc:146] Creating new thread pool with default inter op setting: 2. Tune using inter_op_parallelism_threads for best performance.\n"
     ]
    },
    {
     "name": "stdout",
     "output_type": "stream",
     "text": [
      "Model: \"mnist_model_1\"\n",
      "_________________________________________________________________\n",
      "Layer (type)                 Output Shape              Param #   \n",
      "=================================================================\n",
      "flatten (Flatten)            (None, 784)               0         \n",
      "_________________________________________________________________\n",
      "1st_layer (Dense)            (None, 128)               100480    \n",
      "_________________________________________________________________\n",
      "softmax_layer (Dense)        (None, 10)                1290      \n",
      "=================================================================\n",
      "Total params: 101,770\n",
      "Trainable params: 101,770\n",
      "Non-trainable params: 0\n",
      "_________________________________________________________________\n"
     ]
    }
   ],
   "source": [
    "nc = np.unique(y_train).size  # number of classes / labels in training set\n",
    "l_name = 'sparse_categorical_crossentropy'\n",
    "a_name = 'sparse_categorical_accuracy'\n",
    "\n",
    "input_shape = X_train.shape[1:]\n",
    "\n",
    "print('X_train.shape:     ', X_train.shape)\n",
    "print('input_shape:       ', input_shape)\n",
    "print('number of classes: ', nc)\n",
    "\n",
    "mod1 = tf.keras.Sequential( name = 'mnist_model_1')\n",
    "mod1.add( tf.keras.layers.Flatten(input_shape=input_shape) )                # flattens input to vector \n",
    "mod1.add( tf.keras.layers.Dense(128, activation='relu',name='1st_layer') )  # add layer with 128 nodes + relu\n",
    "mod1.add( tf.keras.layers.Dense(nc, activation='softmax', name='softmax_layer') )\n",
    "\n",
    "mod1.compile(optimizer='sgd', loss=l_name, metrics=a_name)\n",
    "\n",
    "mod1.summary()"
   ]
  },
  {
   "cell_type": "markdown",
   "metadata": {
    "id": "vWvZf5r9B52I"
   },
   "source": [
    "# Group Tasks (40 min + 10min):"
   ]
  },
  {
   "cell_type": "markdown",
   "metadata": {
    "id": "lh-MWh0dqW7_"
   },
   "source": [
    "Now we are ready to go. Repeat the usual steps\n",
    "\n",
    "- Fitting: start with low number of epochs (~10)\n",
    "- Tracking of fit performance (Loss, Accuracy)\n",
    "- Model Evaluation: now you have test data $\\ne$ training data\n",
    "- Predictions: infer labels (np.argmax)\n",
    "- Iterations and improvements (some ideas)\n",
    "  - increase the number of epochs\n",
    "  - increase the number of neurons in dense layer\n",
    "  - add additional layer\n",
    "  - introduce a \"validation_split\" during fitting. Note that this adds additional information to your history that  can be used to control for overfitting.\n",
    "- Reality check: scan your own handwritten digit and submit it to your learned model. Does it work?\n",
    "\n",
    "Summary: Report your summary and preferred solution back to the whole class\n",
    "\n",
    "Tip: If you are on colab.research.google, you might want to activatate the \"GPU hardware accelerator\" under \"Change runtime type\""
   ]
  },
  {
   "cell_type": "markdown",
   "metadata": {
    "id": "IdcP7vgP0IbE"
   },
   "source": [
    "## Fit Model"
   ]
  },
  {
   "cell_type": "code",
   "execution_count": 23,
   "metadata": {
    "id": "t0fKInjCrGFp"
   },
   "outputs": [],
   "source": [
    "fh = mod1.fit(X_train, y_train, validation_data=(X_test,y_test), epochs=10, verbose=0) #, validation_split=0.2)"
   ]
  },
  {
   "cell_type": "code",
   "execution_count": 32,
   "metadata": {},
   "outputs": [
    {
     "data": {
      "image/png": "[encoded data removed]",
      "text/plain": [
       "<Figure size 432x288 with 1 Axes>"
      ]
     },
     "metadata": {
      "needs_background": "light"
     },
     "output_type": "display_data"
    },
    {
     "data": {
      "image/png": "[encoded data removed]",
      "text/plain": [
       "<Figure size 432x288 with 1 Axes>"
      ]
     },
     "metadata": {
      "needs_background": "light"
     },
     "output_type": "display_data"
    },
    {
     "name": "stdout",
     "output_type": "stream",
     "text": [
      "INFO:tensorflow:Assets written to: image_base/assets\n"
     ]
    }
   ],
   "source": [
    "plt.plot(fh.history['val_loss'][1:])\n",
    "plt.plot(fh.history['val_sparse_categorical_accuracy'][1:])\n",
    "\n",
    "plt.show()\n",
    "\n",
    "plt.plot(fh.history['loss'][1:])\n",
    "plt.plot(fh.history['sparse_categorical_accuracy'][1:])\n",
    "\n",
    "plt.show()\n",
    "\n",
    "\n",
    "# save: will create a directory of specified name\n",
    "mod1.save('image_base')"
   ]
  },
  {
   "cell_type": "code",
   "execution_count": 26,
   "metadata": {},
   "outputs": [],
   "source": [
    "fh_more_epochs = mod1.fit(X_train, y_train, validation_data=(X_test,y_test), epochs=500, verbose=0)"
   ]
  },
  {
   "cell_type": "code",
   "execution_count": 31,
   "metadata": {},
   "outputs": [
    {
     "data": {
      "image/png": "[encoded data removed]",
      "text/plain": [
       "<Figure size 432x288 with 1 Axes>"
      ]
     },
     "metadata": {
      "needs_background": "light"
     },
     "output_type": "display_data"
    },
    {
     "data": {
      "image/png": "[encoded data removed]",
      "text/plain": [
       "<Figure size 432x288 with 1 Axes>"
      ]
     },
     "metadata": {
      "needs_background": "light"
     },
     "output_type": "display_data"
    },
    {
     "name": "stdout",
     "output_type": "stream",
     "text": [
      "INFO:tensorflow:Assets written to: image_base/assets\n"
     ]
    }
   ],
   "source": [
    "plt.plot(fh_more_epochs.history['val_loss'][1:])\n",
    "plt.plot(fh_more_epochs.history['val_sparse_categorical_accuracy'][1:])\n",
    "\n",
    "plt.show()\n",
    "\n",
    "plt.plot(fh_more_epochs.history['loss'][1:])\n",
    "plt.plot(fh_more_epochs.history['sparse_categorical_accuracy'][1:])\n",
    "\n",
    "plt.show()\n",
    "\n",
    "\n",
    "# save: will create a directory of specified name\n",
    "mod1.save('image_base_more_epochs')"
   ]
  },
  {
   "cell_type": "code",
   "execution_count": 36,
   "metadata": {},
   "outputs": [
    {
     "name": "stdout",
     "output_type": "stream",
     "text": [
      "[0.08246175199747086, 0.9793000221252441]\n"
     ]
    },
    {
     "data": {
      "image/png": "[encoded data removed]",
      "text/plain": [
       "<Figure size 432x288 with 2 Axes>"
      ]
     },
     "metadata": {
      "needs_background": "light"
     },
     "output_type": "display_data"
    }
   ],
   "source": [
    "eval = mod1.evaluate(x=X_test, y=y_test, verbose=0)\n",
    "print(eval)\n",
    "yp = mod1.predict(X_test)\n",
    "yp1 = np.argmax(yp, axis=1)\n",
    "cm = confusion_matrix(yp1, y_test)\n",
    "plot_cm(cm)"
   ]
  },
  {
   "cell_type": "markdown",
   "metadata": {
    "id": "MqOxRqo7PMBm"
   },
   "source": [
    "## Evaluation"
   ]
  },
  {
   "cell_type": "markdown",
   "metadata": {
    "id": "cJy-cO7iOt5O"
   },
   "source": [
    "For exploration and debugging purposes it will be better to decouple\n",
    "evaluation from the (long) fitting process. But they belong together."
   ]
  },
  {
   "cell_type": "code",
   "execution_count": null,
   "metadata": {
    "id": "jyD0jBHGrQ7L"
   },
   "outputs": [],
   "source": [
    "... plot loss and accuracy ...\n",
    "\n",
    "... evaluate on _test_data_ ...\n",
    "\n",
    "... predict on test data ...\n",
    "\n",
    "... convert prediction to labels ... ---> np.argmax()\n",
    "\n",
    "... compare predicted labels with known labels y_test ...\n"
   ]
  },
  {
   "cell_type": "markdown",
   "metadata": {
    "id": "KO5FSSCWP13o"
   },
   "source": [
    "## Load own image"
   ]
  },
  {
   "cell_type": "code",
   "execution_count": 65,
   "metadata": {
    "id": "GVgfnpdUP3gR"
   },
   "outputs": [
    {
     "data": {
      "image/png": "[encoded data removed]",
      "text/plain": [
       "<Figure size 432x288 with 1 Axes>"
      ]
     },
     "metadata": {
      "needs_background": "light"
     },
     "output_type": "display_data"
    },
    {
     "name": "stdout",
     "output_type": "stream",
     "text": [
      "<PIL.Image.Image image mode=RGB size=28x28 at 0x7FCF54793F70>\n"
     ]
    }
   ],
   "source": [
    "#%%script echo Make sure to set proper image path and size (to match the model)\n",
    "from tensorflow.keras.preprocessing import image\n",
    "\n",
    "img_path= './1_or_2.png'        # set path\n",
    "input_size=(28, 28)  # chose proper size\n",
    "img = image.load_img(img_path, target_size=input_size) # load image\n",
    "plt.imshow(img)\n",
    "plt.show()\n",
    "\n",
    "#tf.keras.preprocessing.image.img_to_array(img) # would perhaps also work\n",
    "# or perhaps even only\n",
    "# img = image.load_img(fn, target_size=input_size, color_mode=\"grayscale\")\n",
    "# img = 255-np.array(img)\n",
    "\n",
    "print(img)"
   ]
  },
  {
   "cell_type": "code",
   "execution_count": 66,
   "metadata": {},
   "outputs": [
    {
     "name": "stdout",
     "output_type": "stream",
     "text": [
      "(28, 28)\n"
     ]
    },
    {
     "data": {
      "text/plain": [
       "array([[3.4124537e-07, 1.0550906e-03, 7.1013016e-01, 2.8466722e-01,\n",
       "        4.0309814e-07, 2.6790460e-04, 5.1180074e-09, 1.4615131e-03,\n",
       "        2.4172782e-03, 4.3330317e-08]], dtype=float32)"
      ]
     },
     "execution_count": 66,
     "metadata": {},
     "output_type": "execute_result"
    }
   ],
   "source": [
    "import matplotlib.pyplot as plt\n",
    "import matplotlib.image as mpimg\n",
    "\n",
    "img = mpimg.imread(img_path)\n",
    "\n",
    "print(img.shape)\n",
    "\n",
    "#min_col = np.min(img)\n",
    "#max_col = np.max(img)\n",
    "#img = (img-min_col)/(max_col-min_col)\n",
    "\n",
    "img =1- img\n",
    "#print(img)\n",
    "\n",
    "mod1.predict(img.reshape(1,28,28))"
   ]
  },
  {
   "cell_type": "markdown",
   "metadata": {
    "id": "E1BJFNKOUCTn"
   },
   "source": [
    "pass your image to the neural network and predict the label!"
   ]
  }
 ],
 "metadata": {
  "colab": {
   "authorship_tag": "ABX9TyPt6EgJYXJZdQkIukSNC8pJ",
   "collapsed_sections": [],
   "name": "ANN_004_ImageClassification.ipynb",
   "provenance": []
  },
  "kernelspec": {
   "display_name": "Python 3 (ipykernel)",
   "language": "python",
   "name": "python3"
  },
  "language_info": {
   "codemirror_mode": {
    "name": "ipython",
    "version": 3
   },
   "file_extension": ".py",
   "mimetype": "text/x-python",
   "name": "python",
   "nbconvert_exporter": "python",
   "pygments_lexer": "ipython3",
   "version": "3.9.5"
  }
 },
 "nbformat": 4,
 "nbformat_minor": 4
}
