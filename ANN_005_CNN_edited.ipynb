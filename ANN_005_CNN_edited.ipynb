{
 "cells": [
  {
   "cell_type": "markdown",
   "metadata": {
    "id": "_5H1VxaENAex"
   },
   "source": [
    "## Get Libraries"
   ]
  },
  {
   "cell_type": "code",
   "execution_count": 1,
   "metadata": {
    "id": "Q40zhW1fNDoZ"
   },
   "outputs": [
    {
     "name": "stdout",
     "output_type": "stream",
     "text": [
      "tf-version:  2.4.1\n"
     ]
    }
   ],
   "source": [
    "import numpy as np\n",
    "import tensorflow as tf\n",
    "import matplotlib.pyplot as plt\n",
    "from sklearn.metrics import confusion_matrix\n",
    "print('tf-version: ', tf.__version__)\n",
    "\n",
    "# my plot function for confusion matrix\n",
    "def plot_cm(mat):\n",
    "  classes = np.arange(cm.shape[0])\n",
    "  plt.imshow(mat, cmap=plt.cm.Blues)\n",
    "  for (j,i),label in np.ndenumerate(mat):\n",
    "    plt.text(i,j,np.round(label,2),ha='center',va='center')\n",
    "\n",
    "  plt.colorbar()\n",
    "  plt.title('Confusion Matrix')\n",
    "  plt.xlabel('True label')\n",
    "  plt.ylabel('Pred label')\n",
    "  plt.xticks(classes)\n",
    "  plt.yticks(classes)\n",
    "  plt.show()"
   ]
  },
  {
   "cell_type": "markdown",
   "metadata": {
    "id": "ii-YhU6h-m5O"
   },
   "source": [
    "# Convolution Neural Network"
   ]
  },
  {
   "cell_type": "markdown",
   "metadata": {
    "id": "ZuqQ0SN81vlR"
   },
   "source": [
    "## Challenges from previous work (MNIST)\n",
    "\n",
    "\n",
    "\n",
    "\n"
   ]
  },
  {
   "cell_type": "markdown",
   "metadata": {
    "id": "ahRHyzeDTsv6"
   },
   "source": [
    "<div>\n",
    "   <img src=\"https://github.com/thomasmanke/ABS/raw/main/figures/smileys.png\",  width=\"400\">\n",
    "</div>\n",
    "\n",
    "\n",
    "\n"
   ]
  },
  {
   "cell_type": "markdown",
   "metadata": {
    "id": "QE-MGtt-QMbX"
   },
   "source": [
    "- training (and test) data were highly structured: \n",
    "- fixed size\n",
    "- grey scale\n",
    "- item centered-spatial distribution\n",
    "- only single item \n",
    "\n",
    "**Discussion**: \n",
    "Other possible challenges?\n",
    "- background\n",
    "- biased data sets\n",
    "- transparency\n",
    "- bluriness/borders\n",
    "- data formats \n",
    "- mixed classes\n",
    "- "
   ]
  },
  {
   "cell_type": "markdown",
   "metadata": {
    "id": "kA9XHD3LPkt-"
   },
   "source": [
    "Algorithms should be:\n",
    "\n",
    "- robuts to those changes within one class (e.g. cat)\n",
    "- generic and transferable to all other classes \n",
    "- interpretable"
   ]
  },
  {
   "cell_type": "markdown",
   "metadata": {
    "id": "ov6w6t23K9RY"
   },
   "source": [
    "## A short history"
   ]
  },
  {
   "cell_type": "markdown",
   "metadata": {
    "id": "6XgVoYCGx69o"
   },
   "source": [
    "Algorithms, Compute Power, Data, Data & Data\n",
    "\n",
    "- 1958 Rosenblatt: The perceptron: A probabilistic Model for Information Storage and  Organization in the Brain.\n",
    "- 1998 Le Cun et al.  (MNIST):  60000 images of 10 handwritten digits ($10^7$ pixels) + CPU ($10^6$ transitors)\n",
    "- 2012 Alex Krizhevsky et al (ImageNet): 1.3M images for 1000 classes ($10^{14}$ pixels) + GPU ($10^9$ transistors)\n",
    "- 2021 Yang et al. (MedMNIST): 700k images for 2-11 classes \n",
    "https://github.com/MedMNIST/MedMNIST\n",
    "- 2022 Google Open Images v6: 60M images, 20000 classes: https://storage.googleapis.com/openimages/web/index.html\n",
    "\n"
   ]
  },
  {
   "cell_type": "markdown",
   "metadata": {
    "id": "RVWuw94zLK49"
   },
   "source": [
    "## Another classical dataset: CIFAR-10\n",
    "\n",
    "This is a set of 50k images in 10 categories.\n",
    "They are rather coarse (32 x 32), but unlike MNIST (Handwritten Digits) they are not as standardized.\n",
    "\n"
   ]
  },
  {
   "cell_type": "code",
   "execution_count": 2,
   "metadata": {
    "id": "SfjAKB6rAq2P"
   },
   "outputs": [],
   "source": [
    "# cell takes 1-2 minutes (on my regular home network)\n",
    "cifar10 = tf.keras.datasets.cifar10\n",
    "(X_train, y_train), (X_test, y_test) = cifar10.load_data()\n",
    "\n",
    "# normalization\n",
    "X_train, X_test = X_train / 255.0, X_test / 255.0\n",
    "\n",
    "# just for easier reference to replace integers with names\n",
    "class_names = ['airplane', 'automobile', 'bird', 'cat', 'deer',\n",
    "               'dog', 'frog', 'horse', 'ship', 'truck']"
   ]
  },
  {
   "cell_type": "markdown",
   "metadata": {
    "id": "DULbgSPVNSb6"
   },
   "source": [
    "# Group Task (40 min): Explore, Model, Fit, Evaluate"
   ]
  },
  {
   "cell_type": "markdown",
   "metadata": {
    "id": "t36NjcvJNdtM"
   },
   "source": [
    "## Explore"
   ]
  },
  {
   "cell_type": "markdown",
   "metadata": {
    "id": "ocFIL5V5p5ZG"
   },
   "source": [
    "## A Simple Neural Network"
   ]
  },
  {
   "cell_type": "markdown",
   "metadata": {
    "id": "gl0aZHnkNmoc"
   },
   "source": [
    "... you might copy one from handwritten digits"
   ]
  },
  {
   "cell_type": "code",
   "execution_count": 3,
   "metadata": {
    "id": "eHDHQ3Ewpo0q"
   },
   "outputs": [
    {
     "name": "stdout",
     "output_type": "stream",
     "text": [
      "X_train.shape:      (50000, 32, 32, 3)\n",
      "input_shape:        (32, 32, 3)\n",
      "number of classes:  10\n"
     ]
    },
    {
     "name": "stderr",
     "output_type": "stream",
     "text": [
      "2022-06-20 08:50:01.517492: I tensorflow/compiler/jit/xla_cpu_device.cc:41] Not creating XLA devices, tf_xla_enable_xla_devices not set\n",
      "2022-06-20 08:50:01.523193: I tensorflow/core/platform/cpu_feature_guard.cc:142] This TensorFlow binary is optimized with oneAPI Deep Neural Network Library (oneDNN) to use the following CPU instructions in performance-critical operations:  SSE4.1 SSE4.2 AVX AVX2\n",
      "To enable them in other operations, rebuild TensorFlow with the appropriate compiler flags.\n",
      "2022-06-20 08:50:01.553852: I tensorflow/core/common_runtime/process_util.cc:146] Creating new thread pool with default inter op setting: 2. Tune using inter_op_parallelism_threads for best performance.\n"
     ]
    },
    {
     "name": "stdout",
     "output_type": "stream",
     "text": [
      "Model: \"cifar_model\"\n",
      "_________________________________________________________________\n",
      "Layer (type)                 Output Shape              Param #   \n",
      "=================================================================\n",
      "flatten (Flatten)            (None, 3072)              0         \n",
      "_________________________________________________________________\n",
      "1st_layer (Dense)            (None, 128)               393344    \n",
      "_________________________________________________________________\n",
      "softmax_layer (Dense)        (None, 10)                1290      \n",
      "=================================================================\n",
      "Total params: 394,634\n",
      "Trainable params: 394,634\n",
      "Non-trainable params: 0\n",
      "_________________________________________________________________\n"
     ]
    }
   ],
   "source": [
    "nc = np.unique(class_names).size  # number of classes / labels in training set\n",
    "l_name = 'sparse_categorical_crossentropy'\n",
    "a_name = 'sparse_categorical_accuracy'\n",
    "\n",
    "input_shape = X_train.shape[1:]\n",
    "\n",
    "print('X_train.shape:     ', X_train.shape)\n",
    "print('input_shape:       ', input_shape)\n",
    "print('number of classes: ', nc)\n",
    "\n",
    "mod_cif = tf.keras.Sequential( name = 'cifar_model')\n",
    "mod_cif.add( tf.keras.layers.Flatten(input_shape=input_shape) )                # flattens input to vector \n",
    "mod_cif.add( tf.keras.layers.Dense(128, activation='relu',name='1st_layer') )  # add layer with 128 nodes + relu\n",
    "mod_cif.add( tf.keras.layers.Dense(nc, activation='softmax', name='softmax_layer') )\n",
    "\n",
    "mod_cif.compile(optimizer='sgd', loss=l_name, metrics=a_name)\n",
    "\n",
    "mod_cif.summary()\n"
   ]
  },
  {
   "cell_type": "code",
   "execution_count": 4,
   "metadata": {},
   "outputs": [
    {
     "name": "stderr",
     "output_type": "stream",
     "text": [
      "2022-06-20 08:50:12.321392: I tensorflow/compiler/mlir/mlir_graph_optimization_pass.cc:116] None of the MLIR optimization passes are enabled (registered 2)\n",
      "2022-06-20 08:50:12.367785: I tensorflow/core/platform/profile_utils/cpu_utils.cc:112] CPU Frequency: 2711995000 Hz\n"
     ]
    },
    {
     "data": {
      "image/png": "[encoded data removed]",
      "text/plain": [
       "<Figure size 432x288 with 1 Axes>"
      ]
     },
     "metadata": {
      "needs_background": "light"
     },
     "output_type": "display_data"
    },
    {
     "data": {
      "image/png": "[encoded data removed]",
      "text/plain": [
       "<Figure size 432x288 with 1 Axes>"
      ]
     },
     "metadata": {
      "needs_background": "light"
     },
     "output_type": "display_data"
    },
    {
     "name": "stderr",
     "output_type": "stream",
     "text": [
      "2022-06-20 08:51:48.477901: W tensorflow/python/util/util.cc:348] Sets are not currently considered sequences, but this may change in the future, so consider avoiding using them.\n"
     ]
    },
    {
     "name": "stdout",
     "output_type": "stream",
     "text": [
      "INFO:tensorflow:Assets written to: cif/assets\n"
     ]
    }
   ],
   "source": [
    "fh = mod_cif.fit(X_train, y_train, validation_split=0.1, epochs=10, verbose=0) # DO NOT USE TEST DATA\n",
    "#can use batch_size=32 or sth like this to save on memory\n",
    "\n",
    "plt.plot(fh.history['val_loss'][1:])\n",
    "plt.plot(fh.history['val_sparse_categorical_accuracy'][1:])\n",
    "\n",
    "plt.show()\n",
    "\n",
    "plt.plot(fh.history['loss'][1:])\n",
    "plt.plot(fh.history['sparse_categorical_accuracy'][1:])\n",
    "\n",
    "plt.show()\n",
    "\n",
    "\n",
    "# save: will create a directory of specified name\n",
    "mod_cif.save('cif')"
   ]
  },
  {
   "cell_type": "markdown",
   "metadata": {
    "id": "o5pP7LqKM_Ta"
   },
   "source": [
    "## Fit & Evaluate"
   ]
  },
  {
   "cell_type": "code",
   "execution_count": 7,
   "metadata": {
    "id": "6gvIneh9qZvC"
   },
   "outputs": [
    {
     "name": "stdout",
     "output_type": "stream",
     "text": [
      "[1.5108895301818848, 0.46700000762939453]\n"
     ]
    },
    {
     "data": {
      "image/png": "[encoded data removed]",
      "text/plain": [
       "<Figure size 432x288 with 2 Axes>"
      ]
     },
     "metadata": {
      "needs_background": "light"
     },
     "output_type": "display_data"
    }
   ],
   "source": [
    "eval = mod_cif.evaluate(x=X_test, y=y_test, verbose=0)\n",
    "print(eval)\n",
    "yp = mod_cif.predict(X_test)\n",
    "yp1 = np.argmax(yp, axis=1)\n",
    "cm = confusion_matrix(yp1, y_test)\n",
    "plot_cm(cm)"
   ]
  },
  {
   "cell_type": "code",
   "execution_count": 57,
   "metadata": {},
   "outputs": [
    {
     "name": "stdout",
     "output_type": "stream",
     "text": [
      "7 horse\n",
      "[[0.05909942 0.01242577 0.09309766 0.26703933 0.04899205 0.0482283\n",
      "  0.04947654 0.1922284  0.00252427 0.22688828]]\n",
      "['airplane', 'automobile', 'bird', 'cat', 'deer', 'dog', 'frog', 'horse', 'ship', 'truck']\n"
     ]
    },
    {
     "data": {
      "image/png": "[encoded data removed]",
      "text/plain": [
       "<Figure size 432x288 with 1 Axes>"
      ]
     },
     "metadata": {
      "needs_background": "light"
     },
     "output_type": "display_data"
    }
   ],
   "source": [
    "class_names\n",
    "i=99\n",
    "plt.imshow(X_test[i,:], cmap='Greys')\n",
    "print(y_test[i,0], class_names[y_test[i,0] ])\n",
    "print(mod_cif.predict(X_test[i:i+1,:,:,:]))\n",
    "print(class_names)"
   ]
  },
  {
   "cell_type": "markdown",
   "metadata": {
    "id": "8eDUvg-0OIzK"
   },
   "source": [
    "## Report back and Discussion (15 min)"
   ]
  },
  {
   "cell_type": "markdown",
   "metadata": {
    "id": "pdNz64M2LZpD"
   },
   "source": [
    "# CNN: A picture and some jargon"
   ]
  },
  {
   "cell_type": "markdown",
   "metadata": {
    "id": "P27CBX0kuFqC"
   },
   "source": [
    "![CNN_convlayer](https://upload.wikimedia.org/wikipedia/commons/6/68/Conv_layer.png)\n",
    "(from wikipedia.org)"
   ]
  },
  {
   "cell_type": "markdown",
   "metadata": {
    "id": "AQ-tk-AUu81J"
   },
   "source": [
    "### Filters"
   ]
  },
  {
   "cell_type": "markdown",
   "metadata": {
    "id": "PJm89Rh3vAIy"
   },
   "source": [
    "![filter](https://wiki.tum.de/download/attachments/23572254/cnn6.png)\n",
    "(from wiki.tum.de)"
   ]
  },
  {
   "cell_type": "markdown",
   "metadata": {
    "id": "Wma7ne7z5IDr"
   },
   "source": [
    "- input layer: image shape [w,h,3]\n",
    "- convolutional layer (Conv): filters\n",
    "\n",
    "  - detect pattern (e.g. horizontal, vertical, diagonal lines)\n",
    "  - have the same depth as input\n",
    "  - several filter per layer: different filters applied to same spatial location in image\n",
    "\n",
    "- pooling filter (Pool): spatially downsampling, depth stay the same (e.g. max or average)\n",
    "\n",
    "Lower layers: Primitive concepts\n",
    "\n",
    "Higher layers: Higher order concepts (reasoning on top of edge maps)\n"
   ]
  },
  {
   "cell_type": "markdown",
   "metadata": {
    "id": "gJ1knw8lLrre"
   },
   "source": [
    "## CNN: tensorflow implementation"
   ]
  },
  {
   "cell_type": "code",
   "execution_count": null,
   "metadata": {
    "id": "BJ-yuN7WDtIL"
   },
   "outputs": [],
   "source": [
    "nc = np.unique(y_train).size  # number of classes / labels in training set\n",
    "l_name = 'sparse_categorical_crossentropy'\n",
    "a_name = 'sparse_categorical_accuracy'\n",
    "\n",
    "input_shape = X_train.shape[1:]\n",
    "\n",
    "print('X_train.shape:     ', X_train.shape)\n",
    "print('input_shape:       ', input_shape)\n",
    "print('number of classes: ', nc)\n",
    "\n",
    "model = tf.keras.models.Sequential(name='CNN')\n",
    "\n",
    "# Convolutional layers\n",
    "model.add(tf.keras.layers.InputLayer(input_shape))\n",
    "model.add(tf.keras.layers.Conv2D(32, (3, 3), activation='relu', name='first_conv'))\n",
    "model.add(tf.keras.layers.MaxPooling2D((2, 2)))\n",
    "\n",
    "#model.add(tf.keras.layers.Conv2D(64, (3, 3), activation='relu'))\n",
    "#model.add(tf.keras.layers.MaxPooling2D((2, 2)))\n",
    "#model.add(tf.keras.layers.Conv2D(64, (3, 3), activation='relu'))\n",
    "\n",
    "# as before\n",
    "model.add(tf.keras.layers.Flatten())\n",
    "model.add(tf.keras.layers.Dense(64, activation='relu', name='last'))\n",
    "model.add(tf.keras.layers.Dense(nc, activation='softmax', name='output'))\n",
    "\n",
    "model.compile(optimizer='adam', loss=l_name, metrics=a_name)\n",
    "model.summary()"
   ]
  },
  {
   "cell_type": "markdown",
   "metadata": {
    "id": "TMKzfHI_LzH8"
   },
   "source": [
    "## CNN: fitting and GPUs"
   ]
  },
  {
   "cell_type": "markdown",
   "metadata": {
    "id": "N7uBGacBNVs2"
   },
   "source": [
    "The following cell will fit the model. This will take some time - especially without dedicated hardware (e.g. GPU) or further optimization (improved algorithm).\n"
   ]
  },
  {
   "cell_type": "code",
   "execution_count": null,
   "metadata": {
    "id": "Q0ESfsnFFwvR"
   },
   "outputs": [],
   "source": [
    "fh = model.fit(X_train, y_train, epochs=10, validation_split=0.2)\n",
    "\n",
    "plt.plot(fh.history['loss'])\n",
    "plt.plot(fh.history['val_loss'])\n",
    "plt.show()"
   ]
  },
  {
   "cell_type": "markdown",
   "metadata": {
    "id": "xLGQRxHiN7Sl"
   },
   "source": [
    "## Saving the model"
   ]
  },
  {
   "cell_type": "code",
   "execution_count": null,
   "metadata": {
    "id": "zi5EhbG0OZmF"
   },
   "outputs": [],
   "source": [
    "# Save the model. Choose suitable path and name. \n",
    "model.save('my_cifar10_model')\n",
    "\n",
    "# Load the model (use latter)\n",
    "model = tf.keras.models.load_model(\"my_cifar10_model\")"
   ]
  },
  {
   "cell_type": "markdown",
   "metadata": {
    "id": "KWRzo3588PdX"
   },
   "source": [
    "## Evaluations"
   ]
  },
  {
   "cell_type": "code",
   "execution_count": null,
   "metadata": {
    "id": "1FobsXYC8RoV"
   },
   "outputs": [],
   "source": [
    "eval = model.evaluate(X_test,  y_test)\n",
    "print('evaluation ',eval)\n",
    "test_acc = eval[1]\n",
    "\n",
    "## Plotting history and test accuracy\n",
    "plt.plot(fh.history['accuracy'], label='train accuracy')\n",
    "plt.plot(fh.history['val_accuracy'], label = 'valid accuracy')\n",
    "plt.axhline(y=test_acc, color='green', linestyle='-.',label = 'test accuracy')\n",
    "plt.xlabel('Epoch')\n",
    "plt.ylabel('Accuracy')\n",
    "plt.ylim([0.5, 1])\n",
    "plt.legend(loc='upper left')\n",
    "plt.show()\n",
    "\n",
    "pred = model.predict(X_test)\n",
    "\n",
    "y_pred = np.argmax(pred, axis=1)\n",
    "cm=confusion_matrix(y_pred, y_test)\n",
    "plot_cm(cm)"
   ]
  },
  {
   "cell_type": "markdown",
   "metadata": {
    "id": "SCEgZOsbvuFO"
   },
   "source": [
    "**Message:** A clear improvement over the previous network. Possibly some signs of overfitting.\n",
    "\n",
    "**Discussion:** What could be further improvements?"
   ]
  },
  {
   "cell_type": "markdown",
   "metadata": {
    "id": "fvYINrz2L_mx"
   },
   "source": [
    "## Predictions"
   ]
  },
  {
   "cell_type": "markdown",
   "metadata": {
    "id": "QyRM8l5g3fsO"
   },
   "source": [
    "**Task:** Explore some predictions on the test data"
   ]
  },
  {
   "cell_type": "code",
   "execution_count": null,
   "metadata": {
    "id": "ZjzkyW2dxmT-"
   },
   "outputs": [],
   "source": [
    "idx=4\n",
    "X = X_test[idx]\n",
    "X = np.expand_dims(X, axis=0)\n",
    "\n",
    "pred = model.predict(X)\n",
    "i_max=np.argmax(pred)\n",
    "\n",
    "plt.figure(figsize=(12,6))\n",
    "ax = plt.subplot(2,2,1)\n",
    "plt.imshow(X_test[idx]) \n",
    "\n",
    "ax = plt.subplot(2,2,2)\n",
    "plt.bar(range(10), pred[0])\n",
    "plt.title(class_names[i_max])\n",
    "plt.show()"
   ]
  }
 ],
 "metadata": {
  "accelerator": "GPU",
  "colab": {
   "collapsed_sections": [
    "_5H1VxaENAex",
    "t36NjcvJNdtM",
    "o5pP7LqKM_Ta",
    "8eDUvg-0OIzK"
   ],
   "name": "ANN_005_CNN.ipynb",
   "provenance": []
  },
  "gpuClass": "standard",
  "kernelspec": {
   "display_name": "Python 3 (ipykernel)",
   "language": "python",
   "name": "python3"
  },
  "language_info": {
   "codemirror_mode": {
    "name": "ipython",
    "version": 3
   },
   "file_extension": ".py",
   "mimetype": "text/x-python",
   "name": "python",
   "nbconvert_exporter": "python",
   "pygments_lexer": "ipython3",
   "version": "3.9.5"
  }
 },
 "nbformat": 4,
 "nbformat_minor": 4
}
