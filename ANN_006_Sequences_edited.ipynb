{
 "cells": [
  {
   "cell_type": "markdown",
   "metadata": {
    "id": "R46-rwd4hNMn"
   },
   "source": [
    "# Sequence Analysis with Neural Networks"
   ]
  },
  {
   "cell_type": "markdown",
   "metadata": {
    "id": "eiiwjw4yhX0P"
   },
   "source": [
    "This lecture is based on a Nature Genetics tutorial:\n",
    "\n",
    "- **A Primer on Deep Learning in Genomics**, Zou et al. Nature Genetics 2018 [link](https://www.nature.com/articles/s41588-018-0295-5).\n",
    "- notebook: https://colab.research.google.com/github/abidlabs/deep-learning-genomics-primer/blob/master/A_Primer_on_Deep_Learning_in_Genomics_Public.ipynb"
   ]
  },
  {
   "cell_type": "markdown",
   "metadata": {
    "id": "QABdxctitugX"
   },
   "source": [
    "# Background: Models for Transcription Factor Binding"
   ]
  },
  {
   "cell_type": "markdown",
   "metadata": {
    "id": "c74ZVcVCy8UZ"
   },
   "source": [
    "\n",
    "<div>\n",
    "   <img src=\"https://github.com/thomasmanke/ABS/raw/main/figures/ANN_TF_Bucher2020.png\",  width=\"500\">\n",
    "</div>\n",
    "(from Bucher 2020)"
   ]
  },
  {
   "cell_type": "markdown",
   "metadata": {
    "id": "ns_SzuTZ9cH3"
   },
   "source": [
    "\n",
    "- short stretches (5-10 bp) of prefered DNA sequences\n",
    "- binding energy models (physics)\n",
    "- scoring models (statistics)\n",
    "- **observations**\n",
    "  - 1980 - 2000: small number (10-20) of known binding sites (heavily studied, databases)\n",
    "  - since 2008: large scale experiments (ChIP-seq): thousands of binding sites\n",
    "\n",
    "Below we will address this problem from a neural network perspective.\n",
    "The main goal will be to derive a classifier to discriminate\n",
    "*bound* sequences from *non-bound* sequences.\n",
    "\n",
    "**Notice:** binding $\\ne$ funcional binding\n",
    "\n",
    "**Discussion:**\n",
    "How should we define the input data (x) and output data (y)?"
   ]
  },
  {
   "cell_type": "markdown",
   "metadata": {
    "id": "bSxjSBNjYdu2"
   },
   "source": [
    "# Load Libraries"
   ]
  },
  {
   "cell_type": "code",
   "execution_count": 1,
   "metadata": {
    "id": "Gi4yMy5K8odD"
   },
   "outputs": [
    {
     "name": "stdout",
     "output_type": "stream",
     "text": [
      "Collecting Bio\n",
      "  Downloading bio-1.3.9-py3-none-any.whl (270 kB)\n",
      "\u001b[K     |████████████████████████████████| 270 kB 2.4 MB/s eta 0:00:01\n",
      "\u001b[?25hCollecting biopython>=1.79\n",
      "  Downloading biopython-1.79-cp39-cp39-manylinux_2_5_x86_64.manylinux1_x86_64.whl (2.3 MB)\n",
      "\u001b[K     |████████████████████████████████| 2.3 MB 9.6 MB/s eta 0:00:01\n",
      "\u001b[?25hRequirement already satisfied: requests in /home/cq/miniconda3/lib/python3.9/site-packages (from Bio) (2.25.1)\n",
      "Requirement already satisfied: tqdm in /home/cq/miniconda3/lib/python3.9/site-packages (from Bio) (4.61.2)\n",
      "Collecting mygene\n",
      "  Downloading mygene-3.2.2-py2.py3-none-any.whl (5.4 kB)\n",
      "Requirement already satisfied: numpy in /home/cq/miniconda3/lib/python3.9/site-packages (from biopython>=1.79->Bio) (1.21.2)\n",
      "Collecting biothings-client>=0.2.6\n",
      "  Downloading biothings_client-0.2.6-py2.py3-none-any.whl (37 kB)\n",
      "Requirement already satisfied: urllib3<1.27,>=1.21.1 in /home/cq/miniconda3/lib/python3.9/site-packages (from requests->Bio) (1.26.6)\n",
      "Requirement already satisfied: idna<3,>=2.5 in /home/cq/miniconda3/lib/python3.9/site-packages (from requests->Bio) (2.10)\n",
      "Requirement already satisfied: certifi>=2017.4.17 in /home/cq/miniconda3/lib/python3.9/site-packages (from requests->Bio) (2021.10.8)\n",
      "Requirement already satisfied: chardet<5,>=3.0.2 in /home/cq/miniconda3/lib/python3.9/site-packages (from requests->Bio) (4.0.0)\n",
      "Installing collected packages: biothings-client, mygene, biopython, Bio\n",
      "  Attempting uninstall: biopython\n",
      "    Found existing installation: biopython 1.78\n",
      "    Uninstalling biopython-1.78:\n",
      "      Successfully uninstalled biopython-1.78\n",
      "Successfully installed Bio-1.3.9 biopython-1.79 biothings-client-0.2.6 mygene-3.2.2\n"
     ]
    }
   ],
   "source": [
    "#!pip install Bio"
   ]
  },
  {
   "cell_type": "code",
   "execution_count": 2,
   "metadata": {
    "id": "ND1lnm-PQeF_"
   },
   "outputs": [
    {
     "name": "stdout",
     "output_type": "stream",
     "text": [
      "tensorflow:  2.4.1\n"
     ]
    }
   ],
   "source": [
    "import numpy as np\n",
    "import pandas as pd\n",
    "import matplotlib.pyplot as plt\n",
    "import tensorflow as tf\n",
    "from sklearn.metrics import confusion_matrix\n",
    "\n",
    "\n",
    "import requests\n",
    "import random\n",
    "from Bio import SeqIO\n",
    "from io import StringIO\n",
    "\n",
    "# my plot function for confusion matrix\n",
    "def plot_cm(mat):\n",
    "  classes = np.arange(cm.shape[0])\n",
    "  plt.imshow(mat, cmap=plt.cm.Blues)\n",
    "  for (j,i),label in np.ndenumerate(mat):\n",
    "    plt.text(i,j,np.round(label,2),ha='center',va='center')\n",
    "\n",
    "  plt.colorbar()\n",
    "  plt.title('Confusion Matrix')\n",
    "  plt.xlabel('True label')\n",
    "  plt.ylabel('Pred label')\n",
    "  plt.xticks(classes)\n",
    "  plt.yticks(classes)\n",
    "  plt.show()\n",
    "\n",
    "print('tensorflow: ', tf.__version__)"
   ]
  },
  {
   "cell_type": "markdown",
   "metadata": {
    "id": "6kXJTimOMl6i"
   },
   "source": [
    "# Read Data (sequences)"
   ]
  },
  {
   "cell_type": "markdown",
   "metadata": {
    "id": "g3hxkX5nMtGh"
   },
   "source": [
    "Here we read a fasta file with **positive** sequences = target sequences of the transcription factor of interest."
   ]
  },
  {
   "cell_type": "code",
   "execution_count": 3,
   "metadata": {
    "colab": {
     "base_uri": "https://localhost:8080/"
    },
    "executionInfo": {
     "elapsed": 1116,
     "status": "ok",
     "timestamp": 1655661278474,
     "user": {
      "displayName": "Thomas Manke",
      "userId": "17591636328965298454"
     },
     "user_tz": -120
    },
    "id": "RO2Jgle4syGI",
    "outputId": "698fe9f3-af42-4a73-d4ea-a562151f1593"
   },
   "outputs": [
    {
     "name": "stdout",
     "output_type": "stream",
     "text": [
      "Read 4380 target sequences\n"
     ]
    }
   ],
   "source": [
    "#url='https://jaspar.genereg.net/download/data/2022/sites/MA0036.2.sites' # the original\n",
    "url='https://github.com/thomasmanke/ABS/raw/main/data/MA0036.2.sites'     # a copy\n",
    "data = requests.get(url).text\n",
    "\n",
    "seq_pos = []\n",
    "for s in SeqIO.parse(StringIO(data), \"fasta\"):\n",
    "  seq_pos.append(str(s.seq))\n",
    "\n",
    "print('Read {} target sequences'.format(len(seq_pos)))"
   ]
  },
  {
   "cell_type": "markdown",
   "metadata": {
    "id": "_s3MuTz2uPjb"
   },
   "source": [
    "# Clean Data"
   ]
  },
  {
   "cell_type": "markdown",
   "metadata": {
    "id": "ggc7MHP-xr0L"
   },
   "source": [
    "There is always some cleaning to be done (could have been done above)"
   ]
  },
  {
   "cell_type": "code",
   "execution_count": 4,
   "metadata": {
    "id": "c4Z8b56xrEkZ"
   },
   "outputs": [
    {
     "data": {
      "image/png": "[encoded data removed]",
      "text/plain": [
       "<Figure size 432x288 with 1 Axes>"
      ]
     },
     "metadata": {
      "needs_background": "light"
     },
     "output_type": "display_data"
    }
   ],
   "source": [
    "# capitalize all letters\n",
    "seq_pos = [ s.upper() for s in seq_pos ]  \n",
    "\n",
    "# in this example all sequences have the same length\n",
    "# in general we would probably have to trim and or pad the sequences here\n",
    "L = [len(item) for item in seq_pos]\n",
    "plt.hist(L)\n",
    "plt.show()"
   ]
  },
  {
   "cell_type": "markdown",
   "metadata": {
    "id": "Oyj28I4nx7Uw"
   },
   "source": [
    "## Negative Dataset"
   ]
  },
  {
   "cell_type": "markdown",
   "metadata": {
    "id": "9c-dTEXOyAT3"
   },
   "source": [
    "Ideally we would like to have a set of non-target sequences.\n",
    "In the absence of such a set, we define our own negative dataset by shuffeling. "
   ]
  },
  {
   "cell_type": "code",
   "execution_count": 8,
   "metadata": {
    "id": "T9jSfuSfyJBr"
   },
   "outputs": [],
   "source": [
    "# define negative sequences (non targets)\n",
    "seq_neg = [ ''.join(random.sample(s, len(s)) ) for s in seq_pos ]\n",
    "\n",
    "# merge positive and negative sequences\n",
    "seq = seq_pos + seq_neg\n",
    "\n",
    "# define the corresponding labels (1=target, 0=non-target)\n",
    "lab = [1]*len(seq_pos) + [0]*len(seq_neg)"
   ]
  },
  {
   "cell_type": "markdown",
   "metadata": {
    "id": "ygUMIX5JV59E"
   },
   "source": [
    "## Encoding"
   ]
  },
  {
   "cell_type": "code",
   "execution_count": 9,
   "metadata": {
    "id": "iyxQi77Js8sW"
   },
   "outputs": [
    {
     "name": "stderr",
     "output_type": "stream",
     "text": [
      "2022-06-20 13:54:58.805457: I tensorflow/compiler/jit/xla_cpu_device.cc:41] Not creating XLA devices, tf_xla_enable_xla_devices not set\n",
      "2022-06-20 13:54:58.806115: I tensorflow/core/platform/cpu_feature_guard.cc:142] This TensorFlow binary is optimized with oneAPI Deep Neural Network Library (oneDNN) to use the following CPU instructions in performance-critical operations:  SSE4.1 SSE4.2 AVX AVX2\n",
      "To enable them in other operations, rebuild TensorFlow with the appropriate compiler flags.\n",
      "2022-06-20 13:54:58.806647: I tensorflow/core/common_runtime/process_util.cc:146] Creating new thread pool with default inter op setting: 2. Tune using inter_op_parallelism_threads for best performance.\n"
     ]
    },
    {
     "name": "stdout",
     "output_type": "stream",
     "text": [
      "(8760, 1) (8760, 2)\n",
      "<class 'numpy.ndarray'> <class 'tensorflow.python.framework.ops.EagerTensor'>\n"
     ]
    }
   ],
   "source": [
    "nuc2int = {\n",
    "    \"A\": 0,\n",
    "    \"C\": 1,\n",
    "    \"T\": 2,\n",
    "    \"G\": 3,\n",
    "    \"N\": 4,\n",
    "}\n",
    "\n",
    "int2nuc = dict((v, k) for k, v in nuc2int.items())\n",
    "\n",
    "# integer encoding: A->0, C->1, ...\n",
    "seq_i = [[nuc2int[letter] for letter in s] for s in seq]\n",
    "\n",
    "# one-hot encoding: 0 -> [ 1 0 0 0 0], 1-> [0 1 0 0 0], ... \n",
    "seq_h = tf.one_hot(seq_i,depth=5, dtype=tf.float32)\n",
    "\n",
    "lab_i = np.array(lab).reshape(-1,1)                 # integer encoding: list --> numpy\n",
    "lab_h = tf.one_hot(lab,depth=2, dtype=tf.float32)   # one-hot encoded: list -> tf.EagerTensor \n",
    "print(lab_i.shape, lab_h.shape)\n",
    "print(type(lab_i), type(lab_h))"
   ]
  },
  {
   "cell_type": "markdown",
   "metadata": {
    "id": "Ea6ur9XgOcxf"
   },
   "source": [
    "## Split Data: Train & Test"
   ]
  },
  {
   "cell_type": "code",
   "execution_count": 10,
   "metadata": {
    "id": "yPWSiZ-0Oe3Y"
   },
   "outputs": [
    {
     "name": "stdout",
     "output_type": "stream",
     "text": [
      "X_train:     (7008, 114, 5)\n",
      "y_train:     (7008, 2)\n",
      "train-test:  7008 1752\n"
     ]
    }
   ],
   "source": [
    "from sklearn.model_selection import train_test_split\n",
    "\n",
    "seq_h=np.array(seq_h)  # tf --> numpy\n",
    "lab_h=np.array(lab_h)  # tf  --> numpy\n",
    "\n",
    "X_train, X_test, y_train, y_test = train_test_split(\n",
    "  seq_h, lab_h, test_size=0.20, random_state=42)\n",
    "\n",
    "print('X_train:    ', X_train.shape)\n",
    "print('y_train:    ', y_train.shape)\n",
    "print('train-test: ', len(y_train), len(y_test))"
   ]
  },
  {
   "cell_type": "markdown",
   "metadata": {
    "id": "nlG8ovdYN_aC"
   },
   "source": [
    "## Define Model"
   ]
  },
  {
   "cell_type": "code",
   "execution_count": 11,
   "metadata": {
    "id": "4RXPkpSerpcJ"
   },
   "outputs": [
    {
     "name": "stdout",
     "output_type": "stream",
     "text": [
      "Model: \"Nanog_CNN_1\"\n",
      "_________________________________________________________________\n",
      "Layer (type)                 Output Shape              Param #   \n",
      "=================================================================\n",
      "conv1d (Conv1D)              (None, 103, 32)           1952      \n",
      "_________________________________________________________________\n",
      "max_pooling1d (MaxPooling1D) (None, 25, 32)            0         \n",
      "_________________________________________________________________\n",
      "flatten (Flatten)            (None, 800)               0         \n",
      "_________________________________________________________________\n",
      "dense (Dense)                (None, 16)                12816     \n",
      "_________________________________________________________________\n",
      "dense_1 (Dense)              (None, 2)                 34        \n",
      "=================================================================\n",
      "Total params: 14,802\n",
      "Trainable params: 14,802\n",
      "Non-trainable params: 0\n",
      "_________________________________________________________________\n"
     ]
    }
   ],
   "source": [
    "from tensorflow.keras.layers import Conv1D, Dense, MaxPooling1D, Flatten\n",
    "from tensorflow.keras.models import Sequential\n",
    "\n",
    "# Define input shape and output dimensions - for each sample\n",
    "x_s = X_train.shape[1:] # feature (x) shape (skip first sample axis [0])\n",
    "nc = y_train.shape[1]   # number of classes (=1 without one-hot encoding)\n",
    "\n",
    "l_name='binary_crossentropy' \n",
    "a_name='binary_accuracy'\n",
    "\n",
    "model = Sequential(name='Nanog_CNN_1')\n",
    "model.add(Conv1D(filters=32, kernel_size=12, input_shape=x_s))\n",
    "model.add(MaxPooling1D(pool_size=4))\n",
    "model.add(Flatten())\n",
    "model.add(Dense(16, activation='relu'))\n",
    "model.add(Dense(nc, activation='softmax')) \n",
    "\n",
    "model.compile(optimizer='adam', loss=l_name, metrics=a_name)\n",
    "\n",
    "model.summary()"
   ]
  },
  {
   "cell_type": "markdown",
   "metadata": {
    "id": "f0-cDYYhbQFP"
   },
   "source": [
    "## Fit Model"
   ]
  },
  {
   "cell_type": "code",
   "execution_count": 12,
   "metadata": {
    "id": "1w3xOuMBbRi3"
   },
   "outputs": [
    {
     "name": "stderr",
     "output_type": "stream",
     "text": [
      "2022-06-20 14:13:41.565969: I tensorflow/compiler/mlir/mlir_graph_optimization_pass.cc:116] None of the MLIR optimization passes are enabled (registered 2)\n",
      "2022-06-20 14:13:41.567693: I tensorflow/core/platform/profile_utils/cpu_utils.cc:112] CPU Frequency: 2711995000 Hz\n"
     ]
    },
    {
     "name": "stdout",
     "output_type": "stream",
     "text": [
      "Epoch 1/20\n",
      "198/198 [==============================] - 14s 52ms/step - loss: 0.5625 - binary_accuracy: 0.7044 - val_loss: 0.0526 - val_binary_accuracy: 0.9957\n",
      "Epoch 2/20\n",
      "198/198 [==============================] - 9s 46ms/step - loss: 0.0297 - binary_accuracy: 0.9980 - val_loss: 0.0133 - val_binary_accuracy: 0.9971\n",
      "Epoch 3/20\n",
      "198/198 [==============================] - 10s 52ms/step - loss: 0.0085 - binary_accuracy: 0.9993 - val_loss: 0.0074 - val_binary_accuracy: 0.9971\n",
      "Epoch 4/20\n",
      "198/198 [==============================] - 9s 47ms/step - loss: 0.0046 - binary_accuracy: 0.9996 - val_loss: 0.0055 - val_binary_accuracy: 0.9971\n",
      "Epoch 5/20\n",
      "198/198 [==============================] - 10s 49ms/step - loss: 0.0019 - binary_accuracy: 1.0000 - val_loss: 0.0074 - val_binary_accuracy: 0.9971\n",
      "Epoch 6/20\n",
      "198/198 [==============================] - 11s 53ms/step - loss: 0.0020 - binary_accuracy: 0.9996 - val_loss: 0.0039 - val_binary_accuracy: 0.9971\n",
      "Epoch 7/20\n",
      "198/198 [==============================] - 9s 45ms/step - loss: 8.9913e-04 - binary_accuracy: 1.0000 - val_loss: 0.0023 - val_binary_accuracy: 1.0000\n",
      "Epoch 8/20\n",
      "198/198 [==============================] - 10s 50ms/step - loss: 6.6865e-04 - binary_accuracy: 1.0000 - val_loss: 0.0024 - val_binary_accuracy: 0.9986\n",
      "Epoch 9/20\n",
      "198/198 [==============================] - 8s 41ms/step - loss: 4.8285e-04 - binary_accuracy: 1.0000 - val_loss: 0.0030 - val_binary_accuracy: 0.9971\n",
      "Epoch 10/20\n",
      "198/198 [==============================] - 8s 41ms/step - loss: 3.4282e-04 - binary_accuracy: 1.0000 - val_loss: 0.0024 - val_binary_accuracy: 0.9986\n",
      "Epoch 11/20\n",
      "198/198 [==============================] - 8s 43ms/step - loss: 2.7696e-04 - binary_accuracy: 1.0000 - val_loss: 0.0021 - val_binary_accuracy: 0.9986\n",
      "Epoch 12/20\n",
      "198/198 [==============================] - 9s 45ms/step - loss: 2.4893e-04 - binary_accuracy: 1.0000 - val_loss: 0.0023 - val_binary_accuracy: 0.9986\n",
      "Epoch 13/20\n",
      "198/198 [==============================] - 9s 48ms/step - loss: 1.8792e-04 - binary_accuracy: 1.0000 - val_loss: 0.0015 - val_binary_accuracy: 1.0000\n",
      "Epoch 14/20\n",
      "198/198 [==============================] - 11s 55ms/step - loss: 1.7100e-04 - binary_accuracy: 1.0000 - val_loss: 0.0027 - val_binary_accuracy: 0.9971\n",
      "Epoch 15/20\n",
      "198/198 [==============================] - 11s 56ms/step - loss: 1.3343e-04 - binary_accuracy: 1.0000 - val_loss: 0.0017 - val_binary_accuracy: 1.0000\n",
      "Epoch 16/20\n",
      "198/198 [==============================] - 11s 53ms/step - loss: 1.0080e-04 - binary_accuracy: 1.0000 - val_loss: 0.0016 - val_binary_accuracy: 1.0000\n",
      "Epoch 17/20\n",
      "198/198 [==============================] - 10s 52ms/step - loss: 9.9201e-05 - binary_accuracy: 1.0000 - val_loss: 0.0019 - val_binary_accuracy: 0.9986\n",
      "Epoch 18/20\n",
      "198/198 [==============================] - 11s 54ms/step - loss: 8.2096e-05 - binary_accuracy: 1.0000 - val_loss: 0.0027 - val_binary_accuracy: 0.9971\n",
      "Epoch 19/20\n",
      "198/198 [==============================] - 11s 56ms/step - loss: 7.4036e-05 - binary_accuracy: 1.0000 - val_loss: 0.0024 - val_binary_accuracy: 0.9971\n",
      "Epoch 20/20\n",
      "198/198 [==============================] - 13s 68ms/step - loss: 5.3874e-05 - binary_accuracy: 1.0000 - val_loss: 0.0013 - val_binary_accuracy: 1.0000\n"
     ]
    }
   ],
   "source": [
    "fh = model.fit(X_train, y_train, epochs=20, verbose=1, validation_split=0.1)\n",
    "model_fn   = model.name + '.h5'\n",
    "history_fn = model.name + '_history.npy'\n",
    "\n"
   ]
  },
  {
   "cell_type": "code",
   "execution_count": 14,
   "metadata": {},
   "outputs": [],
   "source": [
    "model.save(model_fn)      # save model\n",
    "#np.save(history_fn, fh)   # save history\n",
    "np.save(history_fn, fh.history)"
   ]
  },
  {
   "cell_type": "markdown",
   "metadata": {
    "id": "3nqxH71XbZ7F"
   },
   "source": [
    "## Load Model"
   ]
  },
  {
   "cell_type": "code",
   "execution_count": null,
   "metadata": {
    "colab": {
     "base_uri": "https://localhost:8080/"
    },
    "executionInfo": {
     "elapsed": 177,
     "status": "ok",
     "timestamp": 1655661402013,
     "user": {
      "displayName": "Thomas Manke",
      "userId": "17591636328965298454"
     },
     "user_tz": -120
    },
    "id": "1njTE-kZbbWk",
    "outputId": "95211799-4844-481f-f18a-a827b3d7d3be"
   },
   "outputs": [
    {
     "name": "stdout",
     "output_type": "stream",
     "text": [
      "run if necessary\n"
     ]
    }
   ],
   "source": [
    "#%%script echo run if necessary\n",
    "model_fn   = model.name + '.h5'\n",
    "history_fn = model.name + '_history.npy'\n",
    "model = tf.keras.models.load_model(model_fn)        # load model\n",
    "fh = np.load(history_fn, allow_pickle=True).item()  # load history"
   ]
  },
  {
   "cell_type": "markdown",
   "metadata": {
    "id": "1obwpgIRFSiY"
   },
   "source": [
    "# Evaluation"
   ]
  },
  {
   "cell_type": "code",
   "execution_count": 15,
   "metadata": {
    "id": "48qq3Ld1bnha"
   },
   "outputs": [
    {
     "name": "stdout",
     "output_type": "stream",
     "text": [
      "Evaluate Model: Nanog_CNN_1\n",
      "55/55 [==============================] - 2s 28ms/step - loss: 0.0018 - binary_accuracy: 0.9994\n"
     ]
    },
    {
     "data": {
      "image/png": "[encoded data removed]",
      "text/plain": [
       "<Figure size 432x288 with 1 Axes>"
      ]
     },
     "metadata": {
      "needs_background": "light"
     },
     "output_type": "display_data"
    },
    {
     "data": {
      "image/png": "[encoded data removed]",
      "text/plain": [
       "<Figure size 432x288 with 1 Axes>"
      ]
     },
     "metadata": {
      "needs_background": "light"
     },
     "output_type": "display_data"
    }
   ],
   "source": [
    "print('Evaluate Model:',model.name)\n",
    "test_loss, test_acc = model.evaluate(X_test, y_test)\n",
    "\n",
    "val_a_name = 'val_' + a_name\n",
    "plt.plot(fh.history['loss'])    # When loading would need to be fh instead of fh.history since we can't save fh but only fh.history\n",
    "plt.plot(fh.history['val_loss'])\n",
    "plt.axhline(y=test_loss, color='green', linestyle='-.',label = 'test')\n",
    "plt.show()\n",
    "\n",
    "plt.plot(fh.history[a_name])\n",
    "plt.plot(fh.history[val_a_name])\n",
    "plt.axhline(y=test_acc, color='green', linestyle='-.',label = 'test')\n",
    "plt.show()"
   ]
  },
  {
   "cell_type": "markdown",
   "metadata": {
    "id": "-QY9EbDNlYat"
   },
   "source": [
    "# Predictions"
   ]
  },
  {
   "cell_type": "code",
   "execution_count": 16,
   "metadata": {
    "id": "SgSlXB-blavy"
   },
   "outputs": [
    {
     "data": {
      "image/png": "[encoded data removed]",
      "text/plain": [
       "<Figure size 432x288 with 2 Axes>"
      ]
     },
     "metadata": {
      "needs_background": "light"
     },
     "output_type": "display_data"
    }
   ],
   "source": [
    "pred=model.predict(X_test)             # predicted class probabilities\n",
    "pred_class = np.argmax(pred,axis=1)    # predicted classes\n",
    "true_class = np.argmax(y_test,axis=1)  # true classes: one-hot encoded\n",
    "\n",
    "cm=confusion_matrix(pred_class, true_class)\n",
    "plot_cm(cm)"
   ]
  },
  {
   "cell_type": "markdown",
   "metadata": {
    "id": "rV0CesgYm3gZ"
   },
   "source": [
    "# Interpretations: Saliency Maps"
   ]
  },
  {
   "cell_type": "markdown",
   "metadata": {
    "id": "ltG8EczU1Imp"
   },
   "source": [
    "So the classification accuracy appears very high. \n",
    "\n",
    "**Discussion:** Should we be concerned?\n",
    "\n",
    "Now we want to understand which part of the sequence contributed most to the given classification (target/non-target)\n",
    "\n",
    "Question: \n",
    "Which part of the input data contributes most strongly"
   ]
  },
  {
   "cell_type": "code",
   "execution_count": 17,
   "metadata": {
    "id": "IP_XXJJydC6i"
   },
   "outputs": [
    {
     "name": "stdout",
     "output_type": "stream",
     "text": [
      "Collecting tf-keras-vis\n",
      "  Downloading tf_keras_vis-0.8.1-py3-none-any.whl (53 kB)\n",
      "\u001b[K     |████████████████████████████████| 53 kB 772 kB/s eta 0:00:011\n",
      "\u001b[?25hRequirement already satisfied: scipy in /home/cq/miniconda3/lib/python3.9/site-packages (from tf-keras-vis) (1.7.3)\n",
      "Requirement already satisfied: pillow in /home/cq/miniconda3/lib/python3.9/site-packages (from tf-keras-vis) (9.0.1)\n",
      "Requirement already satisfied: packaging in /home/cq/miniconda3/lib/python3.9/site-packages (from tf-keras-vis) (21.3)\n",
      "Collecting imageio\n",
      "  Downloading imageio-2.19.3-py3-none-any.whl (3.4 MB)\n",
      "\u001b[K     |████████████████████████████████| 3.4 MB 5.0 MB/s eta 0:00:01\n",
      "\u001b[?25hCollecting deprecated\n",
      "  Downloading Deprecated-1.2.13-py2.py3-none-any.whl (9.6 kB)\n",
      "Requirement already satisfied: wrapt<2,>=1.10 in /home/cq/miniconda3/lib/python3.9/site-packages (from deprecated->tf-keras-vis) (1.12.1)\n",
      "Requirement already satisfied: numpy in /home/cq/miniconda3/lib/python3.9/site-packages (from imageio->tf-keras-vis) (1.21.2)\n",
      "Requirement already satisfied: pyparsing!=3.0.5,>=2.0.2 in /home/cq/miniconda3/lib/python3.9/site-packages (from packaging->tf-keras-vis) (3.0.4)\n",
      "Installing collected packages: imageio, deprecated, tf-keras-vis\n",
      "Successfully installed deprecated-1.2.13 imageio-2.19.3 tf-keras-vis-0.8.1\n"
     ]
    }
   ],
   "source": [
    "! pip install tf-keras-vis"
   ]
  },
  {
   "cell_type": "code",
   "execution_count": 18,
   "metadata": {
    "id": "-7cwPueLdEyx"
   },
   "outputs": [
    {
     "data": {
      "image/png": "[encoded data removed]",
      "text/plain": [
       "<Figure size 1440x432 with 1 Axes>"
      ]
     },
     "metadata": {
      "needs_background": "light"
     },
     "output_type": "display_data"
    }
   ],
   "source": [
    "from tf_keras_vis.saliency import Saliency\n",
    "from tf_keras_vis.utils.model_modifiers import ReplaceToLinear\n",
    "from tf_keras_vis.utils.scores import CategoricalScore\n",
    "\n",
    "saliency = Saliency( model, model_modifier=ReplaceToLinear(), clone=True)\n",
    "\n",
    "s_id = 42                                  # select sequence id\n",
    "s_seq = X_test[s_id]                       # selected sequence (one hot encoded)\n",
    "s_int = np.argmax(s_seq,axis=1)            # convert to integer\n",
    "s_chr = list(map(int2nuc.get, s_int))      # map integer to DNA letters\n",
    "\n",
    "s_class = pred_class[s_id]  # predicted class for s_id\n",
    "t_class = true_class[s_id]  # true class for s_id\n",
    "\n",
    "score = CategoricalScore(s_class)\n",
    "sm    = saliency(score, s_seq)      # saliency map for one sequence\n",
    "L     = sm.shape[1]                 # length of sequence\n",
    "\n",
    "### plot  salience\n",
    "plt.figure(figsize=[20,6])\n",
    "barlist = plt.bar(np.arange(L), sm[0])\n",
    "plt.xlabel('Bases')\n",
    "plt.ylabel('Saliency')\n",
    "plt.title('sequence id: {} true label: {} pred label: {} '.format(s_id, t_class, s_class))\n",
    "plt.xticks(np.arange(L), list(s_chr))\n",
    "plt.show()"
   ]
  },
  {
   "cell_type": "markdown",
   "metadata": {
    "id": "Q4X4MEbZpNOA"
   },
   "source": [
    "Compare the Saliency Map with the known logo here: https://jaspar.genereg.net/matrix/MA0036.2/"
   ]
  }
 ],
 "metadata": {
  "accelerator": "GPU",
  "colab": {
   "collapsed_sections": [
    "bSxjSBNjYdu2"
   ],
   "name": "ANN_006_Sequences.ipynb",
   "provenance": [
    {
     "file_id": "https://github.com/abidlabs/deep-learning-genomics-primer/blob/master/A_Primer_on_Deep_Learning_in_Genomics_Public.ipynb",
     "timestamp": 1646747740505
    }
   ]
  },
  "kernelspec": {
   "display_name": "Python 3 (ipykernel)",
   "language": "python",
   "name": "python3"
  },
  "language_info": {
   "codemirror_mode": {
    "name": "ipython",
    "version": 3
   },
   "file_extension": ".py",
   "mimetype": "text/x-python",
   "name": "python",
   "nbconvert_exporter": "python",
   "pygments_lexer": "ipython3",
   "version": "3.9.5"
  }
 },
 "nbformat": 4,
 "nbformat_minor": 4
}
