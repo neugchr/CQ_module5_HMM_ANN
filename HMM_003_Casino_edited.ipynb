{
 "cells": [
  {
   "cell_type": "markdown",
   "metadata": {
    "id": "rP4ecv1QmbzX"
   },
   "source": [
    "# Dishonest Casino\n"
   ]
  },
  {
   "cell_type": "markdown",
   "metadata": {
    "id": "GL_xNAsBoGk2"
   },
   "source": [
    "Motivated by: https://hmmlearn.readthedocs.io/en/latest/auto_examples/plot_casino_example.html"
   ]
  },
  {
   "cell_type": "markdown",
   "metadata": {
    "id": "mEPjI1ftzCzZ"
   },
   "source": [
    "## The Story"
   ]
  },
  {
   "cell_type": "markdown",
   "metadata": {
    "id": "DZJDi0YEG2q0"
   },
   "source": [
    "A dishonest casino occassionally swaps their dice (fair <-> biased), but all we see is a sequence $X$ of throws $X \\in \\{0,1,2,3,4,5\\}$.\n",
    "\n",
    "In this part we will:\n",
    "\n",
    "1. Be the casino: generate/sample such HMM data\n",
    "2. Be a clever player: learn the parameters (transition rates, emission rates) from observations\n",
    "3. try to decode the game: predict the most likely sequence of states\n",
    "\n",
    "... all of this with hmmlearn."
   ]
  },
  {
   "cell_type": "markdown",
   "metadata": {
    "id": "xGWVy7TfIciG"
   },
   "source": [
    "## The HMM formulation"
   ]
  },
  {
   "cell_type": "markdown",
   "metadata": {
    "id": "6lY2OjV9Ij4F"
   },
   "source": [
    "- States $Z$: { 0 = fair, 1 = biased }; \n",
    "- Observations $X$: { 0, 1, 2, 3, 4, 5 }\n",
    "- Parameters $\\Theta$:\n",
    "\n",
    "\\begin{align}\n",
    "    P(Z_0) &= \\begin{bmatrix} 0.5 & 0.5  \\end{bmatrix} \\\\ \\\\\n",
    "    P(Z_t | Z_{t-1}) & = \\begin{bmatrix} 0.95 & 0.05 \\\\ 0.25 & 0.75 \\end{bmatrix} \\\\ \\\\\n",
    "    P(X_t | Z_t) & =  \\begin{bmatrix} 1/6 & 1/6 &  1/6 & 1/6 & 1/6 & 1/6 \\\\ 0.1 & 0.1 & 0.1 & 0.1 & 0.1 & 0.5 \\end{bmatrix} \\\\\n",
    "\\end{align}\n"
   ]
  },
  {
   "cell_type": "markdown",
   "metadata": {
    "id": "ITyPhIENy158"
   },
   "source": [
    "## Setting up the Software"
   ]
  },
  {
   "cell_type": "code",
   "execution_count": null,
   "metadata": {
    "colab": {
     "base_uri": "https://localhost:8080/"
    },
    "executionInfo": {
     "elapsed": 409,
     "status": "ok",
     "timestamp": 1655154243543,
     "user": {
      "displayName": "Thomas Manke",
      "userId": "17591636328965298454"
     },
     "user_tz": -120
    },
    "id": "8BXHvLBoIHWD",
    "outputId": "e147b651-eaf1-4e37-fcec-064e548c99ea"
   },
   "outputs": [
    {
     "name": "stdout",
     "output_type": "stream",
     "text": [
      "install only once\n"
     ]
    }
   ],
   "source": [
    "%%script echo install only once\n",
    "!pip install hmmlearn"
   ]
  },
  {
   "cell_type": "code",
   "execution_count": 3,
   "metadata": {
    "id": "5rXqbl3GH_Pc"
   },
   "outputs": [],
   "source": [
    "import numpy as np\n",
    "import matplotlib.pyplot as plt\n",
    "from hmmlearn import hmm"
   ]
  },
  {
   "cell_type": "markdown",
   "metadata": {
    "id": "vciD0KVq0xJ4"
   },
   "source": [
    "## Playing the Casino: Generating states and observations"
   ]
  },
  {
   "cell_type": "code",
   "execution_count": 4,
   "metadata": {
    "id": "5e9n8Fx2ILVC"
   },
   "outputs": [],
   "source": [
    "pf = [1./6 ] *6           # fair emission probabilities\n",
    "pb = [1./10] *5 + [1/2]   # biased emission probabilities\n",
    "\n",
    "np.random.seed(42)\n",
    "model_gen = hmm.MultinomialHMM(n_components=2)\n",
    "\n",
    "# set parameters\n",
    "model_gen.startprob_ = np.array([0.5, 0.5])                     # initial state prob\n",
    "model_gen.transmat_  = np.array([[0.95, 0.05], [0.25, 0.75]])   # transition prob\n",
    "model_gen.emissionprob_ =  np.array([pf, pb])                   # emission prob\n",
    "\n",
    "X,Z = model_gen.sample(5000)"
   ]
  },
  {
   "cell_type": "markdown",
   "metadata": {
    "id": "C_gnHAPNNF4l"
   },
   "source": [
    "**Task**: Inspect the shapes for X and Z."
   ]
  },
  {
   "cell_type": "code",
   "execution_count": 5,
   "metadata": {
    "id": "Tzfn2aDsAMdb"
   },
   "outputs": [
    {
     "name": "stdout",
     "output_type": "stream",
     "text": [
      "(5000, 1)\n",
      "(5000,)\n"
     ]
    }
   ],
   "source": [
    "print(np.shape(X))\n",
    "print(np.shape(Z))"
   ]
  },
  {
   "cell_type": "markdown",
   "metadata": {
    "id": "ZdxRWegakTCT"
   },
   "source": [
    "### Inspection: Does the generator work?"
   ]
  },
  {
   "cell_type": "markdown",
   "metadata": {
    "id": "7uvQaG8D4riU"
   },
   "source": [
    "Here is a simple function to plot the distribution of the obserrvations for the different states."
   ]
  },
  {
   "cell_type": "code",
   "execution_count": 6,
   "metadata": {
    "id": "7cc_RkUGfZNh"
   },
   "outputs": [
    {
     "name": "stdout",
     "output_type": "stream",
     "text": [
      "Z:  0000000000000000011100000111000000000000000000000000000000000000000000111100011000000000000000000000\n",
      "X:  5305451131024301550425331555111234514400301324322033140045135025312145230511225433513011200533153254\n"
     ]
    },
    {
     "data": {
      "image/png": "[encoded data removed]",
      "text/plain": [
       "<Figure size 432x288 with 1 Axes>"
      ]
     },
     "metadata": {
      "needs_background": "light"
     },
     "output_type": "display_data"
    }
   ],
   "source": [
    "def HMM_inspect(Z,X,t=50):\n",
    "  z_str = ''.join(str(z) for z in Z.flatten()[0:t])\n",
    "  x_str = ''.join(str(x) for x in X.flatten()[0:t])\n",
    "  print('Z: ',z_str)\n",
    "  print('X: ',x_str)\n",
    "\n",
    "  bs=list(np.arange(0,6,0.5))\n",
    "  plt.hist(X[Z == 0], label='Z=0', alpha=0.5, bins=bs)\n",
    "  plt.hist(X[Z == 1], label='Z=1', alpha=0.5, bins=bs)\n",
    "  plt.xlabel('observation X')\n",
    "  plt.legend()\n",
    "  plt.show()\n",
    "\n",
    "HMM_inspect(Z,X,100)"
   ]
  },
  {
   "cell_type": "markdown",
   "metadata": {
    "id": "L_kJniIuNdod"
   },
   "source": [
    "**Task (5 min)**: Understand and interprete the results."
   ]
  },
  {
   "cell_type": "markdown",
   "metadata": {
    "id": "K2cfRvsykoYN"
   },
   "source": [
    "## Fit the data"
   ]
  },
  {
   "cell_type": "markdown",
   "metadata": {
    "id": "z2aCujD75LNi"
   },
   "source": [
    "**Task (15 min)**\n",
    "\n",
    "1. Use the Baum-Welch algorithm to fit a model with two states (\"components\"), given observations $X$.\n",
    "2. Obtain the score for this fit: $\\log P(X)$\n",
    "3. Predict the best possible path $Z$"
   ]
  },
  {
   "cell_type": "code",
   "execution_count": 7,
   "metadata": {
    "colab": {
     "base_uri": "https://localhost:8080/"
    },
    "executionInfo": {
     "elapsed": 5,
     "status": "ok",
     "timestamp": 1655193461204,
     "user": {
      "displayName": "Thomas Manke",
      "userId": "17591636328965298454"
     },
     "user_tz": -120
    },
    "id": "_m81FGfljST0",
    "outputId": "c231ee6d-81d8-4ce8-9dfc-b02f4af61217"
   },
   "outputs": [
    {
     "name": "stdout",
     "output_type": "stream",
     "text": [
      "score:  -8894.804242228523\n",
      "[[0.68955406 0.31044594]\n",
      " [0.42243335 0.57756665]]\n",
      "----\n",
      "[[0.23282005 0.11701354 0.19456236 0.21841664 0.18369127 0.05349614]\n",
      " [0.06143993 0.1962761  0.10969278 0.06970015 0.11409317 0.44879787]]\n",
      "inspect\n",
      "Z:  00000000000000000000000000000000000000000000000000\n",
      "X:  53054511310243015504253315551112345144003013243220\n"
     ]
    },
    {
     "data": {
      "image/png": "[encoded data removed]",
      "text/plain": [
       "<Figure size 432x288 with 1 Axes>"
      ]
     },
     "metadata": {
      "needs_background": "light"
     },
     "output_type": "display_data"
    },
    {
     "name": "stdout",
     "output_type": "stream",
     "text": [
      "compare\n"
     ]
    },
    {
     "ename": "NameError",
     "evalue": "name 'compareHMM' is not defined",
     "output_type": "error",
     "traceback": [
      "\u001b[0;31m---------------------------------------------------------------------------\u001b[0m",
      "\u001b[0;31mNameError\u001b[0m                                 Traceback (most recent call last)",
      "\u001b[0;32m/tmp/ipykernel_2089/819458405.py\u001b[0m in \u001b[0;36m<module>\u001b[0;34m\u001b[0m\n\u001b[1;32m     18\u001b[0m \u001b[0;34m\u001b[0m\u001b[0m\n\u001b[1;32m     19\u001b[0m \u001b[0mprint\u001b[0m\u001b[0;34m(\u001b[0m\u001b[0;34m'compare'\u001b[0m\u001b[0;34m)\u001b[0m\u001b[0;34m\u001b[0m\u001b[0;34m\u001b[0m\u001b[0m\n\u001b[0;32m---> 20\u001b[0;31m \u001b[0mcompareHMM\u001b[0m\u001b[0;34m(\u001b[0m\u001b[0mmodel_gen\u001b[0m\u001b[0;34m,\u001b[0m \u001b[0mmodel_fit\u001b[0m\u001b[0;34m)\u001b[0m\u001b[0;34m\u001b[0m\u001b[0;34m\u001b[0m\u001b[0m\n\u001b[0m",
      "\u001b[0;31mNameError\u001b[0m: name 'compareHMM' is not defined"
     ]
    }
   ],
   "source": [
    "#%%script echo edit before execution\n",
    "np.random.seed(42)\n",
    "model_fit = hmm.MultinomialHMM(n_components=2, n_iter=1000000)\n",
    "model_fit.fit(X)\n",
    "score = model_fit.score(X)\n",
    "print('score: ', score)\n",
    "\n",
    "\n",
    "print(model_fit.transmat_)\n",
    "print('----')\n",
    "print(model_fit.emissionprob_)\n",
    "\n",
    "#predict best path\n",
    "_, Zv = model_gen.decode(X, algorithm='viterbi')\n",
    "\n",
    "print('inspect')\n",
    "HMM_inspect(Zv, X)\n",
    "\n",
    "print('compare')\n",
    "compareHMM(model_gen, model_fit)"
   ]
  },
  {
   "cell_type": "markdown",
   "metadata": {
    "id": "YLeUgGNetu1F"
   },
   "source": [
    "**Task & Discussion (5 min):** \n",
    "\n",
    "Was the fit successful - does it reflect our expectation? \n",
    "\n",
    "Remove np.random.seed() and run the above code cell multiple times. What's your conclusion?\n",
    "\n",
    "\n",
    "**Group Task & Explorations (45 min):**\n",
    "\n",
    "How could we improve the learning? \n",
    "\n",
    "Notice that there are many default parameters that can be adjusted. Consult the help pages for MultinomialHMM()!\n",
    "\n",
    "- how many iterations are run by default? try to increase it.\n",
    "- initialize parameters: maybe you can make an informed initial guess for the transitions probabilities\n",
    "- loop over different initializations and keep only the model with best score\n",
    "- would it help to use another choice for path predcition (decoding) ?\n",
    "- If you have more time: you might want to generate longer sequences.\n"
   ]
  },
  {
   "cell_type": "code",
   "execution_count": 26,
   "metadata": {
    "id": "lKXfk124k0uL"
   },
   "outputs": [
    {
     "name": "stdout",
     "output_type": "stream",
     "text": [
      "Z:  00000000000000000000000000000000000000000000000000\n",
      "X:  53054511310243015504253315551112345144003013243220\n"
     ]
    },
    {
     "data": {
      "image/png": "[encoded data removed]",
      "text/plain": [
       "<Figure size 432x288 with 1 Axes>"
      ]
     },
     "metadata": {
      "needs_background": "light"
     },
     "output_type": "display_data"
    },
    {
     "data": {
      "image/png": "[encoded data removed]",
      "text/plain": [
       "<Figure size 720x504 with 6 Axes>"
      ]
     },
     "metadata": {
      "needs_background": "light"
     },
     "output_type": "display_data"
    }
   ],
   "source": [
    "best_score = -1e81 # something really small\n",
    "best_model = None\n",
    "\n",
    "N_ini = 1\n",
    "N_iter = 1000\n",
    "P_assumed = np.array([ [0.9, 0.1],\n",
    "                       [0.1, 0.9] ])\n",
    "\n",
    "for i in range(30):\n",
    "    curr_model = hmm.MultinomialHMM(n_components=2, n_iter=1000) #, init_params='ste') # as a default it randomizes all matrices\n",
    "    # if we set init_params to 'se' we can now use:\n",
    "    # curr_model.transmat_ = P_assumed # to set where to start the search for the transitin matrix\n",
    "    #curr_model.transmat_ = P_assumed\n",
    "\n",
    "    curr_model.fit(X)\n",
    "    curr_score = curr_model.score(X)\n",
    "    if curr_score > best_score:\n",
    "        best_score = curr_score\n",
    "        best_model = curr_model\n",
    "\n",
    "HMM_inspect(Zv,X)\n",
    "compareHMM(model_gen, best_model)\n",
    "\n",
    "curr_model.monitor_"
   ]
  },
  {
   "cell_type": "markdown",
   "metadata": {
    "id": "Y4iH2bO810vy"
   },
   "source": [
    "## Inspections"
   ]
  },
  {
   "cell_type": "markdown",
   "metadata": {
    "id": "cIw1c7IKqaGS"
   },
   "source": [
    "Here I provide some convenience function to compare the HMM parameters ($P$ and $E$) for two different models - for example the generating model and the fitted model."
   ]
  },
  {
   "cell_type": "code",
   "execution_count": 16,
   "metadata": {
    "id": "9K4jeIuonwwJ"
   },
   "outputs": [],
   "source": [
    "# some convenience functions\n",
    "from matplotlib.colors import Normalize\n",
    "\n",
    "# plot matrix (with title and numbers)\n",
    "def plotMatrix(ax, mat, title, cm, normalizer):\n",
    "  ax.imshow(mat, cmap=cm, norm=normalizer)\n",
    "  for (j,i),label in np.ndenumerate(mat):\n",
    "    ax.text(i,j,np.round(label,2),ha='center',va='center')\n",
    "    ax.set_title(title)\n",
    "\n",
    "# compare two models\n",
    "def compareHMM(model, model_fit):\n",
    "  ## Visualization ###\n",
    "  my_cm=plt.cm.Blues        # set color-map\n",
    "  normalizer=Normalize(0,1) # set common color code for trans and emission probs \n",
    "\n",
    "  fig, ax = plt.subplots(3, 2, \n",
    "      gridspec_kw={'width_ratios': [1, 3], 'height_ratios': [1, 1, 0.1]},\n",
    "      figsize=(10,7))\n",
    "\n",
    "  plotMatrix(ax[0,0], model.transmat_, 'trans - orig', my_cm, normalizer)\n",
    "  plotMatrix(ax[0,1], model.emissionprob_, 'emissions - orig', my_cm, normalizer)\n",
    "  plotMatrix(ax[1,0], model_fit.transmat_, 'trans - fit', my_cm, normalizer)\n",
    "  plotMatrix(ax[1,1], model_fit.emissionprob_, 'emissions - fit', my_cm, normalizer)\n",
    "\n",
    "  # add colorbar with common color scale (set by im)\n",
    "  im = plt.cm.ScalarMappable( cmap=my_cm, norm=normalizer) \n",
    "  fig.colorbar(im, cax=ax[2,0], orientation='horizontal')\n",
    "  fig.colorbar(im, cax=ax[2,1], orientation='horizontal')\n",
    "  plt.show()"
   ]
  },
  {
   "cell_type": "code",
   "execution_count": null,
   "metadata": {
    "id": "Ras3_6IGqNzN"
   },
   "outputs": [],
   "source": [
    "compareHMM(model_gen, best_model)"
   ]
  },
  {
   "cell_type": "code",
   "execution_count": null,
   "metadata": {
    "id": "vWZ7tvxTC2d4"
   },
   "outputs": [],
   "source": [
    "#%%script echo alternative representation of emission probabilities\n",
    "import pandas as pd\n",
    "pp=pd.DataFrame(best_model.emissionprob_).plot(kind='bar', stacked=True, title='emissions')"
   ]
  },
  {
   "cell_type": "markdown",
   "metadata": {
    "id": "xVlkF-HbwDA8"
   },
   "source": [
    "**Messages:**\n",
    "\n",
    "- Learning = Fitting is computationally the most demanding step\n",
    "- The Baum-Welch Algorithm only delivers local maxima - run it several times to explore other initial conditions\n",
    "- Be aware of **hyperparameters** that may need fine-tuning: number of iterations, initial estimates and prior assumptions\n",
    "- The number of components needs to be chosen wisely (limits of unsupervised learning, c.f. k-means)\n",
    "- More data helps, but fitting will take longer\n",
    "- The state labels may swap\n"
   ]
  },
  {
   "cell_type": "markdown",
   "metadata": {
    "id": "YNLl3eOAzleU"
   },
   "source": [
    "## Confusion Matrix"
   ]
  },
  {
   "cell_type": "code",
   "execution_count": null,
   "metadata": {
    "id": "1XoKMck6FFX5"
   },
   "outputs": [],
   "source": [
    "from sklearn.metrics import confusion_matrix\n",
    "\n",
    "Z_pred = best_model.predict(X)\n",
    "print('Z - orig: ', *Z[0:50])\n",
    "print('Z - pred: ', *Z_pred[0:50])\n",
    "print('confusion matrix: \\n', confusion_matrix(Z, Z_pred))"
   ]
  },
  {
   "cell_type": "markdown",
   "metadata": {
    "id": "evi_emNGPgAL"
   },
   "source": [
    "**Task (10 min):**\n",
    "\n",
    "Predict the path using the original (generative) model, and compare it with the path that was actually generated along with the observations. "
   ]
  },
  {
   "cell_type": "code",
   "execution_count": null,
   "metadata": {
    "id": "kOCNr2xFO0n3"
   },
   "outputs": [],
   "source": [
    "_,Z_pred = model_gen.decode(X)\n",
    "print('Z - orig: ', *Z[0:50])\n",
    "print('Z - pred: ', *Z_pred[0:50])\n",
    "print('confusion matrix: \\n', confusion_matrix(Z, Z_pred))"
   ]
  },
  {
   "cell_type": "markdown",
   "metadata": {
    "id": "ugVXAJ_q8Tnm"
   },
   "source": [
    "**Message:** \n",
    "\n",
    "Although state transitions and emission probabilities may be predicted quite accurately, predicting the correct state path is much harder.\n",
    "\n",
    "Even using the true original model, the predicted path $Z$ (the most likely path) is not necessarily the same that really gave rise to the observation $X$"
   ]
  }
 ],
 "metadata": {
  "colab": {
   "authorship_tag": "ABX9TyNOu7MjprBEGqroh+suwfA4",
   "collapsed_sections": [],
   "name": "HMM_003_Casino.ipynb",
   "provenance": []
  },
  "kernelspec": {
   "display_name": "Python 3 (ipykernel)",
   "language": "python",
   "name": "python3"
  },
  "language_info": {
   "codemirror_mode": {
    "name": "ipython",
    "version": 3
   },
   "file_extension": ".py",
   "mimetype": "text/x-python",
   "name": "python",
   "nbconvert_exporter": "python",
   "pygments_lexer": "ipython3",
   "version": "3.9.5"
  }
 },
 "nbformat": 4,
 "nbformat_minor": 4
}
