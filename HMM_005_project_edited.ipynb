{
 "cells": [
  {
   "cell_type": "markdown",
   "metadata": {
    "id": "QQyukC47FgTZ"
   },
   "source": [
    "# Load Packages"
   ]
  },
  {
   "cell_type": "code",
   "execution_count": null,
   "metadata": {
    "colab": {
     "base_uri": "https://localhost:8080/"
    },
    "executionInfo": {
     "elapsed": 4373,
     "status": "ok",
     "timestamp": 1655156137285,
     "user": {
      "displayName": "Thomas Manke",
      "userId": "17591636328965298454"
     },
     "user_tz": -120
    },
    "id": "5z7LDevG_i6U",
    "outputId": "0691981e-79c9-40c1-cd12-397e8cfb21af"
   },
   "outputs": [
    {
     "name": "stdout",
     "output_type": "stream",
     "text": [
      "Looking in indexes: https://pypi.org/simple, https://us-python.pkg.dev/colab-wheels/public/simple/\n",
      "Collecting hmmlearn\n",
      "  Downloading hmmlearn-0.2.7-cp37-cp37m-manylinux_2_12_x86_64.manylinux2010_x86_64.whl (129 kB)\n",
      "\u001b[K     |████████████████████████████████| 129 kB 5.3 MB/s \n",
      "\u001b[?25hRequirement already satisfied: scikit-learn>=0.16 in /usr/local/lib/python3.7/dist-packages (from hmmlearn) (1.0.2)\n",
      "Requirement already satisfied: scipy>=0.19 in /usr/local/lib/python3.7/dist-packages (from hmmlearn) (1.4.1)\n",
      "Requirement already satisfied: numpy>=1.10 in /usr/local/lib/python3.7/dist-packages (from hmmlearn) (1.21.6)\n",
      "Requirement already satisfied: joblib>=0.11 in /usr/local/lib/python3.7/dist-packages (from scikit-learn>=0.16->hmmlearn) (1.1.0)\n",
      "Requirement already satisfied: threadpoolctl>=2.0.0 in /usr/local/lib/python3.7/dist-packages (from scikit-learn>=0.16->hmmlearn) (3.1.0)\n",
      "Installing collected packages: hmmlearn\n",
      "Successfully installed hmmlearn-0.2.7\n"
     ]
    }
   ],
   "source": [
    "#%%script echo install only once\n",
    "!pip install hmmlearn"
   ]
  },
  {
   "cell_type": "code",
   "execution_count": 1,
   "metadata": {
    "id": "MRPgBOBkFoA-"
   },
   "outputs": [],
   "source": [
    "import numpy as np\n",
    "import matplotlib.pyplot as plt\n",
    "import pickle\n",
    "\n",
    "from hmmlearn import hmm"
   ]
  },
  {
   "cell_type": "markdown",
   "metadata": {
    "id": "u3HZzvIY-oTW"
   },
   "source": [
    "# Project"
   ]
  },
  {
   "cell_type": "markdown",
   "metadata": {
    "id": "uXVaqZalLLaa"
   },
   "source": [
    "This project is centered around the observations you had generated from your own Markov model, during an earlier part of the course.\n",
    "\n",
    "**Presentations (5 min)**:\n",
    "\n",
    "Each group should give a brief presentation of their HMM story, if they have one - minimally they should communicate the number of states. \n",
    "\n",
    "No need to communicate any specific probabilities -- but listen carefully, sometimes the story may suggest prior information or constraints on emissions and transitions. This could be valuable during the learning.\n",
    "\n",
    "**Exchange files**:\n",
    "\n",
    "Exchange the files between the groups and try to infer the parameters used.\n",
    "\n",
    "If the file has been written properly you should be able to read it like this"
   ]
  },
  {
   "cell_type": "code",
   "execution_count": 4,
   "metadata": {
    "colab": {
     "base_uri": "https://localhost:8080/"
    },
    "executionInfo": {
     "elapsed": 3,
     "status": "ok",
     "timestamp": 1655157764848,
     "user": {
      "displayName": "Thomas Manke",
      "userId": "17591636328965298454"
     },
     "user_tz": -120
    },
    "id": "Fi9ZVwT4L3yj",
    "outputId": "c477ae68-0871-4b62-9c11-047c21ce2aa5"
   },
   "outputs": [
    {
     "name": "stdout",
     "output_type": "stream",
     "text": [
      "Read obs_group3.txt with shape (10001, 1)\n"
     ]
    }
   ],
   "source": [
    "fn=\"obs_group3.txt\"             # include the proper path in filename \n",
    "\n",
    "with open(fn, \"r\") as f:\n",
    "    line  = f.readline().split()  # read first line and split\n",
    "X = list(map(np.int64, line))   # map line to np.int64\n",
    "X = np.array(X).reshape(-1,1)   # enforce proper shape: (T, 1)\n",
    "\n",
    "print('Read',fn, 'with shape', X.shape)"
   ]
  },
  {
   "cell_type": "markdown",
   "metadata": {
    "id": "gHct4tFtMwCT"
   },
   "source": [
    "# First Inspection"
   ]
  },
  {
   "cell_type": "markdown",
   "metadata": {
    "id": "-I_R1QeaMi4w"
   },
   "source": [
    "Inspect $X$ and make sure you the data is properly formatted\n",
    "\n",
    "How long is $X$? What is the number of unique observations? It might be a good idea to plot a histogram "
   ]
  },
  {
   "cell_type": "code",
   "execution_count": 18,
   "metadata": {
    "id": "SnvLNU3DGGTi"
   },
   "outputs": [
    {
     "name": "stdout",
     "output_type": "stream",
     "text": [
      "(array([6503., 1038., 2460.]), array([0, 1, 2, 3]), <BarContainer object of 3 artists>)\n"
     ]
    },
    {
     "data": {
      "image/png": "[encoded data removed]",
      "text/plain": [
       "<Figure size 432x288 with 1 Axes>"
      ]
     },
     "metadata": {
      "needs_background": "light"
     },
     "output_type": "display_data"
    }
   ],
   "source": [
    "len(X)\n",
    "print(plt.hist(X,bins=[0,1,2,3]))\n",
    "\n"
   ]
  },
  {
   "cell_type": "markdown",
   "metadata": {
    "id": "kfBdhmbYEN74"
   },
   "source": [
    "If - later on - you want to exchange general objects (such as models) among yourself you might want to use *pickle*"
   ]
  },
  {
   "cell_type": "code",
   "execution_count": null,
   "metadata": {
    "id": "ugt2e-HCEMkG"
   },
   "outputs": [],
   "source": [
    "import pickle\n",
    "fn = \"my_best_model.obj\"  # chose a meaningful name\n",
    "fh = open(fn,\"wb\")\n",
    "pickle.dump(best_model,fh)\n",
    "fh.close()\n",
    "\n",
    "fh = open(fn,'rb')\n",
    "b_model = pickle.load(fh)\n",
    "fh.close()"
   ]
  },
  {
   "cell_type": "markdown",
   "metadata": {
    "id": "S3Q3E1V0GZpL"
   },
   "source": [
    "# Fit"
   ]
  },
  {
   "cell_type": "markdown",
   "metadata": {
    "id": "Udyy4st7GcJx"
   },
   "source": [
    "Now you are ready to go.\n",
    "Fit the model - and try to optimize the score as much as you (and the Baum-Welch algorithm) can."
   ]
  },
  {
   "cell_type": "code",
   "execution_count": 28,
   "metadata": {},
   "outputs": [],
   "source": [
    "from matplotlib.colors import Normalize\n",
    "\n",
    "def HMM_inspect(Z,X,t=50):\n",
    "  z_str = ''.join(str(z) for z in Z.flatten()[0:t])\n",
    "  x_str = ''.join(str(x) for x in X.flatten()[0:t])\n",
    "  print('Z: ',z_str)\n",
    "  print('X: ',x_str)\n",
    "\n",
    "  bs=list(np.arange(0,6,0.5))\n",
    "  plt.hist(X[Z == 0], label='Z=0', alpha=0.5, bins=bs)\n",
    "  plt.hist(X[Z == 1], label='Z=1', alpha=0.5, bins=bs)\n",
    "  plt.xlabel('observation X')\n",
    "  plt.legend()\n",
    "  plt.show()\n",
    "\n",
    "# plot matrix (with title and numbers)\n",
    "def plotMatrix(ax, mat, title, cm, normalizer):\n",
    "  ax.imshow(mat, cmap=cm, norm=normalizer)\n",
    "  for (j,i),label in np.ndenumerate(mat):\n",
    "    ax.text(i,j,np.round(label,2),ha='center',va='center')\n",
    "    ax.set_title(title)\n",
    "\n",
    "def compareHMM(model, model_fit):\n",
    "  ## Visualization ###\n",
    "  my_cm=plt.cm.Blues        # set color-map\n",
    "  normalizer=Normalize(0,1) # set common color code for trans and emission probs \n",
    "\n",
    "  fig, ax = plt.subplots(3, 2, \n",
    "      gridspec_kw={'width_ratios': [1, 3], 'height_ratios': [1, 1, 0.1]},\n",
    "      figsize=(10,7))\n",
    "\n",
    "  plotMatrix(ax[0,0], model.transmat_, 'trans - orig', my_cm, normalizer)\n",
    "  plotMatrix(ax[0,1], model.emissionprob_, 'emissions - orig', my_cm, normalizer)\n",
    "  plotMatrix(ax[1,0], model_fit.transmat_, 'trans - fit', my_cm, normalizer)\n",
    "  plotMatrix(ax[1,1], model_fit.emissionprob_, 'emissions - fit', my_cm, normalizer)\n",
    "\n",
    "  # add colorbar with common color scale (set by im)\n",
    "  im = plt.cm.ScalarMappable( cmap=my_cm, norm=normalizer) \n",
    "  fig.colorbar(im, cax=ax[2,0], orientation='horizontal')\n",
    "  fig.colorbar(im, cax=ax[2,1], orientation='horizontal')\n",
    "  plt.show()"
   ]
  },
  {
   "cell_type": "code",
   "execution_count": 38,
   "metadata": {
    "colab": {
     "base_uri": "https://localhost:8080/"
    },
    "executionInfo": {
     "elapsed": 46946,
     "status": "ok",
     "timestamp": 1655158710162,
     "user": {
      "displayName": "Thomas Manke",
      "userId": "17591636328965298454"
     },
     "user_tz": -120
    },
    "id": "p1D_NfvI_ZkK",
    "outputId": "0c8cb73d-4258-4482-86c0-9dc0008564ff"
   },
   "outputs": [
    {
     "name": "stdout",
     "output_type": "stream",
     "text": [
      "best_first_score -8600.713371012831\n",
      "best_score -8292.430672072032\n",
      "Z:  10000000000001110000000000000000000000000000000000\n",
      "X:  20000110010012120020000100000002020102001000200100\n"
     ]
    },
    {
     "data": {
      "image/png": "[encoded data removed]",
      "text/plain": [
       "<Figure size 432x288 with 1 Axes>"
      ]
     },
     "metadata": {
      "needs_background": "light"
     },
     "output_type": "display_data"
    },
    {
     "data": {
      "image/png": "[encoded data removed]",
      "text/plain": [
       "<Figure size 720x504 with 6 Axes>"
      ]
     },
     "metadata": {
      "needs_background": "light"
     },
     "output_type": "display_data"
    },
    {
     "data": {
      "text/plain": [
       "ConvergenceMonitor(\n",
       "    history=[-9132.734529537636, -8590.550158979353, -8580.061729532654, -8568.341507160385, -8554.498708103372, -8537.688659409041, -8517.236648653676, -8492.925979449785, -8465.3891063686, -8436.336291935437, -8408.24131658789, -8383.43430369381, -8363.206321555608, -8347.626930796232, -8336.031073424138, -8327.577495087256, -8321.518081440525, -8317.240052924875, -8314.245604237945, -8312.139629126792, -8310.62406555105, -8309.487140398804, -8308.586379371034, -8307.830054396036, -8307.161071163117, -8306.544824397162, -8305.960828477355, -8305.397268861587, -8304.847579480527, -8304.308339150373, -8303.777994777982, -8303.256091326846, -8302.742808148876, -8302.238679247796, -8301.744423498716, -8301.260840589664, -8300.78874632376, -8300.328931740993, -8299.882136747274, -8299.449032923041, -8299.03021225785, -8298.626179988576, -8298.237350377014, -8297.864044805372, -8297.506491690714, -8297.164827977862, -8296.839101937647, -8296.52927707574, -8296.235236997029, -8295.956791015775, -8295.693680392375, -8295.445584959547, -8295.212130074462, -8294.992893690693, -8294.787413415093, -8294.595193495967, -8294.415711541562, -8294.248424977444, -8294.09277710253, -8293.948202720392, -8293.814133304439, -8293.69000164758, -8293.575246032999, -8293.469313871405, -8293.371664820537, -8293.28177347586, -8293.199131519077, -8293.123249501881, -8293.053658194782, -8292.9899095627, -8292.931577440177, -8292.878257870723, -8292.8295692346, -8292.785152096536, -8292.744668927458, -8292.707803598914, -8292.6742608069, -8292.643765336632, -8292.616061299212, -8292.590911262114, -8292.568095364244, -8292.54741038841, -8292.528668858562, -8292.511698085487, -8292.496339258067, -8292.48244655163, -8292.469886245766, -8292.458535879487, -8292.448283452868, -8292.439026642767],\n",
       "    iter=90,\n",
       "    n_iter=1000,\n",
       "    tol=0.01,\n",
       "    verbose=False,\n",
       ")"
      ]
     },
     "execution_count": 38,
     "metadata": {},
     "output_type": "execute_result"
    }
   ],
   "source": [
    "#%%script echo edit before execution\n",
    "\n",
    "\n",
    "N_ini = 1\n",
    "N_iter = 1000\n",
    "P_assumed = np.array([ [0.9, 0.1],\n",
    "                       [0.1, 0.9] ])\n",
    "\n",
    "E_assumed = np.array([ [0.75, 0.125, 0.125],\n",
    "                       [0.33, 0.33, 0.34] ])\n",
    "np.random.seed(42)\n",
    "#first_model = hmm.MultinomialHMM(n_components=2, n_iter=1, init_params='ste')\n",
    "#first_model.fit(X)\n",
    "\n",
    "best_first_model = None\n",
    "best_first_score = -1e81\n",
    "\n",
    "for i in range(30):\n",
    "    curr_model = hmm.MultinomialHMM(n_components=2, n_iter=1000, init_params='st') # as a default it randomizes all matrices\n",
    "    # if we set init_params to 'se' we can now use:\n",
    "    # curr_model.transmat_ = P_assumed # to set where to start the search for the transitin matrix\n",
    "#    curr_model.transmat_ = P_assumed\n",
    "    curr_model.emissionprob_ = np.array( [ [1/3, 1/3, 1/3],\n",
    "                                           [1/3, 1/3, 1/3] ])\n",
    "    curr_model.fit(X)\n",
    "    curr_score = curr_model.score(X)\n",
    "    if curr_score > best_first_score:\n",
    "        best_first_score = curr_score\n",
    "        best_first_model = curr_model\n",
    "\n",
    "\n",
    "\n",
    "best_score = -1e81 # something really small\n",
    "best_model = None\n",
    "        \n",
    "for i in range(30):\n",
    "    curr_model = hmm.MultinomialHMM(n_components=2, n_iter=1000, init_params='st') # as a default it randomizes all matrices\n",
    "    # if we set init_params to 'se' we can now use:\n",
    "    # curr_model.transmat_ = P_assumed # to set where to start the search for the transitin matrix\n",
    "#    curr_model.transmat_ = P_assumed\n",
    "    curr_model.emissionprob_ = E_assumed\n",
    "    curr_model.fit(X)\n",
    "    curr_score = curr_model.score(X)\n",
    "    if curr_score > best_score:\n",
    "        best_score = curr_score\n",
    "        best_model = curr_model\n",
    "\n",
    "\n",
    "print(f'best_first_score {best_first_score}')\n",
    "print(f'best_score {best_score}')\n",
    "_,Zv = best_model.decode(X)\n",
    "HMM_inspect(Zv,X)\n",
    "compareHMM(best_first_model, best_model)\n",
    "\n",
    "curr_model.monitor_\n",
    "\n",
    "\n",
    "#_,Zv = best_model.decode(X)"
   ]
  },
  {
   "cell_type": "code",
   "execution_count": 41,
   "metadata": {},
   "outputs": [
    {
     "name": "stdout",
     "output_type": "stream",
     "text": [
      "best_score -8585.607581952847\n"
     ]
    },
    {
     "data": {
      "image/png": "[encoded data removed]",
      "text/plain": [
       "<Figure size 720x504 with 6 Axes>"
      ]
     },
     "metadata": {
      "needs_background": "light"
     },
     "output_type": "display_data"
    }
   ],
   "source": [
    "np.random.seed(42)\n",
    "random_model = hmm.MultinomialHMM(n_components=2, n_iter=1, init_params='ste')\n",
    "random_model.fit(X)\n",
    "print(f'best_score {random_model.score(X)}')\n",
    "compareHMM(random_model, best_model)"
   ]
  },
  {
   "cell_type": "markdown",
   "metadata": {
    "id": "gWiVt0vNNsPS"
   },
   "source": [
    "# Presentation"
   ]
  },
  {
   "cell_type": "markdown",
   "metadata": {
    "id": "xPW--6V0NvgJ"
   },
   "source": [
    "Present your efforts and the resulting transition and emission probabilities. Maybe you want to compare several models.\n",
    "\n",
    "(You might want to utilize some visualizations from the previous lecture)"
   ]
  },
  {
   "cell_type": "code",
   "execution_count": null,
   "metadata": {
    "id": "ErK4cQXsNG8i"
   },
   "outputs": [],
   "source": [
    "# some convenience functions\n",
    "from matplotlib.colors import Normalize\n",
    "\n",
    "# plot matrix (with title and numbers)\n",
    "def plotMatrix(ax, mat, title, cm, normalizer):\n",
    "  ax.imshow(mat, cmap=cm, norm=normalizer)\n",
    "  for (j,i),label in np.ndenumerate(mat):\n",
    "    ax.text(i,j,np.round(label,2),ha='center',va='center')\n",
    "    ax.set_title(title)\n",
    "\n",
    "# compare two models\n",
    "def compareHMM(model, model_fit):\n",
    "  ## Visualization ###\n",
    "  my_cm=plt.cm.Blues        # set color-map\n",
    "  normalizer=Normalize(0,1) # set common color code for trans and emission probs \n",
    "\n",
    "  fig, ax = plt.subplots(3, 2, \n",
    "      gridspec_kw={'width_ratios': [1, 3], 'height_ratios': [1, 1, 0.1]},\n",
    "      figsize=(10,7))\n",
    "\n",
    "  plotMatrix(ax[0,0], model.transmat_, 'trans - orig', my_cm, normalizer)\n",
    "  plotMatrix(ax[0,1], model.emissionprob_, 'emissions - orig', my_cm, normalizer)\n",
    "  plotMatrix(ax[1,0], model_fit.transmat_, 'trans - fit', my_cm, normalizer)\n",
    "  plotMatrix(ax[1,1], model_fit.emissionprob_, 'emissions - fit', my_cm, normalizer)\n",
    "\n",
    "  # add colorbar with common color scale (set by im)\n",
    "  im = plt.cm.ScalarMappable( cmap=my_cm, norm=normalizer) \n",
    "  fig.colorbar(im, cax=ax[2,0], orientation='horizontal')\n",
    "  fig.colorbar(im, cax=ax[2,1], orientation='horizontal')\n",
    "  plt.show()"
   ]
  },
  {
   "cell_type": "code",
   "execution_count": null,
   "metadata": {
    "id": "4YKhVFxnB03O"
   },
   "outputs": [],
   "source": [
    "compareHMM(best_model,b_model)"
   ]
  }
 ],
 "metadata": {
  "colab": {
   "authorship_tag": "ABX9TyOx8YTZD+R6hyKc/CRIaWiZ",
   "collapsed_sections": [],
   "name": "HMM_005_project.ipynb",
   "provenance": []
  },
  "kernelspec": {
   "display_name": "Python 3 (ipykernel)",
   "language": "python",
   "name": "python3"
  },
  "language_info": {
   "codemirror_mode": {
    "name": "ipython",
    "version": 3
   },
   "file_extension": ".py",
   "mimetype": "text/x-python",
   "name": "python",
   "nbconvert_exporter": "python",
   "pygments_lexer": "ipython3",
   "version": "3.9.5"
  }
 },
 "nbformat": 4,
 "nbformat_minor": 4
}
