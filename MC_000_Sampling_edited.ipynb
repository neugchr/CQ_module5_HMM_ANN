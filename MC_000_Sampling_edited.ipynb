{
 "cells": [
  {
   "cell_type": "markdown",
   "metadata": {
    "id": "DKpbVcPHi8n1"
   },
   "source": [
    "[![Open In Colab](https://colab.research.google.com/assets/colab-badge.svg)](https://colab.research.google.com/github/thomasmanke/ABS/blob/main/Notebooks/MarkovChains/MC_000_Sampling.ipynb)"
   ]
  },
  {
   "cell_type": "markdown",
   "metadata": {
    "id": "EJ670sT9--4_"
   },
   "source": [
    "# Introduction: What are Models ?"
   ]
  },
  {
   "cell_type": "markdown",
   "metadata": {
    "id": "pDwMav7uLWLI"
   },
   "source": [
    "- **Mechanistic models**: describe process in terms of parameters:\n",
    "$$ \\frac{d x}{d t} = f(x, \\Theta) ~~~~~\\mbox{e.g. Newton:}~ \\frac{d p}{d t} = F(x,m,g)$$\n",
    "\n",
    "     - simplifying assumption\n",
    "     - causal input-output relations\n",
    "\n",
    "- **Statistical models**: Describe data (distributions) in terms of parameters:\n",
    "$$ X \\propto f(\\Theta) ~~~~~\\mbox{e.g. Gauss:}~ X \\propto N(\\mu, \\sigma^2)$$\n",
    "  \n",
    "  - simplifying assumptions (or CLT) \n",
    "  - model $\\ne$ mechanism\n",
    "\n",
    "\n"
   ]
  },
  {
   "cell_type": "markdown",
   "metadata": {
    "id": "OpOXkPS657gM",
    "jp-MarkdownHeadingCollapsed": true,
    "tags": []
   },
   "source": [
    "## Statistical Models as Number Generators\n",
    "\n",
    "Statistical models are machines that can generate numbers (according to some rules and given certain parameters). \n",
    "\n",
    "![human_height](https://ourworldindata.org/uploads/2019/06/distribution-1-775x550.png)\n",
    "\n",
    "(Source: ourworldindata.org)\n",
    "\n",
    "\n"
   ]
  },
  {
   "cell_type": "markdown",
   "metadata": {
    "id": "QZnlprf7b7lT"
   },
   "source": [
    "**Assumption:** measurements can be characterised by a (parametric) random process.\n",
    "\n",
    "**Distinguish:** discrete and continuous distributions and give examples"
   ]
  },
  {
   "cell_type": "markdown",
   "metadata": {
    "id": "2YpdmqA_O01M"
   },
   "source": [
    "## Discussion: What can you do with models? Why are some useful?"
   ]
  },
  {
   "cell_type": "markdown",
   "metadata": {
    "id": "Z5asJXxgOMgf"
   },
   "source": [
    "- Decision making.\n",
    "- Scoring of observations. Calculate probabilities: $Pr(X| \\mu, \\sigma^2)$\n",
    "- Prediction. (Generate numbers that look like real world data.)\n",
    "- Classification: $Pr(X| arrrgh too fast$\n",
    "- Fitting and Data Compression.\n",
    "\n"
   ]
  },
  {
   "cell_type": "markdown",
   "metadata": {
    "id": "9Er9vlE6e-Dt"
   },
   "source": [
    "# Sampling with Python\n",
    "\n",
    "For the rest of the day we will only need some basic Python packages and libraries.\n",
    "First they need to be installed and loaded. \n",
    "\n",
    "Notice that some libraries come with the standard Python installation, others may already\n",
    "have been pre-installed on the system."
   ]
  },
  {
   "cell_type": "code",
   "execution_count": 2,
   "metadata": {
    "id": "_Uf8Fj4iCAr2"
   },
   "outputs": [],
   "source": [
    "!pip list"
   ]
  },
  {
   "cell_type": "markdown",
   "metadata": {
    "id": "AXbR9lQSCAr2",
    "tags": []
   },
   "source": [
    "## Install Libraries \n",
    "... this needs to be run only once (if the libraries below were not yet installed).\n",
    "\n",
    "\n",
    "\n",
    "You can remove this line or comment it out if you need this installation step.\n"
   ]
  },
  {
   "cell_type": "code",
   "execution_count": null,
   "metadata": {
    "colab": {
     "base_uri": "https://localhost:8080/"
    },
    "executionInfo": {
     "elapsed": 11,
     "status": "ok",
     "timestamp": 1654180569172,
     "user": {
      "displayName": "Thomas Manke",
      "userId": "17591636328965298454"
     },
     "user_tz": -120
    },
    "id": "hPn1eyugCAr3",
    "outputId": "bcc14261-baa3-4b76-9357-9b94640877d3",
    "tags": []
   },
   "outputs": [
    {
     "name": "stdout",
     "output_type": "stream",
     "text": [
      "skip installation\n"
     ]
    }
   ],
   "source": [
    "%%script echo skip installation\n",
    "!pip install matplotlib"
   ]
  },
  {
   "cell_type": "markdown",
   "metadata": {
    "id": "6cuG2YbLm0V9"
   },
   "source": [
    "## Load Libraries"
   ]
  },
  {
   "cell_type": "code",
   "execution_count": 3,
   "metadata": {
    "executionInfo": {
     "elapsed": 198,
     "status": "ok",
     "timestamp": 1654258358534,
     "user": {
      "displayName": "Thomas Manke",
      "userId": "17591636328965298454"
     },
     "user_tz": -120
    },
    "id": "huS5cv6RmiN6",
    "tags": []
   },
   "outputs": [],
   "source": [
    "import numpy as np\n",
    "import matplotlib.pyplot as plt\n",
    "\n",
    "# line magic: enable plotting below code cell\n",
    "%matplotlib inline "
   ]
  },
  {
   "cell_type": "markdown",
   "metadata": {
    "id": "A8u0RVAuS49_"
   },
   "source": [
    "## Sampling from Poisson\n",
    "\n",
    "- generates integer numbers $X\\ge 0$\n",
    "- **useful** for count data (horse accidents per year, number of birth per year, sequence reads per genome region)\n",
    "- **simple:** only one parameter, $\\lambda$ (=expected counts)\n"
   ]
  },
  {
   "cell_type": "code",
   "execution_count": 4,
   "metadata": {
    "colab": {
     "base_uri": "https://localhost:8080/",
     "height": 265
    },
    "executionInfo": {
     "elapsed": 6,
     "status": "ok",
     "timestamp": 1654180569173,
     "user": {
      "displayName": "Thomas Manke",
      "userId": "17591636328965298454"
     },
     "user_tz": -120
    },
    "id": "oT8UfmaY-W9m",
    "outputId": "3ae85dde-7fcd-47de-bbc9-c5bcf2fe40e2"
   },
   "outputs": [
    {
     "data": {
      "image/png": "[encoded data removed]",
      "text/plain": [
       "<Figure size 432x288 with 1 Axes>"
      ]
     },
     "metadata": {
      "needs_background": "light"
     },
     "output_type": "display_data"
    }
   ],
   "source": [
    "np.random.seed(42)\n",
    "X = np.random.poisson(lam=1.0, size=1000)\n",
    "H = plt.hist(X)"
   ]
  },
  {
   "cell_type": "markdown",
   "metadata": {
    "id": "TzDuKsjP_iFi"
   },
   "source": [
    "## Exploration\n",
    "**Group Task (15 min):**  \n",
    "\n",
    "Which other (famous) distributions are possible ? \n",
    "Explore and modify the cell below. \n",
    "\n",
    "Report back to the class:\n",
    "- which distribution was chosen?\n",
    "- how many parameters ?\n",
    "- what is it useful for ?"
   ]
  },
  {
   "cell_type": "code",
   "execution_count": 10,
   "metadata": {
    "colab": {
     "base_uri": "https://localhost:8080/"
    },
    "executionInfo": {
     "elapsed": 3,
     "status": "ok",
     "timestamp": 1654258003885,
     "user": {
      "displayName": "Thomas Manke",
      "userId": "17591636328965298454"
     },
     "user_tz": -120
    },
    "id": "IOJ-xFyBAAlL",
    "outputId": "7544e7ab-b1c7-4939-ba9b-00804f30e51e"
   },
   "outputs": [
    {
     "data": {
      "image/png": "[encoded data removed]",
      "text/plain": [
       "<Figure size 432x288 with 1 Axes>"
      ]
     },
     "metadata": {
      "needs_background": "light"
     },
     "output_type": "display_data"
    }
   ],
   "source": [
    "#%%script echo edit before execution\n",
    "X = np.random.pareto(3.2,1000)\n",
    "H = plt.hist(X)\n",
    "\n",
    "## you might prefer barplot for discrete distributions\n",
    "#labels, counts = np.unique(X, return_counts=True)\n",
    "#B = plt.bar(labels, counts, align='center', width=0.2)"
   ]
  },
  {
   "cell_type": "markdown",
   "metadata": {
    "id": "bZ_OT9d9kiED"
   },
   "source": [
    "**Some ideas:**\n",
    "\n",
    "- Change parameters\n",
    "- change size\n",
    "- chose another distribution\n",
    "- barplot instead of histogram\n",
    "\n",
    "Some suggestions can be found here: https://en.wikipedia.org/wiki/List_of_probability_distributions#Discrete_distributions\n",
    "\n",
    "Their Python/numpy implementations are here: https://numpy.org/doc/1.16/reference/routines.random.html\n",
    "\n",
    "**Tip:** \n",
    "\n",
    "Try \"Shift-Tab\" to activate Jupyter help (next to your module of interest), or try \"np.random?\"\n"
   ]
  },
  {
   "cell_type": "markdown",
   "metadata": {
    "id": "24hhKodQ7Wfs",
    "tags": []
   },
   "source": [
    "## Sampling from (any) distribution\n",
    "\n",
    "We can build our own machine ...\n",
    "For example; we could sample from a list of countries to visit"
   ]
  },
  {
   "cell_type": "code",
   "execution_count": 35,
   "metadata": {
    "id": "BZnXzIqZ55hz"
   },
   "outputs": [
    {
     "name": "stdout",
     "output_type": "stream",
     "text": [
      "['C' 'C' 'C' 'C']['B' 'B' 'A' 'C']['C' 'C' 'A' 'C']['C' 'B' 'B' 'B']['C' 'C' 'C' 'B']['C' 'B' 'B' 'C']['C' 'C' 'B' 'C']['C' 'A' 'C' 'B']['A' 'C' 'C' 'C']['C' 'A' 'C' 'C']\n",
      "[['C' 'C' 'C' 'C']\n",
      " ['B' 'B' 'A' 'C']\n",
      " ['C' 'C' 'A' 'C']\n",
      " ['C' 'B' 'B' 'B']\n",
      " ['C' 'C' 'C' 'B']\n",
      " ['C' 'B' 'B' 'C']\n",
      " ['C' 'C' 'B' 'C']\n",
      " ['C' 'A' 'C' 'B']\n",
      " ['A' 'C' 'C' 'C']\n",
      " ['C' 'A' 'C' 'C']]\n"
     ]
    },
    {
     "data": {
      "image/png": "[encoded data removed]",
      "text/plain": [
       "<Figure size 432x288 with 1 Axes>"
      ]
     },
     "metadata": {
      "needs_background": "light"
     },
     "output_type": "display_data"
    }
   ],
   "source": [
    "np.random.seed(42)\n",
    "L    = ['A',  'B',  'C']     # list of my favorite countries\n",
    "prob = [0.1, 0.2, 0.7]       # corresponding probabilities \n",
    "#X = np.random.choice(a=L, p=prob, size=1000)\n",
    "X = np.random.choice(a=L, p=prob, size=[10,4])\n",
    "\n",
    "print(*X, sep='')\n",
    "print(X)\n",
    "H = plt.hist(X)"
   ]
  },
  {
   "cell_type": "markdown",
   "metadata": {
    "id": "O_F5oyFU6Rk6"
   },
   "source": [
    "**Discussion:** Is it useful? How many parameters does it have?"
   ]
  },
  {
   "cell_type": "markdown",
   "metadata": {
    "id": "EWype-pkcwFB"
   },
   "source": [
    "**Lesson:** Sampling is not confined to numbers. In general we sample from sets (\"events\", \"states\")."
   ]
  },
  {
   "cell_type": "markdown",
   "metadata": {
    "id": "onA7l1HPxwDt"
   },
   "source": [
    "**Task (5 min):** What happens if we\n",
    "1. remove  p=prob\n",
    "2. replace p=[0.5, 0.5, 0.1]\n",
    "2. replace size=[250,4] or remove this parameter\n",
    "\n",
    "Try it out below and consult https://numpy.org/doc/stable/reference/random/generated/numpy.random.choice.html"
   ]
  },
  {
   "cell_type": "code",
   "execution_count": 2,
   "metadata": {
    "colab": {
     "base_uri": "https://localhost:8080/"
    },
    "executionInfo": {
     "elapsed": 193,
     "status": "ok",
     "timestamp": 1654258340966,
     "user": {
      "displayName": "Thomas Manke",
      "userId": "17591636328965298454"
     },
     "user_tz": -120
    },
    "id": "OTHxXV1DduRU",
    "outputId": "9faaffa3-9f1e-456c-c1b9-f4ae7d6e644a"
   },
   "outputs": [
    {
     "name": "stdout",
     "output_type": "stream",
     "text": [
      "edit before execution\n"
     ]
    }
   ],
   "source": [
    "%%script echo edit before execution\n",
    "X = [ ... your choices...]\n",
    "H = plt.hist(X)"
   ]
  }
 ],
 "metadata": {
  "colab": {
   "collapsed_sections": [
    "OpOXkPS657gM"
   ],
   "name": "MC_000_Sampling.ipynb",
   "provenance": [],
   "toc_visible": true
  },
  "kernelspec": {
   "display_name": "Python 3 (ipykernel)",
   "language": "python",
   "name": "python3"
  },
  "language_info": {
   "codemirror_mode": {
    "name": "ipython",
    "version": 3
   },
   "file_extension": ".py",
   "mimetype": "text/x-python",
   "name": "python",
   "nbconvert_exporter": "python",
   "pygments_lexer": "ipython3",
   "version": "3.9.5"
  }
 },
 "nbformat": 4,
 "nbformat_minor": 4
}
