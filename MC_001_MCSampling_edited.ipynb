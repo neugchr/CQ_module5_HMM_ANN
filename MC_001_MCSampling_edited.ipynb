{
 "cells": [
  {
   "cell_type": "markdown",
   "metadata": {
    "id": "FkekGi6um5xh"
   },
   "source": [
    "[![Open In Colab](https://colab.research.google.com/assets/colab-badge.svg)](https://colab.research.google.com/github/thomasmanke/ABS/blob/main/Notebooks/MarkovChains/MC_001_MCSampling.ipynb)"
   ]
  },
  {
   "cell_type": "markdown",
   "metadata": {
    "id": "E1DFkwtNry9v"
   },
   "source": [
    "# Markov Chain Sampling"
   ]
  },
  {
   "cell_type": "markdown",
   "metadata": {
    "id": "9AxEWXawELse"
   },
   "source": [
    "## Background "
   ]
  },
  {
   "cell_type": "markdown",
   "metadata": {
    "id": "Y3ejd9auHyQT"
   },
   "source": [
    "In the models discussed previously, all observations were sampled independently of each other, and from the same distribution (*iid*): \n",
    "\n",
    "$$X \\propto N(\\mu, \\sigma^2)$$\n",
    "\n",
    "In higher dimensional models $X$ can be a vector with correlations among its components, but different observations of this vector would still be independent of each other.\n",
    "\n",
    "Let's relax this. Assume the next state will depend (**only**) on the current state. In the travel analogy: don't sample countries independently, but travel (sample) along some biased paths.\n",
    "\n",
    "The future is only a function of the present (and some parameters):\n",
    "\n",
    "$$x_{t+1} = f(x_t, \\theta)$$\n",
    "\n",
    "This is similar to **deterministic** physical laws, but with added stochasticity. \n",
    "\n",
    "\n",
    "A Markov Process generates a sequence (a Markov chain) of states: \n",
    "$X = (X_0, X_1, \\ldots)$ where each $X_t$ is a random variable and\n",
    "\n",
    "\n",
    "$$Pr(X_{t+1} | X_t, X_{t-1}, \\ldots X_1) = Pr(X_{t+1} | X_t) $$\n",
    "\n",
    "\n",
    "Markov Chain is a **memory-less** stochastic process: the present state encodes all the history.\n",
    "\n",
    "In Statistics parlance: Given the Present, the Future is conditionally independent of the Past.\n",
    "<div>\n",
    "   <img src=\"https://github.com/thomasmanke/ABS/raw/main/figures/MC_DeterministicStatistic.jpg\",  width=\"1000\">\n",
    "</div>\n",
    "\n",
    "\n",
    "\n",
    "\n",
    "\n"
   ]
  },
  {
   "cell_type": "markdown",
   "metadata": {
    "id": "Fyg-forO9Po-"
   },
   "source": [
    "## Some History "
   ]
  },
  {
   "cell_type": "markdown",
   "metadata": {
    "id": "KdjdfUP2GM41"
   },
   "source": [
    "<div>\n",
    "   <img src=\"https://upload.wikimedia.org/wikipedia/commons/7/70/AAMarkov.jpg\" align=\"right\" width=\"200\">\n",
    "</div>\n",
    "\n",
    "Andrey Markov (1856-1922)\n",
    "- study processes which are not iid\n",
    "- Law of Large Numbers does not depend on iid assumption\n",
    "- 1st Markov model: words with 2 states (consonant, vowel)"
   ]
  },
  {
   "cell_type": "markdown",
   "metadata": {
    "id": "0HOoAVuGZJmg"
   },
   "source": [
    "## A travel story"
   ]
  },
  {
   "cell_type": "markdown",
   "metadata": {
    "id": "uVaaqDhjbgbN"
   },
   "source": [
    "<div>\n",
    "   <img src=\"https://github.com/thomasmanke/ABS/raw/main/figures/MC_TravelStory.jpg\",  width=\"600\">\n",
    "</div>\n"
   ]
  },
  {
   "cell_type": "markdown",
   "metadata": {
    "id": "4z2ov-288c2t"
   },
   "source": [
    "# Representations"
   ]
  },
  {
   "cell_type": "markdown",
   "metadata": {
    "id": "7mx8fxkO88_D"
   },
   "source": [
    "## Encodings"
   ]
  },
  {
   "cell_type": "markdown",
   "metadata": {
    "id": "0zEqzjfz9EXr"
   },
   "source": [
    "In this course we will assume that possible values for states $X_t$ are *discrete*. There are different possible **encodings**: \n",
    "- {0,1,2,3}\n",
    "- {A,B,C,D} or {A,C,G,T}\n",
    "- {00, 01, 10, 11}\n",
    "- ...\n",
    "\n",
    "For computational convenience we often use integers, possibly with an added dictionary when necessary."
   ]
  },
  {
   "cell_type": "markdown",
   "metadata": {
    "id": "dNVuyZV3-QO-"
   },
   "source": [
    "## The Markov chain"
   ]
  },
  {
   "cell_type": "markdown",
   "metadata": {
    "id": "mbYQXaRo-mR5"
   },
   "source": [
    "<div>\n",
    "   <img src=\"https://github.com/thomasmanke/ABS/raw/main/figures/MC_MarkovChain.jpg\",  width=\"1000\">\n",
    "</div>\n"
   ]
  },
  {
   "cell_type": "markdown",
   "metadata": {
    "id": "JgsweiXW8xGW"
   },
   "source": [
    "## The State graph"
   ]
  },
  {
   "cell_type": "markdown",
   "metadata": {
    "id": "ZEqqJZk69DB2"
   },
   "source": [
    "An image says a thousand words:\n",
    "\n",
    "<div>\n",
    "   <img src=\"https://github.com/thomasmanke/ABS/raw/main/figures/MC_StateGraph.jpg\" width=\"1000\">\n",
    "</div>\n",
    "\n",
    "\n",
    "\n"
   ]
  },
  {
   "cell_type": "markdown",
   "metadata": {
    "id": "azQ40Ooy-dsU"
   },
   "source": [
    "## The transition matrix"
   ]
  },
  {
   "cell_type": "markdown",
   "metadata": {
    "id": "80wGwkt7_XVL"
   },
   "source": [
    "Matrices help for actual computation:"
   ]
  },
  {
   "cell_type": "markdown",
   "metadata": {
    "id": "lB-uZoBR-YaC"
   },
   "source": [
    "$$\n",
    "P = \\begin{bmatrix} \n",
    "0.8   &  0.2 \\\\ \n",
    "0.1   &  0.9 \n",
    "\\end{bmatrix} \n",
    "$$"
   ]
  },
  {
   "cell_type": "markdown",
   "metadata": {
    "id": "G70F7NMH8keG"
   },
   "source": [
    "## The Trellis graph"
   ]
  },
  {
   "cell_type": "markdown",
   "metadata": {
    "id": "u1eP8VqX8odP"
   },
   "source": [
    "Example for 4 different states:\n",
    "<div>\n",
    "   <img src=\"https://upload.wikimedia.org/wikipedia/commons/thumb/a/a0/Convolutional_code_trellis_diagram.svg/2880px-Convolutional_code_trellis_diagram.svg.png\"  width=\"1000\">\n",
    "</div>\n",
    "\n",
    "An observed sequence $X$ is a specific path (one of many possible) through the lattice diagram (shown in red)."
   ]
  },
  {
   "cell_type": "markdown",
   "metadata": {
    "id": "p_2Na1Cu7f9V"
   },
   "source": [
    "## Check:\n",
    "\n",
    "Are you comfortable to swap between the 4 representations? We'll use them a lot.\n",
    "\n",
    "---\n",
    "\n",
    "---"
   ]
  },
  {
   "cell_type": "markdown",
   "metadata": {
    "id": "5G39eb87fCW1"
   },
   "source": [
    "## Discussion\n",
    "Suggest other examples of Markov chains.\n",
    "\n",
    "- What are the observables and what are transitions ?\n",
    "- How would you represent this system?\n",
    "- Are there examples of sequences that **cannot** be described by simple transitions?\n",
    "\n",
    "Inspirational link: https://en.wikipedia.org/wiki/Examples_of_Markov_chains"
   ]
  },
  {
   "cell_type": "markdown",
   "metadata": {
    "id": "0XIsJC2bVYBY"
   },
   "source": [
    "## Polls:\n",
    "\n",
    "\n",
    "**Example 1:** drawing coloured balls from a mixed bag. Colour=random variable=state.\n",
    "1. without replacement --> Markovian?\n",
    "2. with replacement --> Markovian? \n",
    "\n",
    "**Example 2:** from physics/mechanics: Consider flying object at time t. What is the state of the object?\n",
    "1. state=position --> Markovian?\n",
    "2. state=position+velocity --> Markovian?"
   ]
  },
  {
   "cell_type": "markdown",
   "metadata": {
    "id": "zXnkzWLo4LgU"
   },
   "source": [
    "# Markov Chains with Python"
   ]
  },
  {
   "cell_type": "markdown",
   "metadata": {
    "id": "JCyWsB0VW1Xk"
   },
   "source": [
    "### Define Transition Matrix"
   ]
  },
  {
   "cell_type": "code",
   "execution_count": 1,
   "metadata": {
    "executionInfo": {
     "elapsed": 6,
     "status": "ok",
     "timestamp": 1654617557345,
     "user": {
      "displayName": "Thomas Manke",
      "userId": "17591636328965298454"
     },
     "user_tz": -120
    },
    "id": "Du2t2exehhpl"
   },
   "outputs": [],
   "source": [
    "import numpy as np\n",
    "import matplotlib.pyplot as plt"
   ]
  },
  {
   "cell_type": "code",
   "execution_count": 68,
   "metadata": {
    "executionInfo": {
     "elapsed": 232,
     "status": "ok",
     "timestamp": 1654617568269,
     "user": {
      "displayName": "Thomas Manke",
      "userId": "17591636328965298454"
     },
     "user_tz": -120
    },
    "id": "52Pdr6f2Otnn"
   },
   "outputs": [],
   "source": [
    "P = [[0.8, 0.2], [0.1, 0.9]]"
   ]
  },
  {
   "cell_type": "markdown",
   "metadata": {
    "id": "YiQpbb4D9-mM"
   },
   "source": [
    "**Question**: What type of data structure is P: List, Set, Tuple ?"
   ]
  },
  {
   "cell_type": "code",
   "execution_count": 3,
   "metadata": {
    "colab": {
     "base_uri": "https://localhost:8080/"
    },
    "executionInfo": {
     "elapsed": 210,
     "status": "ok",
     "timestamp": 1654617620113,
     "user": {
      "displayName": "Thomas Manke",
      "userId": "17591636328965298454"
     },
     "user_tz": -120
    },
    "id": "BZqoP8zI-QUw",
    "outputId": "725dceb1-cb62-4417-b54b-4959d9077609"
   },
   "outputs": [
    {
     "name": "stdout",
     "output_type": "stream",
     "text": [
      "type of P    <class 'list'>\n",
      "length of P  2\n"
     ]
    }
   ],
   "source": [
    "#%%script echo Edit before executing\n",
    "print('type of P   ',  type(P) )\n",
    "print('length of P ', len(P) )"
   ]
  },
  {
   "cell_type": "markdown",
   "metadata": {
    "id": "zyi9b_Q0-iMs"
   },
   "source": [
    "Let's convert $P$ into numpy array:"
   ]
  },
  {
   "cell_type": "code",
   "execution_count": 71,
   "metadata": {
    "colab": {
     "base_uri": "https://localhost:8080/"
    },
    "executionInfo": {
     "elapsed": 218,
     "status": "ok",
     "timestamp": 1654617626768,
     "user": {
      "displayName": "Thomas Manke",
      "userId": "17591636328965298454"
     },
     "user_tz": -120
    },
    "id": "XVZk0d30-ahV",
    "outputId": "d24c7ff5-598e-4490-d18f-07f7d61907f2",
    "tags": []
   },
   "outputs": [
    {
     "name": "stdout",
     "output_type": "stream",
     "text": [
      "dimensionality of P:  2\n",
      "shape of P:           (2, 2)\n"
     ]
    }
   ],
   "source": [
    "P = np.array(P)\n",
    "print('dimensionality of P: ', P.ndim)\n",
    "print('shape of P:          ', P.shape)"
   ]
  },
  {
   "cell_type": "code",
   "execution_count": 13,
   "metadata": {},
   "outputs": [
    {
     "name": "stdout",
     "output_type": "stream",
     "text": [
      "[1. 1.]\n"
     ]
    }
   ],
   "source": [
    "print(P.sum(axis=1) )"
   ]
  },
  {
   "cell_type": "markdown",
   "metadata": {
    "id": "EuGEbY0pQU_0"
   },
   "source": [
    "**Defensive Programming:** Check Transition Matrix $P$"
   ]
  },
  {
   "cell_type": "code",
   "execution_count": 17,
   "metadata": {
    "executionInfo": {
     "elapsed": 225,
     "status": "ok",
     "timestamp": 1654617636221,
     "user": {
      "displayName": "Thomas Manke",
      "userId": "17591636328965298454"
     },
     "user_tz": -120
    },
    "id": "8eqIhfAw5OiP"
   },
   "outputs": [
    {
     "name": "stdout",
     "output_type": "stream",
     "text": [
      "[0.1 0.9]\n"
     ]
    }
   ],
   "source": [
    "  assert P.shape[0]==P.shape[1],         \"P should be a squared matrix\"\n",
    "    # common convention is that first dimension is rows, second columns\n",
    "  assert np.allclose( P.sum(axis=1), 1), \"P should be a stochastic matrix\"\n",
    "    # allclose checks if the sums are close to one within numerical precision on a computer"
   ]
  },
  {
   "cell_type": "markdown",
   "metadata": {
    "id": "2FjAgzuw5waw"
   },
   "source": [
    "**Task (10 min):**:\n",
    "\n",
    "Chose a state $X$, then chose (probabilistically) the next state with probability given by the transition matrix $P$.\n",
    "\n",
    "Hint1: use integer encoding of state variable\n",
    "\n",
    "Hint2: use np.random.choice()"
   ]
  },
  {
   "cell_type": "code",
   "execution_count": 35,
   "metadata": {
    "colab": {
     "base_uri": "https://localhost:8080/"
    },
    "executionInfo": {
     "elapsed": 208,
     "status": "ok",
     "timestamp": 1654618119729,
     "user": {
      "displayName": "Thomas Manke",
      "userId": "17591636328965298454"
     },
     "user_tz": -120
    },
    "id": "SPJ-_-_i6hry",
    "outputId": "955e68d4-9f94-44f7-d854-62dcb76d0d7b"
   },
   "outputs": [
    {
     "name": "stdout",
     "output_type": "stream",
     "text": [
      "[0, 0, 1, 1, 1, 1, 1, 0, 1, 1, 1, 0, 1, 1, 1, 1, 1, 1, 1, 1, 1, 1, 1, 1, 1, 1, 1, 1, 1, 1, 0, 0, 0, 0, 1, 1, 1, 1, 0, 0, 0, 0, 0, 0, 1, 1, 1, 1, 1, 1, 1, 1, 1, 1, 1, 1, 1, 0, 0, 0, 0, 0, 0, 1, 1, 1, 1, 1, 1, 0, 1, 1, 1, 0, 1, 1, 1, 1, 0, 0, 0, 1, 1, 1, 0, 0, 0, 0, 0, 1, 1, 1, 1, 1, 1, 1, 1, 1, 1]\n"
     ]
    }
   ],
   "source": [
    "#%%script echo Edit before executing\n",
    "np.random.seed(42)         # optional (for determinisitic reproducibility)\n",
    "X0= 0\n",
    "history=[X0]\n",
    "for i in range(1,99):\n",
    "    X1= np.random.choice(a=[0,1], p=P[history[-1]])\n",
    "    history.append(X1)\n",
    "print(history)"
   ]
  },
  {
   "cell_type": "markdown",
   "metadata": {
    "id": "3mmPrS2Yogyx"
   },
   "source": [
    "### Generate Sequences\n",
    "\n",
    "\n"
   ]
  },
  {
   "cell_type": "markdown",
   "metadata": {
    "id": "wZwfl9EZ7aka"
   },
   "source": [
    "**Task 10 min**: Repeat the ideas above to generate a sequence of 100 observations from Markov Model $P$"
   ]
  },
  {
   "cell_type": "code",
   "execution_count": 37,
   "metadata": {
    "id": "Db8ab-uIO_Tk"
   },
   "outputs": [
    {
     "name": "stdout",
     "output_type": "stream",
     "text": [
      "00111110111011111111111111111100001111000000111111111111100000011111101110111100011100000111111111100\n"
     ]
    }
   ],
   "source": [
    "#%%script echo Edit before executing\n",
    "# hupsi already solved above\n",
    "np.random.seed(42)\n",
    "ns= P.shape[0]     # obtain number of states from P\n",
    "X= 0      # pick initial state manually\n",
    "L1 = [ X ]   # add X to sequence of states\n",
    "\n",
    "# loop over 100 times\n",
    "for t in range(100):\n",
    "  X = np.random.choice(ns,p=P[X,:])  # pick next state from current state\n",
    "  L1.append(X)         # append it to list\n",
    "\n",
    "print(*L1, sep='')     # print sequence"
   ]
  },
  {
   "cell_type": "markdown",
   "metadata": {
    "id": "fbb2awY5OuP6"
   },
   "source": [
    "Congratulations! You have just generated your first Markov chain !"
   ]
  },
  {
   "cell_type": "markdown",
   "metadata": {
    "id": "fjCsWQSZWWMv"
   },
   "source": [
    "**Poll:** What happens if you comment out the first line? (Think first, then try)"
   ]
  },
  {
   "cell_type": "markdown",
   "metadata": {
    "id": "izBiVnlShu0J"
   },
   "source": [
    "---\n",
    "\n",
    "---\n"
   ]
  },
  {
   "cell_type": "markdown",
   "metadata": {
    "id": "rgPgo9zgKE4_"
   },
   "source": [
    "**Task (10min):** \n",
    "\n",
    "We will need the sequence generation again. Turn it into a function.\n",
    "\n",
    "Include the initial state $s$ and the maximal time $T$ as parameters with default values ($s=0, T=100$)\n",
    "\n",
    "Test the function for the $P$ above"
   ]
  },
  {
   "cell_type": "code",
   "execution_count": 81,
   "metadata": {
    "id": "wxd1e_VwKRM0"
   },
   "outputs": [],
   "source": [
    "#%%script echo Edit before executing\n",
    "def generate_sequence(P, s=0, T=100):\n",
    "    states_amt = P.shape[0]\n",
    "    if s>=states_amt:\n",
    "        raise Exception('starting state not within probability matrix')\n",
    "    else:\n",
    "        assert P.shape[0]==P.shape[1],         \"P should be a squared matrix\"\n",
    "        assert np.allclose( P.sum(axis=1), 1), \"P should be a stochastic matrix\"\n",
    "    history = [ s ]\n",
    "    for i in range(T+1):\n",
    "        X1= np.random.choice(a=states_amt, p=P[history[-1]])\n",
    "        history.append(X1)\n",
    "    return(history)"
   ]
  },
  {
   "cell_type": "code",
   "execution_count": 73,
   "metadata": {
    "id": "XC9vqwifLFbr"
   },
   "outputs": [
    {
     "name": "stdout",
     "output_type": "stream",
     "text": [
      "011111111111111111110000001111101111111100111111111100000000000000111000000000000000111111011111111111\n"
     ]
    }
   ],
   "source": [
    "X=generate_sequence(P)\n",
    "print(*X, sep='')"
   ]
  },
  {
   "cell_type": "markdown",
   "metadata": {
    "id": "peASSKM3MIsN"
   },
   "source": [
    "**Discussion:** The above example is very simplistic. Which changes would you suggest to make the function more robust?"
   ]
  },
  {
   "cell_type": "markdown",
   "metadata": {
    "id": "795mMOPf9TSi"
   },
   "source": [
    "<div class=\"alert alert-block alert-warning\">\n",
    "\n",
    "**Exercise (10 min)**:\n",
    "\n",
    "Repeat the above for a Markov chain with 3 states and transition matrix (or some other choice)\n",
    "\n",
    "$$P_3 = \\begin{bmatrix}\n",
    "0.8 & 0.1 & 0.1 \\\\\n",
    "0.2 & 0.7 & 0.1 \\\\\n",
    "0.1 & 0.2 & 0.7 \n",
    "\\end{bmatrix} $$\n",
    " </div>"
   ]
  },
  {
   "cell_type": "code",
   "execution_count": 95,
   "metadata": {
    "id": "aC70Fxo_-T50"
   },
   "outputs": [
    {
     "name": "stdout",
     "output_type": "stream",
     "text": [
      "000000000000200022212001200000222211111122110000000101111111112000000000021121100111120020000000000021200000011122211111111111200000111112200000000111200001100011111111120011221111111112000221202000000211112111120111211112120000220110111111111220000000000000000120000000011110211122000021201120000021101110000000000000000001111111211111111211112111000220000000012220000112111000000000011122200001100000120000111100000011111121111121111111000000000111100000000000000011111111221122000000111111111110000001222221111111111222111200000000001120000000001111111111221120000021111121221111000120000000000021111112000000000001111211111220000111121111211111111121021111112111000221112111220110121122212201111001112111112121111100000000000100111112212001100000001202200000001122000110001121020110022000000212112122210000000000000011122111121212100001111121111221200212122000000022111112200000000000120000000002000000000000000022010200000111110000000111110000000000111111100000112222100012111000112120111120000111\n"
     ]
    },
    {
     "data": {
      "image/png": "[encoded data removed]",
      "text/plain": [
       "<Figure size 432x288 with 1 Axes>"
      ]
     },
     "metadata": {
      "needs_background": "light"
     },
     "output_type": "display_data"
    }
   ],
   "source": [
    "#%%script echo Edit before executing\n",
    "P3 = np.array([[0.8, 0.15, 0.05],\n",
    "               [0.1, 0.7, 0.2],\n",
    "               [0.333, 0.333, 0.334]])\n",
    "\n",
    "X = generate_sequence(P3, T=1000)\n",
    "print(*X, sep='')\n",
    "H = plt.hist(X)"
   ]
  },
  {
   "cell_type": "markdown",
   "metadata": {
    "id": "PbkcT6b3-0Aa"
   },
   "source": [
    "## An animation"
   ]
  },
  {
   "cell_type": "markdown",
   "metadata": {
    "id": "lmA_kziMXWuM"
   },
   "source": [
    "There is a beautiful animation & visualization, but please be aware that they may not render well on all systems.\n",
    "\n",
    "- Visualization: https://setosa.io/markov/index.html\n",
    "- Explanation: https://setosa.io/ev/markov-chains\n",
    "\n"
   ]
  },
  {
   "cell_type": "markdown",
   "metadata": {
    "id": "clZIKp4O7cR0"
   },
   "source": [
    "## Coin throws"
   ]
  },
  {
   "cell_type": "markdown",
   "metadata": {
    "id": "DHPpAPQa7jNK"
   },
   "source": [
    "Throwing a *biased* coin is usually modelled as a Bernoulli process with success probability $p$ - i.e. the probability of obtaining heads.\n",
    "$$\n",
    "Pr(X=Heads) = p\n",
    "$$\n",
    "\n",
    "For an *unbiased* coin: $p=0.5$.\n",
    "\n",
    "However, this can also be formulated as a Markov Process.\n",
    "Let's encode the two possible states as (heads=0) and (tails=1) for numerical convenience - see figure."
   ]
  },
  {
   "cell_type": "markdown",
   "metadata": {
    "id": "aeThbM3z93a2"
   },
   "source": [
    "**Task (10 min):**\n",
    "\n",
    "Write down the corresponding transition matrix $P$ for a biased coin and simulate the coin throwing experiment - e.g. 50 throws for your favorite $p$."
   ]
  },
  {
   "cell_type": "code",
   "execution_count": 96,
   "metadata": {
    "colab": {
     "base_uri": "https://localhost:8080/"
    },
    "executionInfo": {
     "elapsed": 2,
     "status": "ok",
     "timestamp": 1652253618358,
     "user": {
      "displayName": "Thomas Manke",
      "userId": "17591636328965298454"
     },
     "user_tz": -120
    },
    "id": "fW_RV_4O-gGF",
    "outputId": "3f287ffd-5d75-47a9-bbf8-cadafa42b536"
   },
   "outputs": [
    {
     "name": "stdout",
     "output_type": "stream",
     "text": [
      "0111000100001011011100011100101000000000101111011100\n"
     ]
    }
   ],
   "source": [
    "#%%script echo Edit before executing\n",
    "p = 0.49\n",
    "P = np.array([ [p, 1-p],\n",
    "               [p, 1-p] # it is not [1-p, p] because then it would be more likely to come up with the same side it currently is\n",
    "             ]\n",
    "            )\n",
    "X = generate_sequence(P, T=50)\n",
    "print(*X, sep='')"
   ]
  },
  {
   "cell_type": "markdown",
   "metadata": {
    "id": "_40lQpsHCca_"
   },
   "source": [
    "# References\n",
    "\n",
    "- https://brilliant.org/wiki/markov-chains/\n",
    "\n",
    "- John Tsitsiklis (MIT, Prob. Systems): https://www.youtube.com/watch?v=IkbkEtOOC1Y\n",
    "- Joseph Blitzstein (Harvard, Stats110): https://www.youtube.com/watch?v=8AJPs3gvNlY\n"
   ]
  }
 ],
 "metadata": {
  "colab": {
   "collapsed_sections": [
    "4z2ov-288c2t",
    "7mx8fxkO88_D",
    "azQ40Ooy-dsU",
    "_40lQpsHCca_"
   ],
   "name": "MC_001_MCSampling.ipynb",
   "provenance": [],
   "toc_visible": true
  },
  "kernelspec": {
   "display_name": "Python 3 (ipykernel)",
   "language": "python",
   "name": "python3"
  },
  "language_info": {
   "codemirror_mode": {
    "name": "ipython",
    "version": 3
   },
   "file_extension": ".py",
   "mimetype": "text/x-python",
   "name": "python",
   "nbconvert_exporter": "python",
   "pygments_lexer": "ipython3",
   "version": "3.9.5"
  }
 },
 "nbformat": 4,
 "nbformat_minor": 4
}
