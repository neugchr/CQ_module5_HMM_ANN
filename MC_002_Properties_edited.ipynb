{
 "cells": [
  {
   "cell_type": "markdown",
   "metadata": {
    "id": "FkekGi6um5xh"
   },
   "source": [
    "[![Open In Colab](https://colab.research.google.com/assets/colab-badge.svg)](https://colab.research.google.com/github/thomasmanke/ABS/blob/main/Notebooks/MarkovChains/MC_002_Properties.ipynb)"
   ]
  },
  {
   "cell_type": "markdown",
   "metadata": {
    "id": "eBcpbeidC5tf"
   },
   "source": [
    "# Analysing Markov chain properties"
   ]
  },
  {
   "cell_type": "markdown",
   "metadata": {
    "id": "RvBkP1ymcFTV"
   },
   "source": [
    "## Preparations"
   ]
  },
  {
   "cell_type": "markdown",
   "metadata": {
    "id": "36CJgM09bhgx"
   },
   "source": [
    "Import Required Modules and Define Convenience Functions"
   ]
  },
  {
   "cell_type": "code",
   "execution_count": 1,
   "metadata": {
    "executionInfo": {
     "elapsed": 4,
     "status": "ok",
     "timestamp": 1654619135906,
     "user": {
      "displayName": "Thomas Manke",
      "userId": "17591636328965298454"
     },
     "user_tz": -120
    },
    "id": "9T6rVFQ5bMNZ"
   },
   "outputs": [],
   "source": [
    "import numpy as np\n",
    "import matplotlib.pyplot as plt\n",
    "\n",
    "def generate_sequence(P, s=0, T=100):\n",
    "\n",
    "  assert P.shape[0]==P.shape[1],         \"generate_sequence: P should be a squared matrix\"\n",
    "  assert np.allclose( P.sum(axis=1), 1), \"generate_sequence: P should be a stochastic matrix\"\n",
    "\n",
    "  ns = P.shape[0] # number of states\n",
    "  L = [s]         # initial state\n",
    "\n",
    "  # loop for T time steps\n",
    "  for t in range(T):\n",
    "    s = np.random.choice( ns, p = P[s, :] )\n",
    "    L.append(s)\n",
    "  return L"
   ]
  },
  {
   "cell_type": "markdown",
   "metadata": {
    "id": "loRGD_8Gaksa"
   },
   "source": [
    "Let's make sure we start from the same model (transition probabilities)"
   ]
  },
  {
   "cell_type": "code",
   "execution_count": 2,
   "metadata": {
    "id": "cdIUgzObalUp"
   },
   "outputs": [
    {
     "name": "stdout",
     "output_type": "stream",
     "text": [
      "00000000000000000000000000000001110000000111111111111111111111111100011110000111111101000000000000000\n"
     ]
    }
   ],
   "source": [
    "P = np.array(\n",
    "    [[0.8, 0.2], \n",
    "     [0.1, 0.9]]\n",
    ")\n",
    "X=generate_sequence(P)\n",
    "print(*X, sep='')"
   ]
  },
  {
   "cell_type": "markdown",
   "metadata": {
    "id": "eyedJHsprYJy"
   },
   "source": [
    "## Probability of a Sequence\n",
    "\n"
   ]
  },
  {
   "cell_type": "markdown",
   "metadata": {
    "id": "sIfGKWKZe4di"
   },
   "source": [
    "The probability of an observed state sequence $X=(X_1, X_2, \\ldots X_T)=X_{1:T}$ is an important quantity: \n",
    "\n",
    "$$\n",
    "Pr(X|P) = Pr(X_1) Pr(X_2|X_1) Pr(X_3|X_2) \\cdots Pr(X_T|X_{T-1})\n",
    "$$\n",
    "\n",
    "It may be used to classify a given observation $X$ as more or less likely to emerge from different models\n",
    "\n",
    "$$\n",
    "Pr(X|P_1) < Pr(X|P_2) \n",
    "$$"
   ]
  },
  {
   "cell_type": "markdown",
   "metadata": {
    "id": "bBwl-jB0hC54"
   },
   "source": [
    "**Group Task (20 min)**: Strange coins\n",
    "\n",
    "Your favorite casino seems to use very strange coins and you try 2 different Markov models to model the occurence of heads (0) and tails (1). The transition probabilities read \n",
    "$$\n",
    "P_1 = \\begin{bmatrix} \n",
    "0.2   &  0.8 \\\\ \n",
    "0.8   &  0.2 \n",
    "\\end{bmatrix} \n",
    "$$\n",
    "\n",
    "\\\n",
    "\n",
    "$$\n",
    "P_2 = \\begin{bmatrix} \n",
    "0.8   &  0.2 \\\\ \n",
    "0.8   &  0.2 \n",
    "\\end{bmatrix} \n",
    "$$\n",
    "\n",
    "You also assume that the initial probability for observing heads (0) or tails (1) is 50% in both cases.\n",
    "\n",
    "1. Give a verbal account of the model and contrast this with a fair dice.\n",
    "2. Complete the code block below to calculate the probability of the sequence $X=0010000011$ under your model. \n",
    "3. Can you calculate the probability for a fair dice analytically (with a simple formula)?\n",
    "4. Exchange the results with the other group and decide which model is more likely.\n"
   ]
  },
  {
   "cell_type": "code",
   "execution_count": 3,
   "metadata": {
    "id": "g51qgZ8xHr7d"
   },
   "outputs": [
    {
     "name": "stdout",
     "output_type": "stream",
     "text": [
      "t=0, x1=0, x2=0 P[s1,s2]=0.2\n",
      "t=1, x1=0, x2=1 P[s1,s2]=0.8\n",
      "t=2, x1=1, x2=0 P[s1,s2]=0.8\n",
      "t=3, x1=0, x2=0 P[s1,s2]=0.2\n",
      "t=4, x1=0, x2=0 P[s1,s2]=0.2\n",
      "t=5, x1=0, x2=0 P[s1,s2]=0.2\n",
      "t=6, x1=0, x2=0 P[s1,s2]=0.2\n",
      "t=7, x1=0, x2=1 P[s1,s2]=0.8\n",
      "t=8, x1=1, x2=1 P[s1,s2]=0.2\n",
      "prob (model)     = 1.6384000000000008e-05\n",
      "prob (fair dice) = 0.0009765625\n"
     ]
    }
   ],
   "source": [
    "#%%script echo Edit before executing\n",
    "X = [0,0,1,0,0,0,0,0,1,1]\n",
    "#X = [0,0,1,0,0,0,0,0,1,1,0,0,1,0,0,0,0,0,1,1]\n",
    "\n",
    "P = np.array([ [0.2, 0.8],\n",
    "               [0.8, 0.2] ])\n",
    "\n",
    "prob = 0.5                     # initial probability: P(x_1=0)\n",
    "# loop over all edges in chain \n",
    "for t in range(len(X)-1):\n",
    "        \n",
    "    x1= X[t]                   # current state\n",
    "    x2= X[t+1]                  # next state\n",
    "    \n",
    "    prob = prob*P[x1,x2]          # probability update\n",
    "\n",
    "    # you might want to print for debugging\n",
    "    print('t={}, x1={}, x2={} P[s1,s2]={}'.format(t,x1,x2, P[x1,x2]) )\n",
    "\n",
    "print('prob (model)     =', prob)\n",
    "print('prob (fair dice) =', 0.5**10)\n"
   ]
  },
  {
   "cell_type": "markdown",
   "metadata": {
    "id": "MGXxgpsQtf8h"
   },
   "source": [
    "**Follow up:** Duplicate (repeat) the sequence $X$ to obtain a new $X$ with twice the length?  What can you say about the probability?"
   ]
  },
  {
   "cell_type": "markdown",
   "metadata": {
    "id": "UDOiqK2ieDXs"
   },
   "source": [
    "**Messages**\n",
    "- Markov Models are probabilistic models: given the transition matrix $P$ we can calculate many interesting probabilities\n",
    "- More specifically: the probability of a given sequences. Decreases with sequence length - better use logs for long sequences!\n",
    "- Two approaches: Mathematical Treatment of stochastic matrices vs Numerical Simulations (algorithmic efficiency)"
   ]
  },
  {
   "cell_type": "markdown",
   "metadata": {
    "id": "xxXf-xyvN89Z"
   },
   "source": [
    "## counting occurrences"
   ]
  },
  {
   "cell_type": "code",
   "execution_count": 4,
   "metadata": {
    "id": "Bjew5NxYOCrW"
   },
   "outputs": [
    {
     "data": {
      "image/png": "[encoded data removed]",
      "text/plain": [
       "<Figure size 432x288 with 1 Axes>"
      ]
     },
     "metadata": {
      "needs_background": "light"
     },
     "output_type": "display_data"
    }
   ],
   "source": [
    "# define new transition matrix\n",
    "P = np.array( [[0.8, 0.2], [0.1, 0.9]] )\n",
    "np.random.seed(42)\n",
    "X = generate_sequence(P, s=0)\n",
    "\n",
    "states, counts = np.unique(X, return_counts=True)\n",
    "B = plt.bar(states.astype(str), counts, align='center', width=0.2)"
   ]
  },
  {
   "cell_type": "code",
   "execution_count": 5,
   "metadata": {},
   "outputs": [
    {
     "data": {
      "image/png": "[encoded data removed]",
      "text/plain": [
       "<Figure size 432x288 with 1 Axes>"
      ]
     },
     "metadata": {
      "needs_background": "light"
     },
     "output_type": "display_data"
    }
   ],
   "source": [
    "X = generate_sequence(P, s=1)\n",
    "\n",
    "states, counts = np.unique(X, return_counts=True)\n",
    "B = plt.bar(states.astype(str), counts, align='center', width=0.2)"
   ]
  },
  {
   "cell_type": "code",
   "execution_count": 6,
   "metadata": {},
   "outputs": [
    {
     "data": {
      "image/png": "[encoded data removed]",
      "text/plain": [
       "<Figure size 432x288 with 1 Axes>"
      ]
     },
     "metadata": {
      "needs_background": "light"
     },
     "output_type": "display_data"
    }
   ],
   "source": [
    "X = generate_sequence(P, s=0, T=10)\n",
    "\n",
    "states, counts = np.unique(X, return_counts=True)\n",
    "B = plt.bar(states.astype(str), counts, align='center', width=0.2)"
   ]
  },
  {
   "cell_type": "markdown",
   "metadata": {
    "id": "BCmuXb-EZZN1"
   },
   "source": [
    "**Task (5 min):** \n",
    "\n",
    "Repeat the above plot for different initial states s and different length of sequences. \n",
    "\n",
    "What do you observe?\n",
    "\n",
    "---\n"
   ]
  },
  {
   "cell_type": "markdown",
   "metadata": {
    "id": "kg9FQsbgYAXx"
   },
   "source": [
    "## Calculating higher order probabilities\n",
    "\n"
   ]
  },
  {
   "cell_type": "markdown",
   "metadata": {
    "id": "l8PLIggIpQey"
   },
   "source": [
    "A Markov Model is defined by all 1-step transition probabilities: $P_{ij}$ (for $i \\to j$). "
   ]
  },
  {
   "cell_type": "markdown",
   "metadata": {
    "id": "ikuledjoRgUC"
   },
   "source": [
    "What is the probability for transitions $i \\to j$ in 2 steps, 3 steps, ...t-steps?\n",
    "\n",
    "$$P_{ij}(t) = P(X_t = j | X_0 = i)$$"
   ]
  },
  {
   "cell_type": "markdown",
   "metadata": {
    "id": "LL1uJdIYiBW6"
   },
   "source": [
    "**Group task (15 min):**  Consider a specific case for the given $P$ above.\n",
    "Starting at $t=0$ in *state i=0*, what are the probabilities at time $t$\n",
    "\n",
    "Group 1:  to be in *state j=0*?\n",
    "\n",
    "Group 2:  to be in *state j=1*?\n",
    "\n",
    "In other words:  Group 1 $\\to$ Calculate $P_{00}(t)$. Group 2 $\\to$ Calculate $P_{01}(t)$.\n",
    "\n",
    "a) at time t=1 ?\n",
    "    \n",
    "b) at time t=2 ?\n",
    "\n",
    "**Hint:** Consider all paths that go from $i \\to j$ "
   ]
  },
  {
   "cell_type": "code",
   "execution_count": 7,
   "metadata": {
    "id": "-88xYRiOiBW6"
   },
   "outputs": [
    {
     "name": "stdout",
     "output_type": "stream",
     "text": [
      "P01(t=1):  0.2\n",
      "P01(t=2):  0.3400000000000001\n",
      "P00(t=2):  0.6600000000000001\n"
     ]
    }
   ],
   "source": [
    "#%%script echo Edit before executing\n",
    "\n",
    "P = np.array( [[0.8, 0.2],\n",
    "               [0.1, 0.9]] )\n",
    "np.random.seed(42)\n",
    "\n",
    "print('P01(t=1): ', 0.2 )\n",
    "print('P01(t=2): ', 0.8*0.2+0.2*0.9 )\n",
    "print('P00(t=2): ', 0.8*0.8+0.2*0.1 )\n",
    "\n"
   ]
  },
  {
   "cell_type": "markdown",
   "metadata": {
    "id": "Ju87QJrnmYwW"
   },
   "source": [
    "For larger $t$, these calculations can fast become cumbersome ..."
   ]
  },
  {
   "cell_type": "markdown",
   "metadata": {
    "id": "rHIuANrqDKaH"
   },
   "source": [
    "### Generalization and Simplification"
   ]
  },
  {
   "cell_type": "markdown",
   "metadata": {
    "id": "rzd27UXwR9C2"
   },
   "source": [
    "1. **Initialization:**  $P_{ij}(t=0) = \\delta_{ij}$\n",
    "2. **1-step probabilties:**  $P_{ij}(t=1) = P_{ij}$  (Definition of Markov Chain)\n",
    "3. **Recursion:** (marginalization over all states at time $t$)\n",
    "\n",
    "$$\n",
    "\\begin{align}\n",
    " Pr(X_{t+1}=j|X_0=i) &= \\sum_k Pr(X_{t+1}=j | X_t=k, X_0=i) \\cdot Pr(X_t=k|X_0=i) \\\\ \n",
    " &= \\sum_k Pr(X_{t+1}=j | X_t=k) \\cdot Pr(X_t=k|X_0=i) \\\\ \n",
    " P_{ij}(t+1) &= \\sum_k P_{kj} \\cdot P_{ik}(t) = (P^t)_{ij}\n",
    " \\end{align}\n",
    " $$\n",
    "\n",
    "\n",
    "$\\sum_k$ is the sum over all connections from state $k$ to $j$, and $p_{ik}(t)$ is the previous result over all possible pathways from $i$ to $k$ "
   ]
  },
  {
   "cell_type": "markdown",
   "metadata": {
    "id": "TGqgiBiAYrkH"
   },
   "source": [
    "The above is for the t-step transition matrix. \n",
    "For the probability distribution over states we have:\n",
    "\n",
    "$$\n",
    "\\begin{align}\n",
    " Pr(X_{t}=j) &= \\sum_k Pr(X_t=j | X_o=k) \\cdot Pr(X_0=k) \\\\ \n",
    "             &= \\sum_k P_{kj}(t) \\cdot Pr(X_0=k)\n",
    " \\end{align}\n",
    " $$\n",
    "\n",
    "**Simplification**: (in vector notation)\n",
    "\n",
    "$$\\pi(t) = \\pi(0) \\cdot P^t$$"
   ]
  },
  {
   "cell_type": "markdown",
   "metadata": {
    "id": "HnkleWlHFDCe"
   },
   "source": [
    "**Task (5min)**: Matrix Power\n",
    "\n",
    "Explore the function matrix_power() and apply this function to $P$ with an increasing value of $t$ "
   ]
  },
  {
   "cell_type": "code",
   "execution_count": 8,
   "metadata": {
    "id": "05D2BvLVFJus"
   },
   "outputs": [
    {
     "name": "stdout",
     "output_type": "stream",
     "text": [
      "P=\n",
      "[[0.8 0.2]\n",
      " [0.1 0.9]]\n",
      "step1 [[0.8 0.2]\n",
      " [0.1 0.9]]\n",
      "step2 [[0.66 0.34]\n",
      " [0.17 0.83]]\n",
      "step3 [[0.562 0.438]\n",
      " [0.219 0.781]]\n",
      "step4 [[0.4934 0.5066]\n",
      " [0.2533 0.7467]]\n",
      "step5 [[0.44538 0.55462]\n",
      " [0.27731 0.72269]]\n",
      "step6 [[0.411766 0.588234]\n",
      " [0.294117 0.705883]]\n",
      "step7 [[0.3882362 0.6117638]\n",
      " [0.3058819 0.6941181]]\n",
      "step8 [[0.37176534 0.62823466]\n",
      " [0.31411733 0.68588267]]\n",
      "step9 [[0.36023574 0.63976426]\n",
      " [0.31988213 0.68011787]]\n",
      "step10 [[0.35216502 0.64783498]\n",
      " [0.32391749 0.67608251]]\n",
      "step20 [[0.33386528 0.66613472]\n",
      " [0.33306736 0.66693264]]\n",
      "step30 [[0.33334836 0.66665164]\n",
      " [0.33332582 0.66667418]]\n",
      "step40 [[0.33333376 0.66666624]\n",
      " [0.33333312 0.66666688]]\n",
      "step50 [[0.33333335 0.66666665]\n",
      " [0.33333333 0.66666667]]\n",
      "step60 [[0.33333333 0.66666667]\n",
      " [0.33333333 0.66666667]]\n",
      "step70 [[0.33333333 0.66666667]\n",
      " [0.33333333 0.66666667]]\n",
      "step80 [[0.33333333 0.66666667]\n",
      " [0.33333333 0.66666667]]\n",
      "step90 [[0.33333333 0.66666667]\n",
      " [0.33333333 0.66666667]]\n",
      "step100 [[0.33333333 0.66666667]\n",
      " [0.33333333 0.66666667]]\n"
     ]
    }
   ],
   "source": [
    "#%%script echo Edit before executing\n",
    "from numpy.linalg import matrix_power\n",
    "print('P=')\n",
    "print(P)\n",
    "time_probs = {0:P}\n",
    "for i in range(1,10):\n",
    "    prob = matrix_power(P, i)\n",
    "    print(f'step{i}', prob)\n",
    "    time_probs[i]= prob\n",
    "for i in range(1,11):\n",
    "    prob = matrix_power(P, i*10)\n",
    "    print(f'step{i*10}', prob)\n",
    "    time_probs[i*10]= prob\n"
   ]
  },
  {
   "cell_type": "markdown",
   "metadata": {
    "id": "CHCFLR49iBW8"
   },
   "source": [
    "<div class=\"alert alert-block alert-warning\">\n",
    "\n",
    "**Task (10 min):** Deja-vu\n",
    "    \n",
    "Starting in state 0 at t=0, calculate the probabilities to be in state 1\n",
    "    \n",
    "a) at time t=1 ?\n",
    "    \n",
    "b) at time t=2 ?\n",
    "    \n",
    "c) at time t=20 ?\n",
    "\n",
    "Solve it using matrix multiplication: https://numpy.org/doc/stable/reference/generated/numpy.linalg.matrix_power.html\n",
    "    \n",
    "</div>"
   ]
  },
  {
   "cell_type": "code",
   "execution_count": 9,
   "metadata": {
    "id": "txhkVX4OiBW9"
   },
   "outputs": [
    {
     "name": "stdout",
     "output_type": "stream",
     "text": [
      "given that we have an 90% probability to start in state A and 10% chance to start in state B, \n",
      "we will end with a prob of in state \n",
      "      A   or   B\n",
      "[3.03809427 6.06190573]\n",
      "after20 steps\n"
     ]
    }
   ],
   "source": [
    "#%%script echo Edit before executing\n",
    "from numpy.linalg import matrix_power\n",
    "pi_0 = np.array([9.0, 0.1])       # initial probability\n",
    "\n",
    "t=20\n",
    "\n",
    "pi_t = pi_0.dot(matrix_power(P,t) ) # dot product of initial probability with P^t\n",
    "pi_t = np.dot(pi_0, matrix_power(P,t) ) # the same as line above but more clear\n",
    "print('given that we have an 90% probability to start in state A and 10% chance to start in state B, ')\n",
    "print('we will end with a prob of in state \\n      A   or   B')\n",
    "print(pi_t)\n",
    "print(f'after{t} steps')"
   ]
  },
  {
   "cell_type": "markdown",
   "metadata": {
    "id": "ALB14r_AiBW9"
   },
   "source": [
    "<div class=\"alert alert-block alert-warning\">\n",
    "\n",
    "**Task (5 min):** \n",
    "\n",
    "Repeat the above question with state 1 at t=0.\n",
    "\n",
    "    \n",
    "a) at time t=1 ?\n",
    "    \n",
    "b) at time t=2 ?\n",
    "    \n",
    "c) at time t=20 ?\n",
    "    \n",
    "\n",
    "**Extra:** Repeat the above with an uncertain state $\\pi=[0.5, 0.5]$\n",
    "    \n",
    "</div>"
   ]
  },
  {
   "cell_type": "markdown",
   "metadata": {
    "id": "yF7ffFIwONhz"
   },
   "source": [
    "**Question:** What is different?"
   ]
  },
  {
   "cell_type": "markdown",
   "metadata": {
    "id": "nPG6zB0VOM6u"
   },
   "source": [
    "**Lessons**: \n",
    "\n",
    "1. Importance of recursions\n",
    "1. Matrix multiplication is powerful tool (and easy with Python/Numpy)! \n",
    "2. Matrix powers of $(P^t)_{ij}$ give the t-step transition probabilities from $i$ to $j$ \n",
    "3. $\\pi(t) = \\pi(0) \\cdot P^t$ gives the state probability distribution at time $t$\n",
    "4. Important role of linear algebra, efficient algorithms and tools\n",
    "5. Convergence and Independence of Initial State "
   ]
  },
  {
   "cell_type": "markdown",
   "metadata": {
    "id": "TrSiWwiZyoaI"
   },
   "source": [
    "##### Long-time Properties\n",
    "\n",
    "Given this image of a Markov Chain, can you speculate on its long-time properties?\n",
    "\n",
    "<div>\n",
    "   <img src=\"https://github.com/thomasmanke/ABS/raw/main/figures/MC_AbsorbingGraph.jpg\",  align=left width=\"800\">\n",
    "</div>\n",
    "                                                                           The end state is called absorbing state!"
   ]
  },
  {
   "cell_type": "markdown",
   "metadata": {
    "id": "fvv08HRprAJn"
   },
   "source": [
    "**Task (5 min):** \n",
    "\n",
    "Let's test it numerically! Define the corresponding transition matrix $P$ and run the code cell below."
   ]
  },
  {
   "cell_type": "code",
   "execution_count": 10,
   "metadata": {
    "id": "wn5AuyJr4l_h"
   },
   "outputs": [
    {
     "name": "stdout",
     "output_type": "stream",
     "text": [
      "00122100112123333333333333333333333333333333333333333333333333333333333333333333333333333333333333333\n"
     ]
    },
    {
     "data": {
      "image/png": "[encoded data removed]",
      "text/plain": [
       "<Figure size 432x288 with 1 Axes>"
      ]
     },
     "metadata": {
      "needs_background": "light"
     },
     "output_type": "display_data"
    }
   ],
   "source": [
    "#%%script echo Edit before executing\n",
    "P= np.array([ [0.5, 0.5, 0.0, 0.0],\n",
    "              [0.2, 0.5, 0.3, 0.0],\n",
    "              [0.0, 0.3, 0.5, 0.2],\n",
    "              [0.0, 0.0, 0.0, 1.0]\n",
    "            ])\n",
    "\n",
    "X = generate_sequence(P)\n",
    "print(*X, sep='')\n",
    "\n",
    "states, counts = np.unique(X, return_counts=True)\n",
    "B = plt.bar(states.astype(str), counts, align='center', width=0.2)"
   ]
  },
  {
   "cell_type": "markdown",
   "metadata": {
    "id": "7cxOfxIDOFCC"
   },
   "source": [
    "**Task (5 min)**: What was the initial state? Modify the above code to chose a different initial state. How does the output change?"
   ]
  },
  {
   "cell_type": "markdown",
   "metadata": {
    "id": "9S0wQGfzSjoL"
   },
   "source": [
    "**Lesson:** Some Markov Chains (transition matrices) can have **absorbing states**. More generally there could be multiple absorbing states."
   ]
  },
  {
   "cell_type": "markdown",
   "metadata": {
    "id": "usoB9DLcTVBm"
   },
   "source": [
    "## Visualizating Matrix Powers"
   ]
  },
  {
   "cell_type": "markdown",
   "metadata": {
    "id": "tiPRxprJO4jh"
   },
   "source": [
    "Let's make the temporal analysis more visually pleasing."
   ]
  },
  {
   "cell_type": "code",
   "execution_count": 11,
   "metadata": {
    "id": "fe4GI9sHN3Nl"
   },
   "outputs": [
    {
     "data": {
      "image/png": "[encoded data removed]",
      "text/plain": [
       "<Figure size 720x360 with 6 Axes>"
      ]
     },
     "metadata": {
      "needs_background": "light"
     },
     "output_type": "display_data"
    }
   ],
   "source": [
    "from numpy.linalg import matrix_power\n",
    "fig, ax = plt.subplots(nrows=1, ncols=5, figsize=(10,5))\n",
    "i=0\n",
    "for t in [0,1,2,10,100]:\n",
    "  S=matrix_power(P,t)\n",
    "  im=ax[i].imshow(S, cmap=plt.cm.Blues)\n",
    "  ax[i].set_title(t)\n",
    "  i = i + 1\n",
    "\n",
    "cax = fig.add_axes([0.1, 0.2, 0.8, 0.05])\n",
    "fig.colorbar(im, cax=cax, orientation='horizontal')\n",
    "plt.show()"
   ]
  },
  {
   "cell_type": "markdown",
   "metadata": {
    "id": "bU3m_FwWVdEq"
   },
   "source": [
    "**Discussion**: What do we see here?"
   ]
  },
  {
   "cell_type": "markdown",
   "metadata": {
    "id": "Gnuf-rVhXhom"
   },
   "source": [
    "I'm proud of the above visualization, so let's make it a (slightly more flexible) function."
   ]
  },
  {
   "cell_type": "code",
   "execution_count": 12,
   "metadata": {
    "id": "9JeojLU5WUBV"
   },
   "outputs": [],
   "source": [
    "def plot_transition_matrix(P, tmax=100):\n",
    "\n",
    "  # some sanity checks\n",
    "  assert P.shape[0]==P.shape[1],         \"P should be a squared matrix\"\n",
    "  assert np.allclose( P.sum(axis=1), 1), \"P should be a stochastic matrix\"\n",
    "\n",
    "  fig, ax = plt.subplots(nrows=1, ncols=5, figsize=(10,5))\n",
    "  i=0\n",
    "  for t in [0,1,2,10,tmax]:\n",
    "    S=matrix_power(P,t)\n",
    "    im=ax[i].imshow(S, cmap=plt.cm.Blues)\n",
    "    ax[i].set_title(t)\n",
    "    i = i + 1\n",
    "  cax = fig.add_axes([0.1, 0.2, 0.8, 0.05])\n",
    "  fig.colorbar(im, cax=cax, orientation='horizontal')\n",
    "  plt.show()"
   ]
  },
  {
   "cell_type": "markdown",
   "metadata": {
    "id": "61AzM-xhTEAm"
   },
   "source": [
    "## Convergence Rate"
   ]
  },
  {
   "cell_type": "markdown",
   "metadata": {
    "id": "hq12GNa5Xsm9"
   },
   "source": [
    "**Task (10min):** Adjust parameters in $P$ to **delay convergence.**"
   ]
  },
  {
   "cell_type": "code",
   "execution_count": 13,
   "metadata": {
    "id": "TeZidQrLTHM4",
    "tags": []
   },
   "outputs": [
    {
     "data": {
      "image/png": "[encoded data removed]",
      "text/plain": [
       "<Figure size 720x360 with 6 Axes>"
      ]
     },
     "metadata": {
      "needs_background": "light"
     },
     "output_type": "display_data"
    }
   ],
   "source": [
    "#%%script echo Edit before executing\n",
    "P= np.array([ [1.0, 0.0, 0.0, 0.0],\n",
    "              [0.0, 1.0, 0.0, 0.0],\n",
    "              [0.0, 0.0, 1.0, 0.0],\n",
    "              [0.0, 0.0, 0.0, 1.0]\n",
    "            ])\n",
    "# the above has already reached convergence\n",
    "\n",
    "P= np.array([ [0.9, 0.1, 0.0, 0.0],\n",
    "              [0.1, 0.85, 0.05, 0.0],\n",
    "              [0.0, 0.45, 0.5, 0.05],\n",
    "              [0.0, 0.0, 0.0, 1.0]\n",
    "            ])\n",
    "\n",
    "plot_transition_matrix(P, 1000)"
   ]
  },
  {
   "cell_type": "markdown",
   "metadata": {
    "id": "_TTKNXwOGddO"
   },
   "source": [
    "## Multiple Absorbing States"
   ]
  },
  {
   "cell_type": "markdown",
   "metadata": {
    "id": "oJ7_a06PYqBZ"
   },
   "source": [
    "**Task (10min):** Adjust parameters in $P$ to create **two absorbing states.**"
   ]
  },
  {
   "cell_type": "code",
   "execution_count": 14,
   "metadata": {
    "id": "98ijgpVbZDUy"
   },
   "outputs": [
    {
     "data": {
      "image/png": "[encoded data removed]",
      "text/plain": [
       "<Figure size 720x360 with 6 Axes>"
      ]
     },
     "metadata": {
      "needs_background": "light"
     },
     "output_type": "display_data"
    }
   ],
   "source": [
    "#%%script echo Edit before executing\n",
    "P= np.array([ [1.0, 0.0, 0.0, 0.0],\n",
    "              [0.2, 0.5, 0.3, 0.0],\n",
    "              [0.0, 0.3, 0.5, 0.2],\n",
    "              [0.0, 0.0, 0.0, 1.0]\n",
    "            ])\n",
    "\n",
    "plot_transition_matrix(P, 100)"
   ]
  },
  {
   "cell_type": "markdown",
   "metadata": {
    "id": "QQ1Gz78oI1CG"
   },
   "source": [
    "## Stationary Distribution"
   ]
  },
  {
   "cell_type": "markdown",
   "metadata": {
    "id": "Ih0ca7uNYz1g"
   },
   "source": [
    "**Task (10min):** Adjust parameters in 𝑃 such that the Markov Chain has **no absorbing state**."
   ]
  },
  {
   "cell_type": "code",
   "execution_count": 15,
   "metadata": {
    "id": "NoWIaeSUZ1dY"
   },
   "outputs": [
    {
     "data": {
      "image/png": "[encoded data removed]",
      "text/plain": [
       "<Figure size 720x360 with 6 Axes>"
      ]
     },
     "metadata": {
      "needs_background": "light"
     },
     "output_type": "display_data"
    }
   ],
   "source": [
    "#%%script echo Edit before executing\n",
    "P= np.array([ [0.5, 0.5, 0.0, 0.0],\n",
    "              [0.2, 0.5, 0.3, 0.0],\n",
    "              [0.0, 0.3, 0.5, 0.2],\n",
    "              [0.1, 0.0, 0.0, 0.9]\n",
    "            ])\n",
    "\n",
    "plot_transition_matrix(P, 1000)"
   ]
  },
  {
   "cell_type": "markdown",
   "metadata": {
    "id": "zuTuFKdsbSM0"
   },
   "source": [
    "**Lesson:** The stationary state is independent from the initial state.\n",
    "\n",
    "\n",
    "**Notice:** \n",
    "\n",
    "- stationary distribution (sometimes called steady state distribution) **does not** mean that the states don't change, but that the probability distribution is constant over time (and independent of the initial state)\n",
    "- the power method is a simple but expensive way to determine the stationary distribution $\\pi$, but there are more effcient ways using the eigenvalue formulation\n",
    "$$\\pi = \\pi \\cdot P$$\n",
    "- this formula also exends the idea of the stationary distribution beyond the long-term behaviour of a Markov chain; a stationary distribution is a distribution that stays fixed after application of $P$ (regardless of whether it can be reached through an asymptotic process)\n",
    "- a Markov chain can have several stationary distributions\n",
    "- Many Markov chains have a unique stationary distribution and they are usually the most interesting/important ones. However, we need to be aware of - and protect against - other possibilities (see below)\n",
    "\n"
   ]
  },
  {
   "cell_type": "markdown",
   "metadata": {
    "id": "w1lCeb6drMzE"
   },
   "source": [
    "## Initial State Sensitivity"
   ]
  },
  {
   "cell_type": "code",
   "execution_count": 16,
   "metadata": {
    "id": "3k3ZAdhxrQuZ"
   },
   "outputs": [
    {
     "data": {
      "image/png": "[encoded data removed]",
      "text/plain": [
       "<Figure size 720x360 with 6 Axes>"
      ]
     },
     "metadata": {
      "needs_background": "light"
     },
     "output_type": "display_data"
    }
   ],
   "source": [
    "P=np.array([[1.0,0.0,0.0,0.0],\n",
    "            [0.3,0.4,0.3,0.0],\n",
    "            [0.0,0.0,0.5,0.5],\n",
    "            [0.0,0.0,0.5,0.5]])\n",
    "\n",
    "plot_transition_matrix(P, 1000)"
   ]
  },
  {
   "cell_type": "markdown",
   "metadata": {
    "id": "DxQfZ-tZ0Nrc"
   },
   "source": [
    "**Task (5 min)** Draw the corresponding graph and explain what is going on."
   ]
  },
  {
   "cell_type": "markdown",
   "metadata": {
    "id": "WYsQLs_grpCR"
   },
   "source": [
    "**Message:** Markov chain converges, but is sensitive to initial state.\n",
    "\n",
    "This is related to the structural properties of the Markov chain and accessibility of states."
   ]
  },
  {
   "cell_type": "markdown",
   "metadata": {
    "id": "NIS3MlbCn3vw"
   },
   "source": [
    "## Periodic States"
   ]
  },
  {
   "cell_type": "code",
   "execution_count": 17,
   "metadata": {
    "id": "gsxuvstVn6TH"
   },
   "outputs": [
    {
     "data": {
      "image/png": "[encoded data removed]",
      "text/plain": [
       "<Figure size 720x360 with 6 Axes>"
      ]
     },
     "metadata": {
      "needs_background": "light"
     },
     "output_type": "display_data"
    }
   ],
   "source": [
    "P=np.array([[0.0,1.0,0.0],\n",
    "            [0.5,0.0,0.5],\n",
    "            [0.0,1.0,0.0]])\n",
    "\n",
    "plot_transition_matrix(P, 11)"
   ]
  },
  {
   "cell_type": "markdown",
   "metadata": {
    "id": "EScwBo45qk-s"
   },
   "source": [
    "Often we want to avoid periodicity as another \"pathological\" condition.\n",
    "\n",
    "**Notice:** any self-transition ($P_{ii} \\ne 0$) will result in an aperiodic Markov chain."
   ]
  },
  {
   "cell_type": "markdown",
   "metadata": {
    "id": "GLDDDNttHZrZ"
   },
   "source": [
    "## Summary \n",
    "\n",
    "We have seen different possible behaviours of Markov chains\n",
    "1. convergence to unique state (stationary or absorbing)\n",
    "2. convergence to non-unique state: inital state sensitivity\n",
    "3. periodic behaviour\n",
    "\n",
    "\"Nice\" Markov chains are \"ergodic\" and \"non-periodic\""
   ]
  },
  {
   "cell_type": "markdown",
   "metadata": {
    "id": "idrA5RrcZ3mU"
   },
   "source": [
    "## Expected Times: Convergence and Return"
   ]
  },
  {
   "cell_type": "markdown",
   "metadata": {
    "id": "WJNT1vo7aE8f"
   },
   "source": [
    "### Convergence Time"
   ]
  },
  {
   "cell_type": "markdown",
   "metadata": {
    "id": "IoD6u3V74PiF"
   },
   "source": [
    "The convergence of a Markov chain $P$ to its stationary distribution $\\pi$ is a very important property. \n",
    "\n",
    "Starting from state $\\pi_0=(1, 0)$ the approximation to the stationary distribution\n",
    "is given by\n",
    "\n",
    "$$\n",
    "\\pi_t = \\pi_0 P^t\n",
    "$$\n",
    "\n",
    "The distance from the stationary distribution is given by the Euclidean norm\n",
    "$$\n",
    "\\delta(t) = ||\\pi_t - \\pi||\n",
    "$$\n",
    "NOTE: as an analogy the final steady state could be seen as the origin and the current state as a point on a coordinate system.\n",
    "We then calculate the distance of the point to the origin. The distance is this norm thingy.\n",
    "see also numpy: np.linalg.norm()"
   ]
  },
  {
   "cell_type": "markdown",
   "metadata": {
    "id": "FAqmWd3l55Be"
   },
   "source": [
    "**Task (10 min)**: \n",
    "\n",
    "Asymptotically the Markov chain defined by $P$ (above) has stationary distribution $\\pi=(1/3, 2/3)$. Calculate the distance of $\\delta(t)$ and plot it logarithmically against $t=1 \\ldots 50$."
   ]
  },
  {
   "cell_type": "code",
   "execution_count": 18,
   "metadata": {
    "id": "c6l2Finu0X3t"
   },
   "outputs": [
    {
     "data": {
      "image/png": "[encoded data removed]",
      "text/plain": [
       "<Figure size 432x288 with 1 Axes>"
      ]
     },
     "metadata": {
      "needs_background": "light"
     },
     "output_type": "display_data"
    }
   ],
   "source": [
    "#%%script echo Edit before executing\n",
    "from numpy.linalg import matrix_power\n",
    "\n",
    "P  = np.array([[0.8, 0.2],\n",
    "               [0.1,0.9]])  # transition matrix\n",
    "pi = np.array([1./3,\n",
    "               2./3])            # stationatry distribution\n",
    "T  = 50                                # maximal number of times\n",
    "\n",
    "pi_0 = np.array([1,0])\n",
    "\n",
    "\n",
    "dist = np.zeros(T)                     # initialize T distances\n",
    "for t in range(T):\n",
    "    pi_t = pi_0.dot(matrix_power(P,t) )       # hint: P^t\n",
    "#    pi_t = pi.dot(matrix_power(P,t) ) # converges to  the same, but shows stupid graph because we are in numerical precision land\n",
    "    dist[t] = np.linalg.norm(pi_t - pi)     # calculate distance --> hint: np.linag.norm\n",
    "#  print(pi_t, dist[t])\n",
    "\n",
    "plt.plot(dist)\n",
    "plt.yscale('log')\n",
    "plt.xlabel('time')\n",
    "plt.ylabel('distance from stationary')\n",
    "plt.show()\n"
   ]
  },
  {
   "cell_type": "markdown",
   "metadata": {
    "id": "UJ0lYpbq5iVT"
   },
   "source": [
    "**Message**: The convergence is exponential. The precise rate is controlled by matrix properties of $P$ (its eigenvalues)."
   ]
  },
  {
   "cell_type": "markdown",
   "metadata": {
    "id": "a7d-wT9JgaYV"
   },
   "source": [
    "### State Duration\n",
    "\n",
    "How long is the expected stay $E[t_i]$ in a given state $i$?"
   ]
  },
  {
   "cell_type": "markdown",
   "metadata": {
    "id": "Aic8mxrHgwEo"
   },
   "source": [
    "$$\n",
    "Pr(X_1=i, X_2=i, \\ldots X_{t}=i, X_{t+1} \\ne i) = p_{ii}^{t-1} (1-p_{ii}) \\equiv p_i(t) \\\\ \\\\\n",
    "E[t_i] = \\sum_{t=1}^\\infty t p_i(t) = (1-p_{ii}) \\sum_t t p_{ii}^{t-1} = \\frac{1}{1-p_{ii}}\n",
    "$$"
   ]
  },
  {
   "cell_type": "markdown",
   "metadata": {
    "id": "W_jl6iRbiQb2"
   },
   "source": [
    "**Task (10 min):** Define your favorite Markov Model (transition matrix) and generate a (sufficiently) long sequence from it. Pick a specific state $i$ and confirm the above formula. A simple helper function is provided below, but try to understand it."
   ]
  },
  {
   "cell_type": "code",
   "execution_count": 19,
   "metadata": {
    "id": "wYV1f6zIlJ0p"
   },
   "outputs": [],
   "source": [
    "def StateDuration(L, s=0):\n",
    "  # helper function to calculate the \"duration\" of a given element s in list L\n",
    "  # --> calculate the length of consecutive occurences\n",
    "  count=0\n",
    "  res=[]\n",
    "  for e in L:\n",
    "    if e==s:\n",
    "      count +=1\n",
    "    else:\n",
    "      if (count > 0):\n",
    "        res.append(count)\n",
    "      count=0\n",
    "\n",
    "  if (count>0):\n",
    "    res.append(count)\n",
    "  return res"
   ]
  },
  {
   "cell_type": "code",
   "execution_count": 20,
   "metadata": {
    "id": "1Q1vGS29iaKi"
   },
   "outputs": [
    {
     "name": "stdout",
     "output_type": "stream",
     "text": [
      "expected duration: 1.5015015015015016 average: 1.530612244897959\n",
      "expected duration: 2.0 average: 1.8125\n",
      "expected duration: 1.6666666666666667 average: 1.8061224489795917\n"
     ]
    }
   ],
   "source": [
    "#%%script echo Edit before executing\n",
    "P = np.array([ [0.334, 0.333, 0.333],\n",
    "               [0.25,  0.5,   0.25],\n",
    "               [0.35,  0.25,  0.4] ])  # chose transition matrix\n",
    "i=[0,1,2]                                   # chose states\n",
    "\n",
    "X=generate_sequence(P, T= 500 )\n",
    "\n",
    "for j in i:\n",
    "    exp = 1/(1-P[j,j]) # expected duration\n",
    "    res = StateDuration(X, s=j)\n",
    "    print('expected duration: {} average: {}'.format(exp, sum(res)/len(res)))"
   ]
  },
  {
   "cell_type": "markdown",
   "metadata": {
    "id": "UCPqgKSSgk2Y"
   },
   "source": [
    "# Parameter Estimation"
   ]
  },
  {
   "cell_type": "markdown",
   "metadata": {
    "id": "4rfKNz30To0V"
   },
   "source": [
    "Given transition rates $P_{ij}$ we can calculate (or simulate) many interesting quantities (path probabilities, stationary states, absorbing states, mixing times, ...).\n",
    "\n",
    "How can we estimate (learn) these model parameters?\n",
    "\n",
    "Frequency interpretation:\n",
    "\n",
    "$$\n",
    "P_{ij} = \\frac{N([X_i, X_j])} {N(X_i)}\n",
    "$$\n",
    "following should be more precise but confused me\n",
    "$$\n",
    "P_{ij} = \\frac{N_{ij}} {\\sum_{j}N_{ij}} \n",
    "$$\n",
    "Notice that this is analogous to how one would fit the parameters of a Gaussian model: $N(\\mu, \\sigma)$\n",
    "\n",
    "Remember: All models are wrong, some are useful."
   ]
  },
  {
   "cell_type": "markdown",
   "metadata": {
    "id": "qC3u7vVSIpbK"
   },
   "source": [
    "**Group Task (15 min):** Given a sequence of states. Complete the code below to obtain the parameters of the Markov Chain."
   ]
  },
  {
   "cell_type": "code",
   "execution_count": 42,
   "metadata": {
    "id": "pyqdq3oRJDBm"
   },
   "outputs": [
    {
     "name": "stdout",
     "output_type": "stream",
     "text": [
      "estimated transition matrix: \n",
      " [[0.  1. ]\n",
      " [0.5 0.5]]\n"
     ]
    }
   ],
   "source": [
    "#%%script echo Edit before executing\n",
    "import numpy as np\n",
    "X=[0,1,1,1,0,1,0]\n",
    "L= len(X)      # length of observed sequence\n",
    "N=2         # number of states \n",
    "\n",
    "P = np.zeros((N,N))\n",
    "#for observation in range(0, L-1):\n",
    "#    if X[observation] == 0 and X[observation+1] == 0:\n",
    "#        P[0,0] +=1\n",
    "#    if X[observation] == 0 and X[observation+1] == 1:\n",
    "#        P[0,1] +=1\n",
    "#    if X[observation] == 1 and X[observation+1] == 0:\n",
    "#        P[1,0] +=1\n",
    "#    if X[observation] == 1 and X[observation+1] == 1:\n",
    "#        P[1,1] +=1\n",
    "\n",
    "for t in range(0, L-1):\n",
    " #  current  next  state\n",
    "    P[X[t], X[t+1]] += 1\n",
    "\n",
    "#normalize rows\n",
    "P = P/np.sum(P,axis=1, keepdims=True)\n",
    "print('estimated transition matrix: \\n', P)"
   ]
  },
  {
   "cell_type": "markdown",
   "metadata": {
    "id": "9_MPVEXSR5Wz"
   },
   "source": [
    "**Question:** How would you estimate the intial probabiltiy?"
   ]
  }
 ],
 "metadata": {
  "colab": {
   "collapsed_sections": [
    "GLDDDNttHZrZ"
   ],
   "name": "MC_002_Properties.ipynb",
   "provenance": []
  },
  "kernelspec": {
   "display_name": "Python 3 (ipykernel)",
   "language": "python",
   "name": "python3"
  },
  "language_info": {
   "codemirror_mode": {
    "name": "ipython",
    "version": 3
   },
   "file_extension": ".py",
   "mimetype": "text/x-python",
   "name": "python",
   "nbconvert_exporter": "python",
   "pygments_lexer": "ipython3",
   "version": "3.9.5"
  }
 },
 "nbformat": 4,
 "nbformat_minor": 4
}
