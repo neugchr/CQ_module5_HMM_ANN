{
 "cells": [
  {
   "cell_type": "markdown",
   "metadata": {
    "id": "FkekGi6um5xh"
   },
   "source": [
    "[![Open In Colab](https://colab.research.google.com/assets/colab-badge.svg)](https://colab.research.google.com/github/thomasmanke/ABS/blob/main/Notebooks/MarkovChains/MC_001.ipynb)"
   ]
  },
  {
   "cell_type": "markdown",
   "metadata": {
    "id": "_BsqpSqVVbLs"
   },
   "source": [
    "# Markov Chain Applications\n",
    "\n"
   ]
  },
  {
   "cell_type": "markdown",
   "metadata": {
    "id": "inNVE0wBdfGU"
   },
   "source": [
    "Applications:\n",
    "- Models for real processes (weather, games, sequences, ...)\n",
    "- Hidden Markov Models (unobservable states)\n",
    "- Construct processes that converge to desired distributions $\\pi$ (MCMC) \n"
   ]
  },
  {
   "cell_type": "markdown",
   "metadata": {
    "id": "YdTb-khNmJjV"
   },
   "source": [
    "# Load Tools"
   ]
  },
  {
   "cell_type": "code",
   "execution_count": 1,
   "metadata": {
    "id": "4AP31G3kO7LK"
   },
   "outputs": [],
   "source": [
    "import numpy as np\n",
    "from numpy.linalg import matrix_power\n",
    "import matplotlib.pyplot as plt\n",
    "\n",
    "def plot_transition_matrix(P, tmax=100):\n",
    "\n",
    "  # some sanity checks\n",
    "  assert P.shape[0]==P.shape[1],         \"P should be a squared matrix\"\n",
    "  assert np.allclose( P.sum(axis=1), 1), \"P should be a stochastic matrix\"\n",
    "\n",
    "  fig, ax = plt.subplots(nrows=1, ncols=5, figsize=(10,5))\n",
    "  i=0\n",
    "  for t in [0,1,2,10,tmax]:\n",
    "    S=matrix_power(P,t)\n",
    "    im=ax[i].imshow(S, cmap=plt.cm.Blues)\n",
    "    ax[i].set_title(t)\n",
    "    i = i + 1\n",
    "  cax = fig.add_axes([0.1, 0.2, 0.8, 0.05])\n",
    "  fig.colorbar(im, cax=cax, orientation='horizontal')\n",
    "  plt.show()"
   ]
  },
  {
   "cell_type": "markdown",
   "metadata": {
    "id": "NBY8fd_iMU_G"
   },
   "source": [
    "# Famous Markov Chains"
   ]
  },
  {
   "cell_type": "markdown",
   "metadata": {
    "id": "gB78jo4RiBXA"
   },
   "source": [
    "## Random Walk (with boundary)\n"
   ]
  },
  {
   "cell_type": "markdown",
   "metadata": {
    "id": "TJdDuH1-iBXB"
   },
   "source": [
    "<div>\n",
    "   <img src=\"https://github.com/thomasmanke/ABS/raw/main/figures/MC_RandomWalk.png\",  align=left width=\"1000\">\n",
    "</div>"
   ]
  },
  {
   "cell_type": "markdown",
   "metadata": {
    "id": "qTbeGgLCiBXB"
   },
   "source": [
    "$p+q=1$"
   ]
  },
  {
   "cell_type": "markdown",
   "metadata": {
    "id": "1C2NI3MGremX"
   },
   "source": [
    "**Discussion:** What would the transition matrix look like?"
   ]
  },
  {
   "cell_type": "markdown",
   "metadata": {
    "id": "O9zFsRfDiBXB"
   },
   "source": [
    "## Drunkard's Walk\n",
    "\n",
    "<div>\n",
    "   <img src=\"https://github.com/thomasmanke/ABS/raw/main/figures/drunkards_walk.png\",  align=left width=\"1000\">\n",
    "</div>"
   ]
  },
  {
   "cell_type": "markdown",
   "metadata": {
    "id": "ipJFCzFXiBXB"
   },
   "source": [
    "**Task (15 min):**\n",
    "\n",
    "Write down the transition matrix and calculate the probabilities for each starting state that the drunkard will reach home"
   ]
  },
  {
   "cell_type": "code",
   "execution_count": 2,
   "metadata": {
    "id": "0aVtR0-M4YfI"
   },
   "outputs": [
    {
     "name": "stdout",
     "output_type": "stream",
     "text": [
      "convergence is reached after 53 steps\n"
     ]
    }
   ],
   "source": [
    "from numpy.linalg import matrix_power\n",
    "\n",
    "P = np.array(\n",
    "    [ [1,   0,   0,   0,   0],\n",
    "      [0.5, 0,   0.5, 0,   0],\n",
    "      [0,   0.5, 0,   0.5, 0],\n",
    "      [0,   0,   0.5, 0,   0.5],\n",
    "      [0,   0,   0,   0,   1]\n",
    "    ]\n",
    ")\n",
    "for t in range(1, 420):\n",
    "    matrix_1 = matrix_power(P,t)\n",
    "    matrix_2 = matrix_power(P,t+1)\n",
    "    if (np.allclose(matrix_1 - matrix_2, 0) ):\n",
    "        print(f'convergence is reached after {t} steps')\n",
    "        break"
   ]
  },
  {
   "cell_type": "markdown",
   "metadata": {
    "id": "xbdvv27rmyJ5"
   },
   "source": [
    "# Playing Cat & Mouse\n",
    "\n",
    "\n",
    "\n"
   ]
  },
  {
   "cell_type": "markdown",
   "metadata": {
    "id": "a8dXLvDm-196"
   },
   "source": [
    "**Group Task (30 min):**\n",
    "\n",
    "A mouse walks randomly around a house - with 5 connected rooms (see figure).\n",
    "At each time step the mouse will with equal probability stay in the room or walk through one of the doors.\n",
    "In Room 2 there is some cheese, so she'll never leave.\n",
    "In room 5 sits a hungry cat (who doesn't move) - but that would also be the end for our mouse.\n",
    "\n",
    "1. Define the corresponding Markov Model and its transition matrix.\n",
    "2. Assume that the mouse starts in room 1, what are the probabilities of finding her in the various rooms after 5 time steps\n",
    "3. Determine for each starting room the probabilities of the mouse ultimately reaching the cheese."
   ]
  },
  {
   "cell_type": "markdown",
   "metadata": {
    "id": "ZsbVSbcS-lZG"
   },
   "source": [
    "<div>\n",
    "   <img src=\"https://github.com/thomasmanke/ABS/raw/main/figures/MC_CatMouse.jpg\",  align=left width=\"200\">\n",
    "</div>"
   ]
  },
  {
   "cell_type": "code",
   "execution_count": 3,
   "metadata": {
    "colab": {
     "base_uri": "https://localhost:8080/",
     "height": 265
    },
    "executionInfo": {
     "elapsed": 597,
     "status": "ok",
     "timestamp": 1654637868115,
     "user": {
      "displayName": "Thomas Manke",
      "userId": "17591636328965298454"
     },
     "user_tz": -120
    },
    "id": "IOixkGOWnwgj",
    "outputId": "49263371-b37c-4cbf-d320-630e91a70380"
   },
   "outputs": [
    {
     "data": {
      "image/png": "[encoded data removed]",
      "text/plain": [
       "<Figure size 432x288 with 1 Axes>"
      ]
     },
     "metadata": {
      "needs_background": "light"
     },
     "output_type": "display_data"
    }
   ],
   "source": [
    "#%%script echo edit before execution\n",
    "P = np.array(\n",
    "    [ [1/3, 1/3, 1/3,   0, 0],\n",
    "      [0,   1,    0,      0, 0],\n",
    "      [1/3, 0,   1/3, 1/3, 0],\n",
    "      [0,   1/4, 1/4, 1/4, 1/4],\n",
    "      [0,   0,   0,    0,   1]\n",
    "    ] )\n",
    "\n",
    "\n",
    "# Visualization:\n",
    "# below is a code fragment to visualize a matrix S of probabilities\n",
    "# with rounded percentages added as text\n",
    "fig, ax = plt.subplots()\n",
    "im = ax.imshow(P, cmap=plt.cm.Blues)\n",
    "t = 5\n",
    "\n",
    "result_matrix = matrix_power(P,t)\n",
    "\n",
    "for i in range(5):\n",
    "  for j in range(5):\n",
    "    text = ax.text(j, i, np.round(100*result_matrix[i, j], 1),\n",
    "                   ha=\"center\", va=\"center\", color=\"black\")"
   ]
  },
  {
   "cell_type": "markdown",
   "metadata": {
    "id": "hpiVOK-1QXET"
   },
   "source": [
    "# Google PageRank"
   ]
  },
  {
   "cell_type": "markdown",
   "metadata": {
    "id": "714FroI3T_fw"
   },
   "source": [
    "Let's assume we have number of web pages that contain a specific search word, and those pages a *linked* by referring to each other.\n",
    "\n",
    "**Goal:** \n",
    "rank web pages by importance"
   ]
  },
  {
   "cell_type": "markdown",
   "metadata": {
    "id": "40GLFWWy0R4l"
   },
   "source": [
    "<div>\n",
    "   <img src=\"https://github.com/thomasmanke/ABS/raw/main/figures/MC_PageRank.jpg\",  align=left width=\"1000\">\n",
    "</div>"
   ]
  },
  {
   "cell_type": "markdown",
   "metadata": {
    "id": "71cpN9sSQdDw"
   },
   "source": [
    "\n",
    "\n",
    "**Problem:** number of links is not a good measure of importance (fake sites with millions of links)\n",
    "\n",
    "$$\n",
    "k_j = \\sum_i L_{ji}\n",
    "$$\n",
    "\n",
    "\n",
    "**Normalization:** \n",
    "link weights $P_{ji}$ are normalized by the outdegree $k_j$ of neighbouring node $j$\n",
    "\n",
    "$$\n",
    "P_{ji} = \\frac{L_{ji}}{ k_j }\n",
    "$$\n",
    "\n",
    "\n",
    "\n",
    "**Recursion Idea:** Important pages are pointed to by many important pages\n",
    "\n",
    "$$\n",
    "\\pi_i = \\sum_j \\pi_j P_{ji}\n",
    "$$\n"
   ]
  },
  {
   "cell_type": "markdown",
   "metadata": {
    "id": "xL1eRsCZZJpC"
   },
   "source": [
    "\n",
    "**A small modification:** add weak self-links and links where data is missing.\n",
    "This will make the matrix irreducible and aperiodic\n",
    "\n",
    "\n",
    "$$\n",
    "L \\to P \\to \\tilde{P} = \\frac{\\epsilon}{N} + (1-\\epsilon) P\n",
    "$$\n",
    "\n",
    "\n",
    "Notice that $\\tilde{P}$ is also Markov (stochastic)\n",
    "\n",
    "$$\n",
    "\\sum_{j=1}^N \\tilde{P}_{ij} = \\epsilon + (1 - \\epsilon) \\sum_{j=1}^N P_{ij} = \\epsilon + ( 1 - \\epsilon) = 1\n",
    "$$\n",
    "\n",
    "\n",
    "\n"
   ]
  },
  {
   "cell_type": "markdown",
   "metadata": {
    "id": "3HhznSpLTnn9"
   },
   "source": [
    "**Discussion:** How would you visualize this modification in the original figure above?"
   ]
  },
  {
   "cell_type": "markdown",
   "metadata": {
    "id": "zA8CVj55s66x"
   },
   "source": [
    "**Group Task (30 min):** Solving Google PageRank.\n",
    "\n",
    "Use the Markov Properties of the (modified) weight matrix to rank the nodes of the small illustrated network by their importance.\n",
    "\n",
    "Larry Page suggested to use: $\\epsilon=0.15$. "
   ]
  },
  {
   "cell_type": "code",
   "execution_count": 4,
   "metadata": {
    "id": "ABpv4WuMZQEB"
   },
   "outputs": [
    {
     "name": "stdout",
     "output_type": "stream",
     "text": [
      "number of states:  4\n",
      "P:\n",
      " [[0.  0.5 0.5 0. ]\n",
      " [0.  0.  1.  0. ]\n",
      " [1.  0.  0.  0. ]\n",
      " [0.  0.  1.  0. ]]\n",
      "rowsum(P): [1. 1. 1. 1.]\n",
      "Padj:\n",
      " [[0.0375 0.4625 0.4625 0.0375]\n",
      " [0.0375 0.0375 0.8875 0.0375]\n",
      " [0.8875 0.0375 0.0375 0.0375]\n",
      " [0.0375 0.0375 0.8875 0.0375]]\n",
      "rowsum(Padj): [1. 1. 1. 1.]\n"
     ]
    },
    {
     "data": {
      "image/png": "[encoded data removed]",
      "text/plain": [
       "<Figure size 720x360 with 6 Axes>"
      ]
     },
     "metadata": {
      "needs_background": "light"
     },
     "output_type": "display_data"
    },
    {
     "name": "stdout",
     "output_type": "stream",
     "text": [
      "stationary:\n",
      " [[0.37252685 0.19582391 0.39414924 0.0375    ]\n",
      " [0.37252685 0.19582391 0.39414924 0.0375    ]\n",
      " [0.37252685 0.19582391 0.39414924 0.0375    ]\n",
      " [0.37252685 0.19582391 0.39414924 0.0375    ]]\n"
     ]
    }
   ],
   "source": [
    "#%%script echo edit before execution\n",
    "L= np.array([\n",
    "    [0, 1, 1, 0],\n",
    "    [0, 0, 1, 0],\n",
    "    [1, 0, 0, 0],\n",
    "    [0, 0, 1, 0]])\n",
    "ns=L.shape[0]\n",
    "print('number of states: ', ns)\n",
    "\n",
    "# convert link matrix to transition probabilities\n",
    "P = L/L.sum(axis=1, keepdims=True) \n",
    "print('P:\\n', P)\n",
    "print('rowsum(P):', P.sum(axis=1))\n",
    "\n",
    "# adjust transition matrix\n",
    "eps= 0.15\n",
    "Padj = eps/ns + (1-eps)*P\n",
    "print('Padj:\\n', Padj)\n",
    "print('rowsum(Padj):', Padj.sum(axis=1))\n",
    "\n",
    "plot_transition_matrix(Padj)\n",
    "\n",
    "# get stationary distribution\n",
    "t=1000\n",
    "S= matrix_power(Padj,t)\n",
    "print('stationary:\\n', S)"
   ]
  },
  {
   "cell_type": "markdown",
   "metadata": {
    "id": "zcuMIeD-sIaS"
   },
   "source": [
    "**References:**\n",
    "\n",
    "- Elements of Statistical Learning (p. 577-578) (up to matrix transposition)\n",
    "- https://en.wikipedia.org/wiki/PageRank\n"
   ]
  },
  {
   "cell_type": "markdown",
   "metadata": {
    "id": "LLFIdOKdik7N"
   },
   "source": [
    "# Detecting a Loaded Coin (Skip)"
   ]
  },
  {
   "cell_type": "markdown",
   "metadata": {
    "id": "4E5qI_0nisrq"
   },
   "source": [
    "Coin flipping corresponds to a Markov chain where the states are the observed heads (0) and tails (1). \n",
    "\n",
    "For a fair coin we would expect a transition probability $P_F$ as given below.\n",
    "And a loaded coin may have a different matrix $P_L$\n",
    "\n",
    "$$\n",
    "P_F = \\begin{bmatrix} \n",
    "0.5   &  0.5 \\\\ \n",
    "0.5   &  0.5\n",
    "\\end{bmatrix} \n",
    "~~~\n",
    "P_L = \\begin{bmatrix} \n",
    "0.8   &  0.2 \\\\ \n",
    "0.8   &  0.2 \n",
    "\\end{bmatrix} \n",
    "$$\n",
    "\n",
    "Let's assume that these parameters have been determined by previous observations.\n",
    "\n",
    "**Question:** Given an observed sequence $X$ of coin tosses, is it more likely obtained from a fair or loaded coin.\n",
    "\n",
    "$$\n",
    "S = \\frac{Pr(P_L|X)}{Pr(P_F|X)}  <> 1 ?\n",
    "$$"
   ]
  },
  {
   "cell_type": "markdown",
   "metadata": {
    "id": "3mUmc_U5mjck"
   },
   "source": [
    "**Bayesian Argument:** Data update prior beliefs.\n",
    "\n",
    "$$\n",
    "\\log \\frac{Pr(P_L|X)}{Pr(P_F|X)}  = \\log \\frac{Pr(X|P_L)}{Pr(X|P_F)} \\frac{Pr(P_L)}{Pr(P_F)}\n",
    "$$\n",
    "\n",
    "\n",
    "**Notice:**\n",
    "\n",
    "$P(X|P_L)$ and $P(X|P_F)$ can be calculated as discussed in the previous section \n",
    "\n",
    "The logarithm is convenient and converts the product of probabilities into a sum of their logs.\n",
    "\n",
    "This classification also depends on the relative abundance of fair and loaded coins, i.e their prior probabilities $Pr(P_F)$ and $Pr(P_L)$.\n",
    "\n"
   ]
  },
  {
   "cell_type": "markdown",
   "metadata": {
    "id": "MhXtFoGfq_O_"
   },
   "source": [
    "**Task: (10 min)** Given the two coin models above (fair and loaded) and a coin sequence $HHTTTHH$ calculate the score and given an interpretation.\n",
    "For simplicity you may assume that the prior probabilities are identical."
   ]
  },
  {
   "cell_type": "code",
   "execution_count": 5,
   "metadata": {
    "colab": {
     "base_uri": "https://localhost:8080/"
    },
    "executionInfo": {
     "elapsed": 213,
     "status": "ok",
     "timestamp": 1654633173636,
     "user": {
      "displayName": "Thomas Manke",
      "userId": "17591636328965298454"
     },
     "user_tz": -120
    },
    "id": "S5g1Hoj-s7KH",
    "outputId": "f742580f-be55-4c40-b431-e785356460d6"
   },
   "outputs": [
    {
     "ename": "TypeError",
     "evalue": "'ellipsis' object cannot be interpreted as an integer",
     "output_type": "error",
     "traceback": [
      "\u001b[0;31m---------------------------------------------------------------------------\u001b[0m",
      "\u001b[0;31mTypeError\u001b[0m                                 Traceback (most recent call last)",
      "\u001b[0;32m/tmp/ipykernel_2307/4191615174.py\u001b[0m in \u001b[0;36m<module>\u001b[0;34m\u001b[0m\n\u001b[1;32m      5\u001b[0m \u001b[0;34m\u001b[0m\u001b[0m\n\u001b[1;32m      6\u001b[0m \u001b[0mscore\u001b[0m \u001b[0;34m=\u001b[0m \u001b[0;34m...\u001b[0m\u001b[0;34m\u001b[0m\u001b[0;34m\u001b[0m\u001b[0m\n\u001b[0;32m----> 7\u001b[0;31m \u001b[0;32mfor\u001b[0m \u001b[0mt\u001b[0m \u001b[0;32min\u001b[0m \u001b[0mrange\u001b[0m\u001b[0;34m(\u001b[0m\u001b[0mT\u001b[0m\u001b[0;34m)\u001b[0m\u001b[0;34m:\u001b[0m\u001b[0;34m\u001b[0m\u001b[0;34m\u001b[0m\u001b[0m\n\u001b[0m\u001b[1;32m      8\u001b[0m     \u001b[0mx1\u001b[0m\u001b[0;34m=\u001b[0m\u001b[0;34m...\u001b[0m                   \u001b[0;31m# current state\u001b[0m\u001b[0;34m\u001b[0m\u001b[0;34m\u001b[0m\u001b[0m\n\u001b[1;32m      9\u001b[0m     \u001b[0mx2\u001b[0m\u001b[0;34m=\u001b[0m\u001b[0;34m...\u001b[0m                 \u001b[0;31m# next state\u001b[0m\u001b[0;34m\u001b[0m\u001b[0;34m\u001b[0m\u001b[0m\n",
      "\u001b[0;31mTypeError\u001b[0m: 'ellipsis' object cannot be interpreted as an integer"
     ]
    }
   ],
   "source": [
    "P_F = np.array( [[0.5, 0.5], [0.5, 0.5]] )\n",
    "P_L = np.array( [[0.8, 0.2], [0.8, 0.2]] )\n",
    "S   = [0,0,1,1,1,0,0]\n",
    "T   = ...\n",
    "\n",
    "score = ...                    \n",
    "for t in range(T):\n",
    "    x1=...                   # current state\n",
    "    x2=...                 # next state\n",
    "    score = ...   \n",
    "    print('t={}, x1={}, x2={} P[s1,s2]={} {}'.format(t,x1,x2, P_L[x1,x2], P_F[x1,x2] ))\n",
    "\n",
    "print('score:', score)"
   ]
  },
  {
   "cell_type": "markdown",
   "metadata": {
    "id": "PII8xkuTe7hm"
   },
   "source": [
    "# Sequence Evolution: Jukes-Cantor"
   ]
  },
  {
   "cell_type": "markdown",
   "metadata": {
    "id": "F4WRXsoDj1Ny"
   },
   "source": [
    "The evolution of DNA sequences can be modeled as a Markov process with substitution rate $\\alpha$.\n",
    "\n",
    "State space: A=0, C=1, G=2, T=3.\n",
    "\n",
    "The transition matrix can be written as\n",
    "\n",
    "$$\n",
    "P = \\begin{bmatrix} \n",
    "\\delta   &  \\alpha & \\alpha  & \\alpha   \\\\ \n",
    "\\alpha   &  \\delta & \\alpha  & \\alpha    \\\\ \n",
    "\\alpha   &  \\alpha & \\delta  & \\alpha    \\\\ \n",
    "\\alpha   &  \\alpha & \\alpha  & \\delta    \\\\ \n",
    "\\end{bmatrix} \n",
    "$$"
   ]
  },
  {
   "cell_type": "markdown",
   "metadata": {
    "id": "Yz8fiqyIkzyB"
   },
   "source": [
    "**Group task (30 min):** \n",
    "\n",
    "For $P$ to be Markovian, what is the value for $\\delta$?\n",
    "\n",
    "What is the stationary distribution? Does it depend on $\\alpha$?\n",
    "\n",
    "Assuming an original nucleotide A in some sequence at time t=0. According to the Markov model, what is the probability of observing nucleotide A (or some other nucleotide X) in an evolved sequence at time $t$).\n",
    "\n",
    "2 evolved sequences: Consider an alignment of two related sequences that have diverged some time t ago. Assume we know that the ancestoral sequence had nucleotide \"A\" at some specific position. What is the probability of observing the mutated nucleotides \"C-G\" in their alignment at this position.  "
   ]
  },
  {
   "cell_type": "code",
   "execution_count": 6,
   "metadata": {
    "id": "fqtRVAV_d9yf"
   },
   "outputs": [
    {
     "data": {
      "image/png": "[encoded data removed]",
      "text/plain": [
       "<Figure size 432x288 with 1 Axes>"
      ]
     },
     "metadata": {
      "needs_background": "light"
     },
     "output_type": "display_data"
    }
   ],
   "source": [
    "#%%script echo edit before execution\n",
    "# chose a and d sensibly\n",
    "\n",
    "A=0\n",
    "C=1\n",
    "G=2\n",
    "T=3\n",
    "\n",
    "a=0.1\n",
    "d=1-3*a\n",
    "P=np.array([[d,a,a,a],\n",
    "            [a,d,a,a],\n",
    "            [a,a,d,a],\n",
    "            [a,a,a,d]])\n",
    "\n",
    "AA = []\n",
    "AX = []\n",
    "GC = []\n",
    "\n",
    "for t in range(20):\n",
    "    T = matrix_power(P,t)\n",
    "\n",
    "    AA.append(T[A,A])\n",
    "    AX.append(1-T[A,A])\n",
    "    GC.append(T[G,C])\n",
    "\n",
    "# plot\n",
    "plt.plot(AA)\n",
    "plt.plot(AX)\n",
    "plt.plot(GC)\n",
    "plt.show()"
   ]
  },
  {
   "cell_type": "markdown",
   "metadata": {
    "id": "eqJvolSol4xo"
   },
   "source": [
    "**Notice:** \n",
    "\n",
    "There are many extensions of the simple substitution model, that can account for different rates $A\\to G$ vs $A\\to C,T$ and for non-uniform stationary distribution."
   ]
  },
  {
   "cell_type": "markdown",
   "metadata": {},
   "source": [
    "Summary until this point:"
   ]
  },
  {
   "cell_type": "markdown",
   "metadata": {
    "id": "K2ZXC1CxW9LX"
   },
   "source": [
    "<div>\n",
    "   <img src=\"https://github.com/thomasmanke/ABS/raw/main/figures/MC_Summary.jpg\",  align=left width=\"1200\">\n",
    "</div>"
   ]
  }
 ],
 "metadata": {
  "colab": {
   "collapsed_sections": [
    "LLFIdOKdik7N"
   ],
   "name": "MC_003_Applications.ipynb",
   "provenance": []
  },
  "kernelspec": {
   "display_name": "Python 3 (ipykernel)",
   "language": "python",
   "name": "python3"
  },
  "language_info": {
   "codemirror_mode": {
    "name": "ipython",
    "version": 3
   },
   "file_extension": ".py",
   "mimetype": "text/x-python",
   "name": "python",
   "nbconvert_exporter": "python",
   "pygments_lexer": "ipython3",
   "version": "3.9.5"
  }
 },
 "nbformat": 4,
 "nbformat_minor": 4
}
